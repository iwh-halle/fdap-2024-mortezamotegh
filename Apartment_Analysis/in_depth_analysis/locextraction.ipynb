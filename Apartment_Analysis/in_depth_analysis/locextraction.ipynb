{
 "cells": [
  {
   "cell_type": "code",
   "execution_count": 17,
   "id": "dd5e6343-3199-4063-8b2a-63bdfd660413",
   "metadata": {},
   "outputs": [
    {
     "name": "stdout",
     "output_type": "stream",
     "text": [
      "{'Health Centers': [(52.47781, 13.3717015), (52.4858353, 13.42456), (52.5554121, 13.3703633), (52.5573634, 13.3752281), (52.5421518, 13.342863), (52.5260078, 13.3967138), (52.5356575, 13.3713474), (52.4620771, 13.3465501), (52.5133024, 13.4954295), (52.4590155, 13.3902159), (52.5202624, 13.2772976), (52.4792516, 13.2814545), (52.5709879, 13.4141205), (52.5222814, 13.2897238), (52.4803471, 13.3172076), (52.490483, 13.2918016), (52.5545167, 13.3637902), (52.4343409, 13.4578704), (52.4372561, 13.4588793), (52.478104, 13.3729563), (52.4896215, 13.3297327), (52.5088183, 13.2518888), (52.4939563, 13.4085942), (52.5554939, 13.4507113), (52.5350773, 13.3878055), (52.5505504, 13.4691304), (52.5257591, 13.3778766), (52.4324316, 13.326606), (52.5255323, 13.4394766), (52.5042123, 13.3641845), (52.4986384, 13.3446565), (52.5060328, 13.3452165), (52.5274201, 13.5095087), (52.4420418, 13.3208167)]}\n"
     ]
    }
   ],
   "source": [
    "import requests\n",
    "from geopy.geocoders import Nominatim\n",
    "\n",
    "# Initialize Nominatim API\n",
    "geolocator = Nominatim(user_agent=\"health_center_locator\")\n",
    "\n",
    "# Get the coordinates of Berlin\n",
    "location = geolocator.geocode(\"Berlin, Germany\")\n",
    "latitude = location.latitude\n",
    "longitude = location.longitude\n",
    "\n",
    "# Define the query to search for health centers\n",
    "query = \"health\"\n",
    "radius = 10000  # Search radius in meters\n",
    "\n",
    "# Use Overpass API to query OSM data\n",
    "overpass_url = \"http://overpass-api.de/api/interpreter\"\n",
    "overpass_query = f\"\"\"\n",
    "[out:json];\n",
    "(\n",
    "  node[\"amenity\"=\"hospital\"](around:{radius},{latitude},{longitude});\n",
    "  way[\"amenity\"=\"hospital\"](around:{radius},{latitude},{longitude});\n",
    "  relation[\"amenity\"=\"hospital\"](around:{radius},{latitude},{longitude});\n",
    ");\n",
    "out center;\n",
    "\"\"\"\n",
    "response = requests.get(overpass_url, params={'data': overpass_query})\n",
    "data = response.json()\n",
    "\n",
    "# Extract the locations\n",
    "health_centers = []\n",
    "for element in data['elements']:\n",
    "    if 'lat' in element and 'lon' in element:\n",
    "        health_centers.append((element['lat'], element['lon']))\n",
    "    elif 'center' in element:\n",
    "        health_centers.append((element['center']['lat'], element['center']['lon']))\n",
    "\n",
    "locations_of_interest = {'Health Centers': health_centers}\n",
    "\n",
    "print(locations_of_interest)"
   ]
  },
  {
   "cell_type": "code",
   "execution_count": 18,
   "id": "bbf90427-ab47-403d-b34a-0463e6a686cb",
   "metadata": {},
   "outputs": [
    {
     "name": "stdout",
     "output_type": "stream",
     "text": [
      "{'Low-crime Areas': [(52.4927826, 13.211003563907612), (52.4121651, 13.6619543), (52.493555, 13.4809321), (52.44418545, 13.590632196611466)]}\n"
     ]
    }
   ],
   "source": [
    "import pandas as pd\n",
    "from geopy.geocoders import Nominatim\n",
    "import time\n",
    "\n",
    "# Load the crime data\n",
    "file_path = r'C:\\Users\\morte\\Downloads\\University\\apartment_analysis\\crime\\Berlin_crimes.csv'  # Updated with the actual file path\n",
    "crime_data = pd.read_csv(file_path)\n",
    "\n",
    "# Calculate the total number of crimes per area\n",
    "crime_data['total_crimes'] = crime_data.iloc[:, 4:].sum(axis=1)\n",
    "\n",
    "# Define the low-crime threshold\n",
    "low_crime_threshold = 500\n",
    "\n",
    "# Filter the data to find low-crime areas\n",
    "low_crime_areas = crime_data[crime_data['total_crimes'] < low_crime_threshold]\n",
    "\n",
    "# Extract the unique locations of low-crime areas\n",
    "unique_low_crime_locations = low_crime_areas[['District', 'Location']].drop_duplicates()\n",
    "\n",
    "# Initialize the geolocator\n",
    "geolocator = Nominatim(user_agent=\"low_crime_locator\")\n",
    "\n",
    "# Function to get coordinates for a given location\n",
    "def get_coordinates(location):\n",
    "    try:\n",
    "        geocode_result = geolocator.geocode(location)\n",
    "        if geocode_result:\n",
    "            return (geocode_result.latitude, geocode_result.longitude)\n",
    "        else:\n",
    "            return None\n",
    "    except Exception as e:\n",
    "        print(f\"Error geocoding {location}: {e}\")\n",
    "        return None\n",
    "\n",
    "# Get coordinates for low-crime areas\n",
    "low_crime_coordinates_list = []\n",
    "for district, location in unique_low_crime_locations.values:\n",
    "    location_str = f\"{location}, {district}, Berlin, Germany\"\n",
    "    coordinates = get_coordinates(location_str)\n",
    "    if coordinates:\n",
    "        low_crime_coordinates_list.append(coordinates)\n",
    "    time.sleep(1)  # To avoid overwhelming the geocoding service\n",
    "\n",
    "# Create the dictionary with low-crime area coordinates\n",
    "locations_of_interest = {'Low-crime Areas': low_crime_coordinates_list}\n",
    "\n",
    "# Print the resulting dictionary\n",
    "print(locations_of_interest)\n"
   ]
  },
  {
   "cell_type": "code",
   "execution_count": 1,
   "id": "badb59b1-3d86-4c61-91ac-222ec0ca5dba",
   "metadata": {},
   "outputs": [
    {
     "name": "stdout",
     "output_type": "stream",
     "text": [
      "{'Cinemas': [(52.5343784, 13.3596231), (52.5839192, 13.2860048), (52.5417516, 13.5420275), (52.5129109, 13.4581955), (52.5258984, 13.4114358), (52.5385009, 13.2063427), (52.4620593, 13.5121795), (52.4769552, 13.3304523), (52.5488199, 13.4509296), (52.4669397, 13.3286196), (52.5354615, 13.2024584), (52.5067663, 13.3084282), (52.5377975, 13.6041151), (52.4899914, 13.4101466), (52.4819661, 13.4316965), (52.5364987, 13.4077602), (52.5240474, 13.4019658), (52.5245664, 13.4018422), (52.5015918, 13.4146103), (52.5006568, 13.4169229), (52.4863303, 13.3593976), (52.4930489, 13.3853593), (52.5803587, 13.401489), (52.4295254, 13.4554457), (52.5202013, 13.412224), (52.5525596, 13.4305846), (52.4903342, 13.4234006), (52.4774811, 13.439406), (52.5207515, 13.447355), (52.5336588, 13.4008151), (52.435842, 13.547897), (52.5040614, 13.4234804), (52.4787966, 13.4280286), (52.5086444, 13.3737448), (52.5361682, 13.6094676), (52.4834225, 13.4244236), (52.5095662, 13.3734177), (52.4641482, 13.3266521), (52.5364431, 13.2015024), (52.5383336, 13.2028074), (52.4896169, 13.4275386), (52.5118751, 13.4616485), (52.5290306, 13.4302735), (52.5044255, 13.3196567), (52.4837967, 13.4295458), (52.5060698, 13.3305818), (52.484682, 13.3200059), (52.5524434, 13.4195677), (52.4789837, 13.3293579), (52.5020922, 13.3249378), (52.5032512, 13.3300216), (52.5585816, 13.3395608), (52.5411004, 13.3849408), (52.4826985, 13.4419119), (52.5344522, 13.3600061), (52.4916642, 13.4330413), (52.4989962, 13.3427073), (52.5577272, 13.3851888), (52.5052642, 13.4418072), (52.5184355, 13.3975301), (52.5077791, 13.425995), (52.5294934, 13.413028), (52.5127376, 13.4405751), (52.5054322, 13.2993996), (52.529586, 13.3958605), (52.5087879, 13.3671829), (52.4603855, 13.5087287), (52.5437951, 13.3672393), (52.5478942, 13.4130423), (52.4769516, 13.3301926), (52.5549122, 13.3301973), (52.5561916, 13.4632714), (52.5060761, 13.334208), (52.5386059, 13.4141349), (52.5505706, 13.3510933), (52.4820458, 13.3496538), (52.5206367, 13.4230089), (52.4530263, 13.2868433), (52.5060496, 13.3285094), (52.4546988, 13.31739), (52.4319008, 13.259695), (52.4464652, 13.5073052), (52.4350134, 13.3449565), (52.4919733, 13.4586938), (52.5661854, 13.5089119), (52.4837152, 13.4163749), (41.6294434, -72.7430413), (52.4563142, 13.6259146), (52.4596064, 13.6237749), (42.3561986, -71.6137015), (52.5253343, 13.4355545), (52.5162598, 13.3774004)]}\n"
     ]
    }
   ],
   "source": [
    "import requests\n",
    "from geopy.geocoders import Nominatim\n",
    "import time\n",
    "\n",
    "# Define the Overpass API URL and the query to find cinemas in Berlin\n",
    "overpass_url = \"http://overpass-api.de/api/interpreter\"\n",
    "overpass_query = \"\"\"\n",
    "[out:json];\n",
    "area[name=\"Berlin\"]->.searchArea;\n",
    "(\n",
    "  node[\"amenity\"=\"cinema\"](area.searchArea);\n",
    "  way[\"amenity\"=\"cinema\"](area.searchArea);\n",
    "  relation[\"amenity\"=\"cinema\"](area.searchArea);\n",
    ");\n",
    "out center;\n",
    "\"\"\"\n",
    "\n",
    "# Send the request to the Overpass API\n",
    "response = requests.get(overpass_url, params={'data': overpass_query})\n",
    "data = response.json()\n",
    "\n",
    "# Extract the coordinates of cinemas\n",
    "cinema_coordinates = []\n",
    "for element in data['elements']:\n",
    "    if 'lat' in element and 'lon' in element:\n",
    "        cinema_coordinates.append((element['lat'], element['lon']))\n",
    "    elif 'center' in element:\n",
    "        cinema_coordinates.append((element['center']['lat'], element['center']['lon']))\n",
    "\n",
    "# Create the dictionary with cinema coordinates\n",
    "locations_of_interest = {'Cinemas': cinema_coordinates}\n",
    "\n",
    "# Print the resulting dictionary\n",
    "print(locations_of_interest)"
   ]
  }
 ],
 "metadata": {
  "kernelspec": {
   "display_name": "Python 3 (ipykernel)",
   "language": "python",
   "name": "python3"
  },
  "language_info": {
   "codemirror_mode": {
    "name": "ipython",
    "version": 3
   },
   "file_extension": ".py",
   "mimetype": "text/x-python",
   "name": "python",
   "nbconvert_exporter": "python",
   "pygments_lexer": "ipython3",
   "version": "3.12.4"
  }
 },
 "nbformat": 4,
 "nbformat_minor": 5
}
