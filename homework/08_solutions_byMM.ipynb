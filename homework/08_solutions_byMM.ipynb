{
 "cells": [
  {
   "cell_type": "markdown",
   "metadata": {},
   "source": [
    "## 1"
   ]
  },
  {
   "cell_type": "code",
   "execution_count": 1,
   "metadata": {},
   "outputs": [
    {
     "name": "stdout",
     "output_type": "stream",
     "text": [
      "Requirement already satisfied: requests in /home/codespace/.local/lib/python3.10/site-packages (2.31.0)\n",
      "Requirement already satisfied: charset-normalizer<4,>=2 in /home/codespace/.local/lib/python3.10/site-packages (from requests) (3.3.2)\n",
      "Requirement already satisfied: idna<4,>=2.5 in /home/codespace/.local/lib/python3.10/site-packages (from requests) (3.6)\n",
      "Requirement already satisfied: urllib3<3,>=1.21.1 in /usr/local/python/3.10.13/lib/python3.10/site-packages (from requests) (2.0.7)\n",
      "Requirement already satisfied: certifi>=2017.4.17 in /home/codespace/.local/lib/python3.10/site-packages (from requests) (2024.2.2)\n",
      "Note: you may need to restart the kernel to use updated packages.\n"
     ]
    }
   ],
   "source": [
    "pip install requests\n"
   ]
  },
  {
   "cell_type": "code",
   "execution_count": 3,
   "metadata": {},
   "outputs": [
    {
     "name": "stdout",
     "output_type": "stream",
     "text": [
      "Requirement already satisfied: pandas in /home/codespace/.local/lib/python3.10/site-packages (2.2.1)\n",
      "Requirement already satisfied: numpy<2,>=1.22.4 in /home/codespace/.local/lib/python3.10/site-packages (from pandas) (1.26.4)\n",
      "Requirement already satisfied: python-dateutil>=2.8.2 in /home/codespace/.local/lib/python3.10/site-packages (from pandas) (2.9.0.post0)\n",
      "Requirement already satisfied: pytz>=2020.1 in /home/codespace/.local/lib/python3.10/site-packages (from pandas) (2024.1)\n",
      "Requirement already satisfied: tzdata>=2022.7 in /home/codespace/.local/lib/python3.10/site-packages (from pandas) (2024.1)\n",
      "Requirement already satisfied: six>=1.5 in /home/codespace/.local/lib/python3.10/site-packages (from python-dateutil>=2.8.2->pandas) (1.16.0)\n",
      "Note: you may need to restart the kernel to use updated packages.\n"
     ]
    }
   ],
   "source": [
    "pip install pandas\n"
   ]
  },
  {
   "cell_type": "code",
   "execution_count": 4,
   "metadata": {},
   "outputs": [
    {
     "name": "stdout",
     "output_type": "stream",
     "text": [
      "                    date     open     high      low    close       volume\n",
      "0    2023-11-16 12:00:00  37269.5  37341.5  37063.5  37143.0   702.996477\n",
      "1    2023-11-16 13:00:00  37146.5  37172.5  36698.5  36785.5  1077.393283\n",
      "2    2023-11-16 14:00:00  36790.0  36870.0  36459.5  36715.0  1595.386815\n",
      "3    2023-11-16 15:00:00  36715.5  36922.5  36265.5  36422.5  1712.458595\n",
      "4    2023-11-16 16:00:00  36422.5  36657.5  36377.5  36581.0   730.468685\n",
      "...                  ...      ...      ...      ...      ...          ...\n",
      "4996 2024-06-11 16:00:00  66204.5  66717.0  66149.0  66455.0   369.201925\n",
      "4997 2024-06-11 17:00:00  66455.0  66787.5  66159.5  66755.5   200.067097\n",
      "4998 2024-06-11 18:00:00  66750.5  67212.0  66638.0  67110.5   330.080342\n",
      "4999 2024-06-11 19:00:00  67112.0  67579.5  67075.5  67391.5   392.342993\n",
      "5000 2024-06-11 20:00:00  67394.5  67500.0  67268.0  67275.0   114.942988\n",
      "\n",
      "[5001 rows x 6 columns]\n"
     ]
    }
   ],
   "source": [
    "import requests\n",
    "import time\n",
    "import pandas as pd\n",
    "\n",
    "def fetch_btc_perpetual_data():\n",
    "    # Endpoint URL\n",
    "    url = \"https://www.deribit.com/api/v2/public/get_tradingview_chart_data\"\n",
    "    \n",
    "    # Set the instrument name to BTC-PERPETUAL\n",
    "    instrument_name = \"BTC-PERPETUAL\"\n",
    "    # Set the resolution to 60 minutes\n",
    "    resolution = \"60\"\n",
    "    # Current time in milliseconds\n",
    "    end_timestamp = int(time.time()) * 1000\n",
    "    # Example start time: January 1, 2015 in milliseconds\n",
    "    start_timestamp = 1420070400000\n",
    "\n",
    "    # Parameters for the API call\n",
    "    params = {\n",
    "        \"instrument_name\": instrument_name,\n",
    "        \"resolution\": resolution,\n",
    "        \"start_timestamp\": start_timestamp,\n",
    "        \"end_timestamp\": end_timestamp\n",
    "    }\n",
    "\n",
    "    # Make the API request\n",
    "    response = requests.get(url, params=params)\n",
    "    \n",
    "    # Check if the request was successful\n",
    "    if response.status_code == 200:\n",
    "        # Convert response to JSON\n",
    "        data = response.json()\n",
    "        # Load data into a pandas DataFrame\n",
    "        df = pd.DataFrame(data['result'])\n",
    "        # Convert timestamps to readable dates\n",
    "        df['date'] = pd.to_datetime(df['ticks'], unit='ms')\n",
    "        # Select relevant columns to display\n",
    "        df = df[['date', 'open', 'high', 'low', 'close', 'volume']]\n",
    "        # Print the DataFrame in a tabular format\n",
    "        print(df)\n",
    "    else:\n",
    "        print(f\"Failed to fetch data: {response.status_code}\")\n",
    "\n",
    "# Run the function\n",
    "fetch_btc_perpetual_data()\n"
   ]
  },
  {
   "cell_type": "markdown",
   "metadata": {},
   "source": [
    "## 2"
   ]
  }
 ],
 "metadata": {
  "kernelspec": {
   "display_name": "Python 3",
   "language": "python",
   "name": "python3"
  },
  "language_info": {
   "codemirror_mode": {
    "name": "ipython",
    "version": 3
   },
   "file_extension": ".py",
   "mimetype": "text/x-python",
   "name": "python",
   "nbconvert_exporter": "python",
   "pygments_lexer": "ipython3",
   "version": "3.10.13"
  }
 },
 "nbformat": 4,
 "nbformat_minor": 2
}
