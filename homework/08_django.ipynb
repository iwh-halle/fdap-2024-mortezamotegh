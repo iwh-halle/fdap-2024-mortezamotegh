{
 "cells": [
  {
   "attachments": {},
   "cell_type": "markdown",
   "metadata": {},
   "source": [
    "![head.png](https://github.com/cafawo/FinancialDataAnalytics/blob/master/figures/head.jpg?raw=1)\n",
    "\n",
    "# Financial Data Analytics in Python\n",
    "\n",
    "**Prof. Dr. Fabian Woebbeking**</br>\n",
    "Assistant Professor of Financial Economics\n",
    "\n",
    "IWH - Leibniz Institute for Economic Research</br>\n",
    "MLU - Martin Luther University Halle-Wittenberg\n",
    "\n",
    "fabian.woebbeking@iwh-halle.de"
   ]
  },
  {
   "attachments": {},
   "cell_type": "markdown",
   "metadata": {},
   "source": [
    "# Homework: Django (web-framework)\n",
    "\n",
    "You will need a Git/GitHub repository to submit your course deliverables. Consult [**slides.ipynb**](https://github.com/cafawo/FinancialDataAnalytics) for help with the tasks below! If you need further assistance, do not hesitate to open a Q&A at https://github.com/cafawo/FinancialDataAnalytics/discussions"
   ]
  },
  {
   "attachments": {},
   "cell_type": "markdown",
   "metadata": {},
   "source": [
    "### Task:\n",
    "\n",
    "Use Deribit's `\"/public/get_tradingview_chart_data\"` API endpoint to download historical price data for **\"BTC-PERPETUAL\"** with a resolution of $60$ minutes, reaching as far back as possible.\n",
    "\n",
    "Hint: https://docs.deribit.com/#public-get_tradingview_chart_data"
   ]
  },
  {
   "cell_type": "markdown",
   "metadata": {},
   "source": [
    "### Task:\n",
    "\n",
    "Create a new Django project (or clone https://github.com/cafawo/StudySnips).\n",
    "\n",
    "Ad an \"api/deribit/\" endpoint to your project. This means that you need to modify **view.py** by adding a function to download the data and `return JsonResponse(data, safe=False)`. Also add the endpoint to **urls.py**.\n",
    "\n",
    "Hint: You can serve data directly through view.py, i.e. you do not need any data base model (models.py) to solve this task."
   ]
  },
  {
   "cell_type": "markdown",
   "metadata": {},
   "source": [
    "### Task:\n",
    "\n",
    "Add a Chart.js object to display your Deribit data. You could start by modifying https://github.com/cafawo/StudySnips.git. You will need a template (chart.html) as well as modifications to view.py and urls.py - have a look at the slides."
   ]
  }
 ],
 "metadata": {
  "kernelspec": {
   "display_name": "Python 3 (ipykernel)",
   "language": "python",
   "name": "python3"
  },
  "language_info": {
   "codemirror_mode": {
    "name": "ipython",
    "version": 3
   },
   "file_extension": ".py",
   "mimetype": "text/x-python",
   "name": "python",
   "nbconvert_exporter": "python",
   "pygments_lexer": "ipython3",
   "version": "3.8.10"
  }
 },
 "nbformat": 4,
 "nbformat_minor": 2
}
