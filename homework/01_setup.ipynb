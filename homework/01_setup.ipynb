{
 "cells": [
  {
   "cell_type": "markdown",
   "metadata": {},
   "source": [
    "### Task: stage + commit + push = **submit**\n",
    "\n",
    "For this task, you need to make some changes to your Git repository. Remember, Git is a blockchain of commits, i.e., incremental changes to your repository - without changes, life is pretty boring in the Git world. How about using the empty code cell below to print \"Hello World!\"."
   ]
  },
  {
   "cell_type": "markdown",
   "metadata": {},
   "source": [
    "![head.png](https://github.com/iwh-halle/FinancialDataAnalytics/blob/master/figures/head.jpg?raw=1)\n",
    "\n",
    "# Financial Data Analytics in Python\n",
    "\n",
    "**Prof. Dr. Fabian Woebbeking**</br>\n",
    "Assistant Professor of Financial Economics\n",
    "\n",
    "IWH - Leibniz Institute for Economic Research</br>\n",
    "MLU - Martin Luther University Halle-Wittenberg\n",
    "\n",
    "fabian.woebbeking@iwh-halle.de"
   ]
  },
  {
   "cell_type": "markdown",
   "metadata": {},
   "source": [
    "# Homework\n",
    "\n",
    "You will need a Git repository to submit your course deliverables. Consult [**slides.ipynb**](https://github.com/iwh-halle/FinancialDataAnalytics) for help with the tasks below!"
   ]
  },
  {
   "cell_type": "markdown",
   "metadata": {},
   "source": [
    "### Task: Install Python and Git*\n",
    "\n",
    "If you use Git and/or Python already, you can skip this task. If not, I recommend:\n",
    "\n",
    "* Python: https://www.anaconda.com/products/distribution\n",
    "* Git (choose one of the two methods):\n",
    "    * https://git-scm.com/downloads\n",
    "    * https://anaconda.org/anaconda/git"
   ]
  },
  {
   "cell_type": "markdown",
   "metadata": {},
   "source": [
    "### Task: GitHub\n",
    "\n",
    "* Create a GitHub account (if you do not have one already).\n",
    "* I highly recommend that you apply for (free) student benefits at https://education.github.com/benefits"
   ]
  },
  {
   "attachments": {},
   "cell_type": "markdown",
   "metadata": {},
   "source": [
    "### Task: Create your own GitHub Classroom repository\n",
    "\n",
    "Classroom link: https://classroom.github.com/a/SAilgt2b\n",
    "   \n",
    "\n",
    "![newrepository.png](https://github.com/iwh-halle/FinancialDataAnalytics/blob/master/figures/newrepository.png?raw=1)"
   ]
  },
  {
   "cell_type": "markdown",
   "metadata": {},
   "source": [
    "### Task: Clone your newly created repository or open it in GitHub Codespaces\n",
    "\n",
    "```Bash\n",
    "git clone https://github.com/iwh-halle/fdap-2024-[YourGitHubAccount].git\n",
    "```"
   ]
  },
  {
   "cell_type": "code",
   "execution_count": 2,
   "metadata": {},
   "outputs": [
    {
     "name": "stdout",
     "output_type": "stream",
     "text": [
      "Hello world!\n"
     ]
    }
   ],
   "source": [
    "print(\"Hello world!\")"
   ]
  },
  {
   "cell_type": "markdown",
   "metadata": {},
   "source": [
    "Now, with your changes made to the repository, commit your local changes to git.\n",
    "\n",
    "```Bash\n",
    "git add *  # stage\n",
    "git commit -m \"Add first homework assignment\"  # commit\n",
    "```\n",
    "\n",
    "Your local commit can now be pushed to the remote repository.\n",
    "\n",
    "```Bash\n",
    "git push  # push\n",
    "```\n",
    "\n",
    "You should now see you changes on GitHub: https://github.com/iwh-halle/fdap-2024-[YourGitHubAccount]. **Always make sure that your changes have been pushed to this remote repository - local changes (e.g. in Codespaces) alone are not sufficient.**\n",
    "\n"
   ]
  },
  {
   "cell_type": "markdown",
   "metadata": {},
   "source": [
    "## Heads up!\n",
    "\n",
    "The course repository is evolving; for example, new slides and homework assignments will be added. Therefore, your own repository will certainly become out of sync. To address this, you should regularly synchronize your repository by clicking the \"Sync fork\" > \"Update branch\" button (see below). However, **never, ever press the red \"Destroy all my work\" button, also known as \"Discard # commits\"**. This button acts as a without-warning kill switch and is currently a significant and yet to be fixed flaw of GitHub, see e.g. this [LIST](https://github.com/orgs/community/discussions/46271) of angry people.\n",
    "\n",
    "![newrepository.png](https://github.com/iwh-halle/FinancialDataAnalytics/blob/master/figures/sync_fork.png?raw=1)"
   ]
  }
 ],
 "metadata": {
  "kernelspec": {
   "display_name": "Python 3 (ipykernel)",
   "language": "python",
   "name": "python3"
  },
  "language_info": {
   "codemirror_mode": {
    "name": "ipython",
    "version": 3
   },
   "file_extension": ".py",
   "mimetype": "text/x-python",
   "name": "python",
   "nbconvert_exporter": "python",
   "pygments_lexer": "ipython3",
   "version": "3.10.13"
  }
 },
 "nbformat": 4,
 "nbformat_minor": 2
}
