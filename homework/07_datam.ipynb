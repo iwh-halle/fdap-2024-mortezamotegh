{
 "cells": [
  {
   "attachments": {},
   "cell_type": "markdown",
   "metadata": {},
   "source": [
    "![head.png](https://github.com/cafawo/FinancialDataAnalytics/blob/master/figures/head.jpg?raw=1)\n",
    "\n",
    "# Financial Data Analytics in Python\n",
    "\n",
    "**Prof. Dr. Fabian Woebbeking**</br>\n",
    "Assistant Professor of Financial Economics\n",
    "\n",
    "IWH - Leibniz Institute for Economic Research</br>\n",
    "MLU - Martin Luther University Halle-Wittenberg\n",
    "\n",
    "fabian.woebbeking@iwh-halle.de"
   ]
  },
  {
   "attachments": {},
   "cell_type": "markdown",
   "metadata": {},
   "source": [
    "# Homework: data management\n",
    "\n",
    "You will need a Git/GitHub repository to submit your course deliverables. Consult [**slides.ipynb**](https://github.com/cafawo/FinancialDataAnalytics) for help with the tasks below! If you need further assistance, do not hesitate to open a Q&A at https://github.com/cafawo/FinancialDataAnalytics/discussions"
   ]
  },
  {
   "attachments": {},
   "cell_type": "markdown",
   "metadata": {},
   "source": [
    "### Task: \n",
    "\n",
    "Use Deribit's `\"/public/get_tradingview_chart_data\"` API endpoint to download historical price data for **\"BTC-PERPETUAL\"** with a resolution of $60$ minutes, reaching as far back as possible.\n",
    "\n",
    "Hint: https://docs.deribit.com/#public-get_tradingview_chart_data"
   ]
  },
  {
   "attachments": {},
   "cell_type": "markdown",
   "metadata": {},
   "source": [
    "### Task: \n",
    "\n",
    "Create a Pandas data frame called \"ohlc\" with the price data from above. Add the following columns:\n",
    "```Python\n",
    "ohlc['timestamp'] = pd.to_datetime(ohlc['ticks'], unit='ms')\n",
    "ohlc['instrument_name'] = \"BTC-PERPETUAL\"\n",
    "ohlc['resolution'] = 60\n",
    "```\n",
    "\n",
    "Save `ohlc` into a table of the same name inside a database called \"07_datam.db\".\n"
   ]
  },
  {
   "attachments": {},
   "cell_type": "markdown",
   "metadata": {},
   "source": [
    "### Task: \n",
    "\n",
    "Create a Python `class DataHandler` that connects to 07_datam.db. The class should have functions that:\n",
    "* download and save,\n",
    "* select and return, and\n",
    "* display data as a plot (e.g. the last price over time)."
   ]
  }
 ],
 "metadata": {
  "kernelspec": {
   "display_name": "Python 3 (ipykernel)",
   "language": "python",
   "name": "python3"
  },
  "language_info": {
   "codemirror_mode": {
    "name": "ipython",
    "version": 3
   },
   "file_extension": ".py",
   "mimetype": "text/x-python",
   "name": "python",
   "nbconvert_exporter": "python",
   "pygments_lexer": "ipython3",
   "version": "3.8.10"
  }
 },
 "nbformat": 4,
 "nbformat_minor": 2
}
