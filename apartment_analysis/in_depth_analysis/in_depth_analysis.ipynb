{
 "cells": [
  {
   "cell_type": "markdown",
   "id": "f6c2b3fe-f29d-4bac-ac1f-0403d90c6f78",
   "metadata": {},
   "source": [
    "# Determinants of Urban House Prices : Evidence from Berlin\n",
    "\n",
    "as part of the course **Financial Data Analytics in Python**  \n",
    "**Prof. Dr. Fabian Woebbeking**\n",
    "\n",
    "\n",
    "Submitted by : **Morteza Motegh (222235729)**  \n",
    "MLU - Martin Luther University Halle-Wittenberg\n",
    "\n",
    "morteza.motegh@student.uni-halle.dealle.de"
   ]
  },
  {
   "cell_type": "markdown",
   "id": "c16e48c6-a9f4-4424-834a-9a6a63864743",
   "metadata": {},
   "source": [
    "### Using Geopy to Analyze the Correlation Between Location Features and Rental Prices in Berlin"
   ]
  },
  {
   "cell_type": "code",
   "execution_count": 2,
   "id": "77056710-fc99-4c36-8a72-a1fc0241537e",
   "metadata": {},
   "outputs": [
    {
     "name": "stdout",
     "output_type": "stream",
     "text": [
      "Collecting geopy\n",
      "  Downloading geopy-2.4.1-py3-none-any.whl.metadata (6.8 kB)\n",
      "Requirement already satisfied: numpy in /home/codespace/.local/lib/python3.10/site-packages (1.26.4)\n",
      "Collecting geographiclib<3,>=1.52 (from geopy)\n",
      "  Downloading geographiclib-2.0-py3-none-any.whl.metadata (1.4 kB)\n",
      "Downloading geopy-2.4.1-py3-none-any.whl (125 kB)\n",
      "\u001b[2K   \u001b[90m━━━━━━━━━━━━━━━━━━━━━━━━━━━━━━━━━━━━━━━━\u001b[0m \u001b[32m125.4/125.4 kB\u001b[0m \u001b[31m4.0 MB/s\u001b[0m eta \u001b[36m0:00:00\u001b[0m\n",
      "\u001b[?25hDownloading geographiclib-2.0-py3-none-any.whl (40 kB)\n",
      "\u001b[2K   \u001b[90m━━━━━━━━━━━━━━━━━━━━━━━━━━━━━━━━━━━━━━━━\u001b[0m \u001b[32m40.3/40.3 kB\u001b[0m \u001b[31m1.2 MB/s\u001b[0m eta \u001b[36m0:00:00\u001b[0m\n",
      "\u001b[?25h"
     ]
    },
    {
     "name": "stdout",
     "output_type": "stream",
     "text": [
      "Installing collected packages: geographiclib, geopy\n",
      "Successfully installed geographiclib-2.0 geopy-2.4.1\n",
      "\n",
      "\u001b[1m[\u001b[0m\u001b[34;49mnotice\u001b[0m\u001b[1;39;49m]\u001b[0m\u001b[39;49m A new release of pip is available: \u001b[0m\u001b[31;49m24.0\u001b[0m\u001b[39;49m -> \u001b[0m\u001b[32;49m24.1.2\u001b[0m\n",
      "\u001b[1m[\u001b[0m\u001b[34;49mnotice\u001b[0m\u001b[1;39;49m]\u001b[0m\u001b[39;49m To update, run: \u001b[0m\u001b[32;49mpython -m pip install --upgrade pip\u001b[0m\n",
      "Note: you may need to restart the kernel to use updated packages.\n"
     ]
    }
   ],
   "source": [
    "pip install geopy numpy"
   ]
  },
  {
   "cell_type": "code",
   "execution_count": 5,
   "id": "53e7ff63-a4c8-426e-b58b-bb12c0377d0f",
   "metadata": {},
   "outputs": [
    {
     "data": {
      "text/html": [
       "<div>\n",
       "<style scoped>\n",
       "    .dataframe tbody tr th:only-of-type {\n",
       "        vertical-align: middle;\n",
       "    }\n",
       "\n",
       "    .dataframe tbody tr th {\n",
       "        vertical-align: top;\n",
       "    }\n",
       "\n",
       "    .dataframe thead th {\n",
       "        text-align: right;\n",
       "    }\n",
       "</style>\n",
       "<table border=\"1\" class=\"dataframe\">\n",
       "  <thead>\n",
       "    <tr style=\"text-align: right;\">\n",
       "      <th></th>\n",
       "      <th>Title</th>\n",
       "      <th>WG Type</th>\n",
       "      <th>City/District</th>\n",
       "      <th>Street</th>\n",
       "      <th>Price</th>\n",
       "      <th>Availability</th>\n",
       "      <th>Size</th>\n",
       "      <th>Owner</th>\n",
       "      <th>Online Duration</th>\n",
       "      <th>Postal Code</th>\n",
       "      <th>Section</th>\n",
       "      <th>Health Centers Proximity</th>\n",
       "      <th>Low-crime Areas Proximity</th>\n",
       "      <th>Berlin Hauptbahnhof Proximity</th>\n",
       "      <th>Berlin Brandenburg Airport Proximity</th>\n",
       "      <th>Cinemas Proximity</th>\n",
       "    </tr>\n",
       "  </thead>\n",
       "  <tbody>\n",
       "    <tr>\n",
       "      <th>1</th>\n",
       "      <td>Zimmer in großem Haus zu vermieten ggf. mit Ga...</td>\n",
       "      <td>3.0</td>\n",
       "      <td>Frohnau</td>\n",
       "      <td>Am Pilz</td>\n",
       "      <td>399</td>\n",
       "      <td>15.07.2024\\n\\n-31.12.2024</td>\n",
       "      <td>20.0</td>\n",
       "      <td>Sascha</td>\n",
       "      <td>6.0</td>\n",
       "      <td>13465</td>\n",
       "      <td>Mitte</td>\n",
       "      <td>0</td>\n",
       "      <td>0</td>\n",
       "      <td>0</td>\n",
       "      <td>0</td>\n",
       "      <td>1</td>\n",
       "    </tr>\n",
       "    <tr>\n",
       "      <th>2</th>\n",
       "      <td>Gemütliche WG in Charlottenburg sucht nette Mi...</td>\n",
       "      <td>3.0</td>\n",
       "      <td>Charlottenburg</td>\n",
       "      <td>Helmholtzstraße 30</td>\n",
       "      <td>560</td>\n",
       "      <td>01.07.2024</td>\n",
       "      <td>27.0</td>\n",
       "      <td>Jonathan B.</td>\n",
       "      <td>6.0</td>\n",
       "      <td>10587</td>\n",
       "      <td>Charlottenburg-Wilmersdorf</td>\n",
       "      <td>1</td>\n",
       "      <td>1</td>\n",
       "      <td>1</td>\n",
       "      <td>0</td>\n",
       "      <td>1</td>\n",
       "    </tr>\n",
       "    <tr>\n",
       "      <th>3</th>\n",
       "      <td>Schönes WG-Zimmer (18 m²) in Steglitz zu vermi...</td>\n",
       "      <td>8.0</td>\n",
       "      <td>Steglitz</td>\n",
       "      <td>Herwarthstraße 13</td>\n",
       "      <td>280</td>\n",
       "      <td>15.07.2024</td>\n",
       "      <td>18.0</td>\n",
       "      <td>Jakob</td>\n",
       "      <td>8.0</td>\n",
       "      <td>12207</td>\n",
       "      <td>Steglitz-Zehlendorf</td>\n",
       "      <td>1</td>\n",
       "      <td>1</td>\n",
       "      <td>0</td>\n",
       "      <td>0</td>\n",
       "      <td>1</td>\n",
       "    </tr>\n",
       "    <tr>\n",
       "      <th>4</th>\n",
       "      <td>Vollmöbliertes und ruhiges Altbauzimmer Nähe O...</td>\n",
       "      <td>2.0</td>\n",
       "      <td>Friedrichshain</td>\n",
       "      <td>Wühlischstr.</td>\n",
       "      <td>790</td>\n",
       "      <td>01.08.2024</td>\n",
       "      <td>25.0</td>\n",
       "      <td>Nadia Rezaei</td>\n",
       "      <td>8.0</td>\n",
       "      <td>10245</td>\n",
       "      <td>Friedrichshain-Kreuzberg</td>\n",
       "      <td>1</td>\n",
       "      <td>0</td>\n",
       "      <td>1</td>\n",
       "      <td>0</td>\n",
       "      <td>1</td>\n",
       "    </tr>\n",
       "    <tr>\n",
       "      <th>6</th>\n",
       "      <td>Klein aber fein, gerne auch zur Zwischenmiete ...</td>\n",
       "      <td>3.0</td>\n",
       "      <td>Kreuzberg</td>\n",
       "      <td>Graefestraße</td>\n",
       "      <td>600</td>\n",
       "      <td>01.10.2024</td>\n",
       "      <td>12.0</td>\n",
       "      <td>Kerstin</td>\n",
       "      <td>8.0</td>\n",
       "      <td>10967</td>\n",
       "      <td>Friedrichshain-Kreuzberg</td>\n",
       "      <td>1</td>\n",
       "      <td>0</td>\n",
       "      <td>1</td>\n",
       "      <td>0</td>\n",
       "      <td>1</td>\n",
       "    </tr>\n",
       "    <tr>\n",
       "      <th>...</th>\n",
       "      <td>...</td>\n",
       "      <td>...</td>\n",
       "      <td>...</td>\n",
       "      <td>...</td>\n",
       "      <td>...</td>\n",
       "      <td>...</td>\n",
       "      <td>...</td>\n",
       "      <td>...</td>\n",
       "      <td>...</td>\n",
       "      <td>...</td>\n",
       "      <td>...</td>\n",
       "      <td>...</td>\n",
       "      <td>...</td>\n",
       "      <td>...</td>\n",
       "      <td>...</td>\n",
       "      <td>...</td>\n",
       "    </tr>\n",
       "    <tr>\n",
       "      <th>287</th>\n",
       "      <td>Wg Zimmer Frei gesucht female open-minded ab A...</td>\n",
       "      <td>3.0</td>\n",
       "      <td>Haselhorst</td>\n",
       "      <td>Paulsternstraße</td>\n",
       "      <td>325</td>\n",
       "      <td>01.08.2024</td>\n",
       "      <td>16.0</td>\n",
       "      <td>Anh</td>\n",
       "      <td>12.0</td>\n",
       "      <td>13599</td>\n",
       "      <td>Spandau</td>\n",
       "      <td>1</td>\n",
       "      <td>1</td>\n",
       "      <td>1</td>\n",
       "      <td>0</td>\n",
       "      <td>1</td>\n",
       "    </tr>\n",
       "    <tr>\n",
       "      <th>288</th>\n",
       "      <td>Helles WG Zimmer in schöner Whg. in Grün- und ...</td>\n",
       "      <td>2.0</td>\n",
       "      <td>Köpenick</td>\n",
       "      <td>Gutenbergstr. 33</td>\n",
       "      <td>750</td>\n",
       "      <td>20.07.2024</td>\n",
       "      <td>18.0</td>\n",
       "      <td>Sabine</td>\n",
       "      <td>13.0</td>\n",
       "      <td>12557</td>\n",
       "      <td>Treptow-Köpenick</td>\n",
       "      <td>1</td>\n",
       "      <td>0</td>\n",
       "      <td>0</td>\n",
       "      <td>1</td>\n",
       "      <td>1</td>\n",
       "    </tr>\n",
       "    <tr>\n",
       "      <th>290</th>\n",
       "      <td>NEUE Wohngemeinschaft mit möbliertem Zimmer (u...</td>\n",
       "      <td>3.0</td>\n",
       "      <td>Reinickendorf</td>\n",
       "      <td>Simmelstraße</td>\n",
       "      <td>650</td>\n",
       "      <td>15.07.2024</td>\n",
       "      <td>16.0</td>\n",
       "      <td>Seko</td>\n",
       "      <td>15.0</td>\n",
       "      <td>13409</td>\n",
       "      <td>Reinickendorf</td>\n",
       "      <td>1</td>\n",
       "      <td>0</td>\n",
       "      <td>1</td>\n",
       "      <td>0</td>\n",
       "      <td>1</td>\n",
       "    </tr>\n",
       "    <tr>\n",
       "      <th>297</th>\n",
       "      <td>Zimmer in 12623 Berlin Mahlsdorf-Süd zu vermie...</td>\n",
       "      <td>2.0</td>\n",
       "      <td>Mahlsdorf</td>\n",
       "      <td>Balsaminenweg</td>\n",
       "      <td>600</td>\n",
       "      <td>01.08.2024</td>\n",
       "      <td>15.0</td>\n",
       "      <td>Susanne</td>\n",
       "      <td>52.0</td>\n",
       "      <td>12623</td>\n",
       "      <td>Marzahn-Hellersdorf</td>\n",
       "      <td>1</td>\n",
       "      <td>0</td>\n",
       "      <td>0</td>\n",
       "      <td>0</td>\n",
       "      <td>1</td>\n",
       "    </tr>\n",
       "    <tr>\n",
       "      <th>299</th>\n",
       "      <td>central Prenzlauer Berg, registration, nearby ...</td>\n",
       "      <td>3.0</td>\n",
       "      <td>Prenzlauer Berg</td>\n",
       "      <td>Dunckerstraße</td>\n",
       "      <td>855</td>\n",
       "      <td>01.11.2024\\n\\n-30.04.2025</td>\n",
       "      <td>20.0</td>\n",
       "      <td>Frau Klinck</td>\n",
       "      <td>1.0</td>\n",
       "      <td>10439</td>\n",
       "      <td>Pankow</td>\n",
       "      <td>1</td>\n",
       "      <td>0</td>\n",
       "      <td>1</td>\n",
       "      <td>0</td>\n",
       "      <td>1</td>\n",
       "    </tr>\n",
       "  </tbody>\n",
       "</table>\n",
       "<p>189 rows × 16 columns</p>\n",
       "</div>"
      ],
      "text/plain": [
       "                                                 Title  WG Type  \\\n",
       "1    Zimmer in großem Haus zu vermieten ggf. mit Ga...      3.0   \n",
       "2    Gemütliche WG in Charlottenburg sucht nette Mi...      3.0   \n",
       "3    Schönes WG-Zimmer (18 m²) in Steglitz zu vermi...      8.0   \n",
       "4    Vollmöbliertes und ruhiges Altbauzimmer Nähe O...      2.0   \n",
       "6    Klein aber fein, gerne auch zur Zwischenmiete ...      3.0   \n",
       "..                                                 ...      ...   \n",
       "287  Wg Zimmer Frei gesucht female open-minded ab A...      3.0   \n",
       "288  Helles WG Zimmer in schöner Whg. in Grün- und ...      2.0   \n",
       "290  NEUE Wohngemeinschaft mit möbliertem Zimmer (u...      3.0   \n",
       "297  Zimmer in 12623 Berlin Mahlsdorf-Süd zu vermie...      2.0   \n",
       "299  central Prenzlauer Berg, registration, nearby ...      3.0   \n",
       "\n",
       "       City/District              Street  Price               Availability  \\\n",
       "1            Frohnau             Am Pilz    399  15.07.2024\\n\\n-31.12.2024   \n",
       "2     Charlottenburg  Helmholtzstraße 30    560                 01.07.2024   \n",
       "3           Steglitz   Herwarthstraße 13    280                 15.07.2024   \n",
       "4     Friedrichshain        Wühlischstr.    790                 01.08.2024   \n",
       "6          Kreuzberg        Graefestraße    600                 01.10.2024   \n",
       "..               ...                 ...    ...                        ...   \n",
       "287       Haselhorst     Paulsternstraße    325                 01.08.2024   \n",
       "288         Köpenick    Gutenbergstr. 33    750                 20.07.2024   \n",
       "290    Reinickendorf        Simmelstraße    650                 15.07.2024   \n",
       "297        Mahlsdorf       Balsaminenweg    600                 01.08.2024   \n",
       "299  Prenzlauer Berg       Dunckerstraße    855  01.11.2024\\n\\n-30.04.2025   \n",
       "\n",
       "     Size         Owner  Online Duration Postal Code  \\\n",
       "1    20.0        Sascha              6.0       13465   \n",
       "2    27.0   Jonathan B.              6.0       10587   \n",
       "3    18.0         Jakob              8.0       12207   \n",
       "4    25.0  Nadia Rezaei              8.0       10245   \n",
       "6    12.0       Kerstin              8.0       10967   \n",
       "..    ...           ...              ...         ...   \n",
       "287  16.0           Anh             12.0       13599   \n",
       "288  18.0        Sabine             13.0       12557   \n",
       "290  16.0          Seko             15.0       13409   \n",
       "297  15.0       Susanne             52.0       12623   \n",
       "299  20.0   Frau Klinck              1.0       10439   \n",
       "\n",
       "                        Section  Health Centers Proximity  \\\n",
       "1                         Mitte                         0   \n",
       "2    Charlottenburg-Wilmersdorf                         1   \n",
       "3           Steglitz-Zehlendorf                         1   \n",
       "4      Friedrichshain-Kreuzberg                         1   \n",
       "6      Friedrichshain-Kreuzberg                         1   \n",
       "..                          ...                       ...   \n",
       "287                     Spandau                         1   \n",
       "288            Treptow-Köpenick                         1   \n",
       "290               Reinickendorf                         1   \n",
       "297         Marzahn-Hellersdorf                         1   \n",
       "299                      Pankow                         1   \n",
       "\n",
       "     Low-crime Areas Proximity  Berlin Hauptbahnhof Proximity  \\\n",
       "1                            0                              0   \n",
       "2                            1                              1   \n",
       "3                            1                              0   \n",
       "4                            0                              1   \n",
       "6                            0                              1   \n",
       "..                         ...                            ...   \n",
       "287                          1                              1   \n",
       "288                          0                              0   \n",
       "290                          0                              1   \n",
       "297                          0                              0   \n",
       "299                          0                              1   \n",
       "\n",
       "     Berlin Brandenburg Airport Proximity  Cinemas Proximity  \n",
       "1                                       0                  1  \n",
       "2                                       0                  1  \n",
       "3                                       0                  1  \n",
       "4                                       0                  1  \n",
       "6                                       0                  1  \n",
       "..                                    ...                ...  \n",
       "287                                     0                  1  \n",
       "288                                     1                  1  \n",
       "290                                     0                  1  \n",
       "297                                     0                  1  \n",
       "299                                     0                  1  \n",
       "\n",
       "[189 rows x 16 columns]"
      ]
     },
     "execution_count": 5,
     "metadata": {},
     "output_type": "execute_result"
    }
   ],
   "source": [
    "import requests\n",
    "from bs4 import BeautifulSoup\n",
    "import pandas as pd\n",
    "import time\n",
    "import plotly.graph_objects as go\n",
    "from geopy.geocoders import Nominatim\n",
    "from geopy.distance import geodesic\n",
    "from geopy.exc import GeocoderTimedOut\n",
    "import numpy as np\n",
    "import statsmodels.api as sm\n",
    "import statsmodels.formula.api as smf\n",
    "\n",
    "# Define locations of interest\n",
    "locations_of_interest = {\n",
    "    'Health Centers': [(52.47781, 13.3717015), (52.4858353, 13.42456), (52.5554121, 13.3703633), (52.5573634, 13.3752281),\n",
    "                       (52.5421518, 13.342863), (52.5260078, 13.3967138), (52.5356575, 13.3713474), (52.4620771, 13.3465501), \n",
    "                       (52.5133024, 13.4954295), (52.4590155, 13.3902159), (52.5202624, 13.2772976), (52.4792516, 13.2814545), \n",
    "                       (52.5709879, 13.4141205), (52.5222814, 13.2897238), (52.4803471, 13.3172076), (52.490483, 13.2918016),\n",
    "                       (52.5545167, 13.3637902), (52.4343409, 13.4578704), (52.4372561, 13.4588793), (52.478104, 13.3729563),\n",
    "                       (52.4896215, 13.3297327), (52.5088183, 13.2518888), (52.4939563, 13.4085942), (52.5554939, 13.4507113), \n",
    "                       (52.5350773, 13.3878055), (52.5505504, 13.4691304), (52.5257591, 13.3778766), (52.4324316, 13.326606), \n",
    "                       (52.5255323, 13.4394766), (52.5042123, 13.3641845), (52.4986384, 13.3446565), (52.5060328, 13.3452165), \n",
    "                       (52.5274201, 13.5095087), (52.4420418, 13.3208167)],  \n",
    "    'Low-crime Areas': [(52.4927826, 13.211003563907612), (52.4121651, 13.6619543), (52.493555, 13.4809321), (52.44418545, 13.590632196611466)],  \n",
    "    'Berlin Hauptbahnhof': (52.525084, 13.368719),\n",
    "    'Berlin Brandenburg Airport': (52.366667, 13.503333),\n",
    "    'Cinemas': [(52.5343784, 13.3596231), (52.5839192, 13.2860048), (52.5417516, 13.5420275), \n",
    "                (52.5129109, 13.4581955), (52.5258984, 13.4114358), (52.5385009, 13.2063427), \n",
    "                (52.4620593, 13.5121795), (52.4769552, 13.3304523), (52.5488199, 13.4509296), \n",
    "                (52.4669397, 13.3286196), (52.5354615, 13.2024584), (52.5067663, 13.3084282), \n",
    "                (52.5377975, 13.6041151), (52.4899914, 13.4101466), (52.4819661, 13.4316965), \n",
    "                (52.5364987, 13.4077602), (52.5240474, 13.4019658), (52.5245664, 13.4018422), \n",
    "                (52.5015918, 13.4146103), (52.5006568, 13.4169229), (52.4863303, 13.3593976), \n",
    "                (52.4930489, 13.3853593), (52.5803587, 13.401489), (52.4295254, 13.4554457), \n",
    "                (52.5202013, 13.412224), (52.5525596, 13.4305846), (52.4903342, 13.4234006), \n",
    "                (52.4774811, 13.439406), (52.5207515, 13.447355), (52.5336588, 13.4008151), \n",
    "                (52.435842, 13.547897), (52.5040614, 13.4234804), (52.4787966, 13.4280286), \n",
    "                (52.5086444, 13.3737448), (52.5361682, 13.6094676), (52.4834225, 13.4244236), \n",
    "                (52.5095662, 13.3734177), (52.4641482, 13.3266521), (52.5364431, 13.2015024), \n",
    "                (52.5383336, 13.2028074), (52.4896169, 13.4275386), (52.5118751, 13.4616485), \n",
    "                (52.5290306, 13.4302735), (52.5044255, 13.3196567), (52.4837967, 13.4295458), \n",
    "                (52.5060698, 13.3305818), (52.484682, 13.3200059), (52.5524434, 13.4195677), \n",
    "                (52.4789837, 13.3293579), (52.5020922, 13.3249378), (52.5032512, 13.3300216), \n",
    "                (52.5585816, 13.3395608), (52.5411004, 13.3849408), (52.4826985, 13.4419119), \n",
    "                (52.5344522, 13.3600061), (52.4916642, 13.4330413), (52.4989962, 13.3427073), \n",
    "                (52.5577272, 13.3851888), (52.5052642, 13.4418072), (52.5184355, 13.3975301), \n",
    "                (52.5077791, 13.425995), (52.5294934, 13.413028), (52.5127376, 13.4405751), \n",
    "                (52.5054322, 13.2993996), (52.529586, 13.3958605), (52.5087879, 13.3671829), \n",
    "                (52.4603855, 13.5087287), (52.5437951, 13.3672393), (52.5478942, 13.4130423), \n",
    "                (52.4769516, 13.3301926), (52.5549122, 13.3301973), (52.5561916, 13.4632714), \n",
    "                (52.5060761, 13.334208), (52.5386059, 13.4141349), (52.5505706, 13.3510933), \n",
    "                (52.4820458, 13.3496538), (52.5206367, 13.4230089), (52.4530263, 13.2868433), \n",
    "                (52.5060496, 13.3285094), (52.4546988, 13.31739), (52.4319008, 13.259695), \n",
    "                (52.4464652, 13.5073052), (52.4350134, 13.3449565), (52.4919733, 13.4586938), \n",
    "                (52.5661854, 13.5089119), (52.4837152, 13.4163749), (41.6294434, -72.7430413), \n",
    "                (52.4563142, 13.6259146), (52.4596064, 13.6237749), (42.3561986, -71.6137015), \n",
    "                (52.5253343, 13.4355545), (52.5162598, 13.3774004)]  \n",
    "}\n",
    "\n",
    "# Calculate distance and categorize\n",
    "def calculate_distance(lat, lon, location):\n",
    "    return geodesic((lat, lon), location).kilometers\n",
    "\n",
    "def categorize_distance(distance, threshold=10):\n",
    "    return 1 if distance <= threshold else 0\n",
    "\n",
    "def get_wg_listings(url):\n",
    "    headers = {\n",
    "        'User-Agent': 'Mozilla/5.0 (Windows NT 10.0; Win64; x64) AppleWebKit/537.36 (KHTML, like Gecko) Chrome/91.0.4472.124 Safari/537.36'\n",
    "    }\n",
    "    response = requests.get(url, headers=headers)\n",
    "    soup = BeautifulSoup(response.content, 'html.parser')\n",
    "    return soup\n",
    "\n",
    "def parse_listing(listing):\n",
    "    title = listing.find('h3', class_='truncate_title noprint')\n",
    "    location = listing.find('div', class_='col-xs-11')\n",
    "    price = listing.find('div', class_='col-xs-3')\n",
    "    availability = listing.find('div', class_='col-xs-5 text-center')\n",
    "    size = listing.find('div', class_='col-xs-3 text-right')\n",
    "\n",
    "    # Using BeautifulSoup to locate owner and online duration\n",
    "    owner = listing.find('span', class_='ml5')\n",
    "    online_duration = listing.find('span', style='color: #218700;')\n",
    "\n",
    "    # Extracting location information\n",
    "    location_text = location.text.strip() if location else None\n",
    "    wg_type, district, street = None, None, None\n",
    "\n",
    "    if location_text:\n",
    "        location_parts = [part.strip() for part in location_text.split(\"|\")]\n",
    "        if len(location_parts) == 3:\n",
    "            wg_type, city_district, street = location_parts\n",
    "        elif len(location_parts) == 2:\n",
    "            wg_type, city_district = location_parts\n",
    "        elif len(location_parts) == 1:\n",
    "            wg_type = location_parts[0]\n",
    "\n",
    "        if city_district and \"Berlin\" in city_district:\n",
    "            district = city_district.replace(\"Berlin\", \"\").strip()\n",
    "\n",
    "    # Remove extra spaces between dates in availability\n",
    "    availability_text = availability.text.strip().replace(' ', '') if availability else None\n",
    "\n",
    "    # Extract numeric value from online duration\n",
    "    online_duration_text = online_duration.text.strip() if online_duration else None\n",
    "    online_duration_numeric = int(''.join(filter(str.isdigit, online_duration_text))) if online_duration_text else None\n",
    "\n",
    "    data = {\n",
    "        'Title': title.text.strip() if title else None,\n",
    "        'WG Type': wg_type,\n",
    "        'City/District': district,\n",
    "        'Street': street,\n",
    "        'Price': f\"{price.text.strip().replace('€', '').replace(' ', '')}\" if price else None,\n",
    "        'Availability': availability_text,\n",
    "        'Size': f\"{size.text.strip().replace('m²', '').replace(' ', '')}\" if size else None,\n",
    "        'Owner': owner.text.strip() if owner else None,\n",
    "        'Online Duration': online_duration_numeric\n",
    "    }\n",
    "\n",
    "    return data\n",
    "\n",
    "def get_postal_code(geolocator, city, street):\n",
    "    try:\n",
    "        location = geolocator.geocode(f\"{street}, {city}, Berlin, Germany\", timeout=10)\n",
    "        if location:\n",
    "            return location.address.split(',')[-2].strip(), location.latitude, location.longitude\n",
    "    except GeocoderTimedOut:\n",
    "        return get_postal_code(geolocator, city, street)\n",
    "    except Exception as e:\n",
    "        print(f\"Geocoding error: {e}\")\n",
    "    return None, None, None\n",
    "\n",
    "def categorize_postal_code(postal_code):\n",
    "    if postal_code is None:\n",
    "        return 'Unknown'\n",
    "    \n",
    "    postal_code = int(postal_code)\n",
    "    ranges = {\n",
    "        'Mitte': [(10115, 10179), (10551, 10559), (13347, 13359), (13465, 13465), (13467, 13467), (13469, 13469)],\n",
    "        'Friedrichshain-Kreuzberg': [(10243, 10249), (10961, 10999)],\n",
    "        'Pankow': [(10405, 10439), (13187, 13189), (13156, 13156), (13158, 13158), (13159, 13159), (13127, 13127), (13129, 13129)],\n",
    "        'Charlottenburg-Wilmersdorf': [(10585, 10585), (10587, 10587), (10589, 10589), (10623, 10629), (10707, 10719), (10711, 10711), (10777, 10779), (10713, 10713), (10715, 10715)],\n",
    "        'Spandau': [(13581, 13599), (14052, 14052), (14089, 14089)],\n",
    "        'Steglitz-Zehlendorf': [(12157, 12169), (12203, 12209), (12247, 12247), (12249, 12249), (12277, 12277), (12279, 12279), (14109, 14109), (14129, 14129), (14163, 14163), (14165, 14165), (14167, 14167), (14169, 14169)],\n",
    "        'Tempelhof-Schöneberg': [(10777, 10779), (10827, 10829), (12101, 12101), (12103, 12103), (12105, 12105), (12107, 12107), (12109, 12109), (12277, 12277), (12279, 12279)],\n",
    "        'Neukölln': [(12043, 12059), (12347, 12357), (12359, 12359)],\n",
    "        'Treptow-Köpenick': [(12435, 12435), (12437, 12437), (12439, 12439), (12487, 12487), (12489, 12489), (12524, 12524), (12526, 12526), (12527, 12527), (12555, 12555), (12557, 12557), (12559, 12559), (12587, 12587), (12589, 12589)],\n",
    "        'Marzahn-Hellersdorf': [(12619, 12619), (12621, 12621), (12623, 12623), (12627, 12627), (12629, 12629), (12679, 12679), (12681, 12681), (12683, 12683), (12685, 12685), (12687, 12687), (12689, 12689)],\n",
    "        'Lichtenberg': [(10315, 10319), (10365, 10365), (10367, 10367), (10369, 10369), (13051, 13051), (13053, 13053), (13055, 13055), (13057, 13057), (13059, 13059)],\n",
    "        'Reinickendorf': [(13403, 13403), (13405, 13405), (13407, 13407), (13409, 13409), (13435, 13435), (13437, 13437), (13439, 13439), (13465, 13465), (13467, 13467), (13469, 13469), (13503, 13503), (13505, 13505), (13507, 13507), (13509, 13509)]\n",
    "    }\n",
    "\n",
    "    for section, ranges_list in ranges.items():\n",
    "        for start, end in ranges_list:\n",
    "            if start <= postal_code <= end:\n",
    "                return section\n",
    "    return 'Unknown'\n",
    "\n",
    "def scrape_wg_data(base_url, num_listings):\n",
    "    listings_data = []\n",
    "    page = 0\n",
    "    geolocator = Nominatim(user_agent=\"wg_scraper\")\n",
    "\n",
    "    while len(listings_data) < num_listings:\n",
    "        url = f\"{base_url}?page={page}\"\n",
    "        soup = get_wg_listings(url)\n",
    "        listings = soup.find_all('div', class_='offer_list_item')\n",
    "        \n",
    "        if not listings:\n",
    "            break\n",
    "\n",
    "        for listing in listings:\n",
    "            data = parse_listing(listing)\n",
    "            if data['City/District'] and data['Street']:\n",
    "                postal_code, lat, lon = get_postal_code(geolocator, data['City/District'], data['Street'])\n",
    "                data['Postal Code'] = postal_code\n",
    "                data['Section'] = categorize_postal_code(postal_code) if postal_code else 'Unknown'\n",
    "                \n",
    "                if lat and lon:\n",
    "                    data['Health Centers Proximity'] = categorize_distance(\n",
    "                        min(calculate_distance(lat, lon, loc) for loc in locations_of_interest['Health Centers'])\n",
    "                    )\n",
    "                    data['Low-crime Areas Proximity'] = categorize_distance(\n",
    "                        calculate_distance(lat, lon, locations_of_interest['Low-crime Areas'][0])\n",
    "                    )\n",
    "                    data['Berlin Hauptbahnhof Proximity'] = categorize_distance(\n",
    "                        calculate_distance(lat, lon, locations_of_interest['Berlin Hauptbahnhof'])\n",
    "                    )\n",
    "                    data['Berlin Brandenburg Airport Proximity'] = categorize_distance(\n",
    "                        calculate_distance(lat, lon, locations_of_interest['Berlin Brandenburg Airport'])\n",
    "                    )\n",
    "                    data['Cinemas Proximity'] = categorize_distance(\n",
    "                        min(calculate_distance(lat, lon, loc) for loc in locations_of_interest['Cinemas'])\n",
    "                    )\n",
    "                else:\n",
    "                    data['Health Centers Proximity'] = 0\n",
    "                    data['Low-crime Areas Proximity'] = 0\n",
    "                    data['Berlin Hauptbahnhof Proximity'] = 0\n",
    "                    data['Berlin Brandenburg Airport Proximity'] = 0\n",
    "                    data['Cinemas Proximity'] = 0\n",
    "            else:\n",
    "                data['Postal Code'] = None\n",
    "                data['Section'] = 'Unknown'\n",
    "                data['Health Centers Proximity'] = 0\n",
    "                data['Low-crime Areas Proximity'] = 0\n",
    "                data['Berlin Hauptbahnhof Proximity'] = 0\n",
    "                data['Berlin Brandenburg Airport Proximity'] = 0\n",
    "                data['Cinemas Proximity'] = 0\n",
    "\n",
    "            listings_data.append(data)\n",
    "            if len(listings_data) >= num_listings:\n",
    "                break\n",
    "\n",
    "        page += 1\n",
    "        time.sleep(1)  # To avoid overwhelming the server with requests\n",
    "\n",
    "    df = pd.DataFrame(listings_data)\n",
    "    return df\n",
    "\n",
    "# Scrape data\n",
    "BASE_URL = 'https://www.wg-gesucht.de/wg-zimmer-in-Berlin.8.0.1.0.html'\n",
    "NUM_LISTINGS = 300\n",
    "wg_data_df = scrape_wg_data(BASE_URL, NUM_LISTINGS)\n",
    "\n",
    "# Remove rows with null postal codes\n",
    "wg_data_df.dropna(subset=['Postal Code'], inplace=True)\n",
    "\n",
    "# Modify data \n",
    "wg_data_df['WG Type'] = wg_data_df['WG Type'].str.extract(r'(\\d)').astype(float)\n",
    "wg_data_df['Price'] = pd.to_numeric(wg_data_df['Price'], errors='coerce')\n",
    "wg_data_df['Size'] = pd.to_numeric(wg_data_df['Size'], errors='coerce')\n",
    "wg_data_df['Online Duration'] = pd.to_numeric(wg_data_df['Online Duration'], errors='coerce')\n",
    "\n",
    "# Drop rows with missing values in relevant columns\n",
    "wg_data_df.dropna(subset=['Price', 'Size', 'WG Type', 'Online Duration'], inplace=True)\n",
    "\n",
    "wg_data_df"
   ]
  },
  {
   "cell_type": "markdown",
   "id": "20cfc626-197e-4ba4-88ea-13f3e49802df",
   "metadata": {},
   "source": [
    "### Part 1: Determinants of Apartment Prices"
   ]
  },
  {
   "cell_type": "code",
   "execution_count": 4,
   "id": "a77bb632-ea8d-44e2-af0d-d7986c7aca38",
   "metadata": {},
   "outputs": [
    {
     "name": "stdout",
     "output_type": "stream",
     "text": [
      "                            OLS Regression Results                            \n",
      "==============================================================================\n",
      "Dep. Variable:                  Price   R-squared:                       0.533\n",
      "Model:                            OLS   Adj. R-squared:                  0.519\n",
      "Method:                 Least Squares   F-statistic:                     37.84\n",
      "Date:                Mon, 15 Jul 2024   Prob (F-statistic):           1.88e-30\n",
      "Time:                        13:20:51   Log-Likelihood:                -1362.6\n",
      "No. Observations:                 206   AIC:                             2739.\n",
      "Df Residuals:                     199   BIC:                             2762.\n",
      "Df Model:                           6                                         \n",
      "Covariance Type:            nonrobust                                         \n",
      "========================================================================================================\n",
      "                                           coef    std err          t      P>|t|      [0.025      0.975]\n",
      "--------------------------------------------------------------------------------------------------------\n",
      "Size                                     7.6129      1.192      6.386      0.000       5.262       9.964\n",
      "WG Type                                 66.0265     16.197      4.076      0.000      34.086      97.967\n",
      "Online Duration                         18.6944      2.005      9.325      0.000      14.741      22.648\n",
      "Health Centers Proximity               -66.7480     42.133     -1.584      0.115    -149.833      16.337\n",
      "Low-crime Areas Proximity              -67.6408     38.678     -1.749      0.082    -143.911       8.630\n",
      "Berlin Hauptbahnhof Proximity          102.6284     48.444      2.119      0.035       7.100     198.157\n",
      "Berlin Brandenburg Airport Proximity    30.1603     64.492      0.468      0.641     -97.015     157.336\n",
      "Cinemas Proximity                      -66.7480     42.133     -1.584      0.115    -149.833      16.337\n",
      "==============================================================================\n",
      "Omnibus:                        8.787   Durbin-Watson:                   2.324\n",
      "Prob(Omnibus):                  0.012   Jarque-Bera (JB):                7.458\n",
      "Skew:                           0.383   Prob(JB):                       0.0240\n",
      "Kurtosis:                       2.469   Cond. No.                     2.44e+17\n",
      "==============================================================================\n",
      "\n",
      "Notes:\n",
      "[1] Standard Errors assume that the covariance matrix of the errors is correctly specified.\n",
      "[2] The smallest eigenvalue is 2.78e-30. This might indicate that there are\n",
      "strong multicollinearity problems or that the design matrix is singular.\n"
     ]
    }
   ],
   "source": [
    "import pandas as pd\n",
    "import statsmodels.api as sm\n",
    "from io import StringIO\n",
    "\n",
    "# Load the data from the Excel file\n",
    "df = pd.read_excel('in_depth_analysis.xlsx')\n",
    "\n",
    "X = df[['Size', 'WG Type', 'Online Duration', 'Health Centers Proximity', 'Low-crime Areas Proximity',\n",
    "        'Berlin Hauptbahnhof Proximity', 'Berlin Brandenburg Airport Proximity', 'Cinemas Proximity']]\n",
    "y = df['Price']\n",
    "\n",
    "# Adding a constant to the model (intercept)\n",
    "X = sm.add_constant(X)\n",
    "\n",
    "# Fit an OLS regression model\n",
    "model = sm.OLS(y, X).fit()\n",
    "\n",
    "# Print the summary of the regression\n",
    "print(model.summary())\n",
    "\n",
    "# Convert the summary to a DataFrame and save to CSV\n",
    "summary_html = model.summary().tables[1].as_html()\n",
    "summary_df = pd.read_html(StringIO(summary_html), header=0, index_col=0)[0]\n",
    "summary_df.to_csv('ols_price_depth_summary.csv')\n",
    "\n",
    "# Alternatively, save just the coefficients and p-values\n",
    "coefficients = model.params\n",
    "p_values = model.pvalues\n",
    "results_df = pd.DataFrame({'Coefficient': coefficients, 'P-Value': p_values})\n",
    "results_df.to_csv('ols_price_depth_coefficients_pvalues.csv', index=True)\n"
   ]
  },
  {
   "cell_type": "markdown",
   "id": "bb9770cf-54d2-4039-8eeb-f66297844c13",
   "metadata": {},
   "source": [
    "### Interpretation\n",
    "\n",
    "- **R-squared**: 0.5\n",
    "    - Indicates that the model explains 50% of the variability in rental prices. This is relatively low, suggesting the presence of other influential factors not captured in the model.\n",
    "\n",
    "- **Size**: \n",
    "    - Coefficient: 7.6\n",
    "    - P-value: 0.000\n",
    "    - Interpretation: Each additional square meter increases the rental price by approximately €7.6, highly significant.\n",
    "\n",
    "- **WG Type**: \n",
    "    - Coefficient: 66\n",
    "    - P-value: 0.000\n",
    "    - Interpretation: Each additional room of shared housing significantly increase the rental price.\n",
    "\n",
    "- **Online Duration**:\n",
    "    - Coefficient: 18\n",
    "    - P-value: 0.000\n",
    "    - Interpretation: Longer online durations are connected with higher costs, implying that postings that remain online for an extended period of time can attract higher prices due to a variety of factors such as demand or quality.\n",
    "    \n",
    "- **Health Centers Proximity**: \n",
    "    - Coefficient: -66\n",
    "    - P-value: 0.1\n",
    "    - Interpretation: Closer proximity to health centers results in a negative coefficient, however it is not statistically significant.\n",
    "\n",
    "- **Low-crime Areas Proximity**: \n",
    "    - Coefficient: -67\n",
    "    - P-value: 0.08\n",
    "    - Interpretation: The proximity to low-crime zones is negatively associated with price, getting close to significance. This could imply that greater pricing may be found in places with increased perceived risk, contrary to expectations.\n",
    "\n",
    "- **Berlin Hauptbahnhof Proximity**: \n",
    "    - Coefficient: 102\n",
    "    - P-value: 0.03\n",
    "    - Interpretation: A closer proximity to Berlin's central train station dramatically raises prices, reflecting a premium on connectivity to important transportation centers.\n",
    "\n",
    "- **Berlin Brandenburg Airport Proximity**: \n",
    "    - Coefficient: 30\n",
    "    - P-value: 0.6\n",
    "    - Interpretation: The proximity to Berlin Brandenburg Airport has a positive coefficient, but it is not statistically significant, suggesting little to no effect on pricing.\n",
    "\n",
    "- **Cinemas Proximity**: \n",
    "    - Coefficient: -66\n",
    "    - P-value: 0.115\n",
    "    - Interpretation: Proximity to cinemas is negatively associated with price but not significant.\n",
    "\n"
   ]
  },
  {
   "cell_type": "code",
   "execution_count": 7,
   "id": "fbec0605",
   "metadata": {},
   "outputs": [
    {
     "name": "stdout",
     "output_type": "stream",
     "text": [
      "Collecting openpyxl\n",
      "  Downloading openpyxl-3.1.5-py2.py3-none-any.whl.metadata (2.5 kB)\n",
      "Collecting et-xmlfile (from openpyxl)\n",
      "  Downloading et_xmlfile-1.1.0-py3-none-any.whl.metadata (1.8 kB)\n",
      "Downloading openpyxl-3.1.5-py2.py3-none-any.whl (250 kB)\n",
      "\u001b[2K   \u001b[90m━━━━━━━━━━━━━━━━━━━━━━━━━━━━━━━━━━━━━━━━\u001b[0m \u001b[32m250.9/250.9 kB\u001b[0m \u001b[31m7.6 MB/s\u001b[0m eta \u001b[36m0:00:00\u001b[0m\n",
      "\u001b[?25hDownloading et_xmlfile-1.1.0-py3-none-any.whl (4.7 kB)\n",
      "Installing collected packages: et-xmlfile, openpyxl\n",
      "Successfully installed et-xmlfile-1.1.0 openpyxl-3.1.5\n",
      "\n",
      "\u001b[1m[\u001b[0m\u001b[34;49mnotice\u001b[0m\u001b[1;39;49m]\u001b[0m\u001b[39;49m A new release of pip is available: \u001b[0m\u001b[31;49m24.0\u001b[0m\u001b[39;49m -> \u001b[0m\u001b[32;49m24.1.2\u001b[0m\n",
      "\u001b[1m[\u001b[0m\u001b[34;49mnotice\u001b[0m\u001b[1;39;49m]\u001b[0m\u001b[39;49m To update, run: \u001b[0m\u001b[32;49mpython -m pip install --upgrade pip\u001b[0m\n",
      "Note: you may need to restart the kernel to use updated packages.\n"
     ]
    }
   ],
   "source": [
    "pip install openpyxl"
   ]
  },
  {
   "cell_type": "code",
   "execution_count": 9,
   "id": "74d0fa35-4106-48ea-b38e-fa2cecb2c663",
   "metadata": {},
   "outputs": [
    {
     "data": {
      "application/vnd.plotly.v1+json": {
       "config": {
        "plotlyServerURL": "https://plot.ly"
       },
       "data": [
        {
         "hoverinfo": "text",
         "hovertext": [
          "Actual: 80, Predicted: 301.91",
          "Actual: 520, Predicted: 320.61",
          "Actual: 5, Predicted: 255.08",
          "Actual: 120, Predicted: 350.38",
          "Actual: 750, Predicted: 365.61",
          "Actual: 650, Predicted: 321.10",
          "Actual: 505, Predicted: 554.53",
          "Actual: 325, Predicted: 445.71",
          "Actual: 798, Predicted: 608.18",
          "Actual: 650, Predicted: 685.28",
          "Actual: 600, Predicted: 508.43",
          "Actual: 645, Predicted: 655.97",
          "Actual: 449, Predicted: 503.87",
          "Actual: 600, Predicted: 509.68",
          "Actual: 630, Predicted: 700.30",
          "Actual: 855, Predicted: 730.75",
          "Actual: 980, Predicted: 1026.00",
          "Actual: 710, Predicted: 730.07",
          "Actual: 80, Predicted: 301.91",
          "Actual: 520, Predicted: 320.61",
          "Actual: 5, Predicted: 255.08",
          "Actual: 120, Predicted: 350.38",
          "Actual: 750, Predicted: 384.31",
          "Actual: 650, Predicted: 339.80",
          "Actual: 505, Predicted: 554.53",
          "Actual: 325, Predicted: 445.71",
          "Actual: 798, Predicted: 626.87",
          "Actual: 650, Predicted: 685.28",
          "Actual: 600, Predicted: 527.12",
          "Actual: 645, Predicted: 655.97",
          "Actual: 449, Predicted: 503.87",
          "Actual: 600, Predicted: 509.68",
          "Actual: 630, Predicted: 718.99",
          "Actual: 855, Predicted: 749.44",
          "Actual: 980, Predicted: 1026.00",
          "Actual: 710, Predicted: 730.07",
          "Actual: 80, Predicted: 320.61",
          "Actual: 520, Predicted: 339.30",
          "Actual: 5, Predicted: 273.77",
          "Actual: 120, Predicted: 369.08",
          "Actual: 750, Predicted: 384.31",
          "Actual: 650, Predicted: 339.80",
          "Actual: 505, Predicted: 573.23",
          "Actual: 325, Predicted: 445.71",
          "Actual: 798, Predicted: 626.87",
          "Actual: 650, Predicted: 685.28",
          "Actual: 600, Predicted: 527.12",
          "Actual: 645, Predicted: 655.97",
          "Actual: 449, Predicted: 503.87",
          "Actual: 600, Predicted: 509.68",
          "Actual: 630, Predicted: 718.99",
          "Actual: 855, Predicted: 749.44",
          "Actual: 980, Predicted: 1026.00",
          "Actual: 710, Predicted: 730.07",
          "Actual: 720, Predicted: 510.35",
          "Actual: 960, Predicted: 558.82",
          "Actual: 80, Predicted: 320.61",
          "Actual: 520, Predicted: 339.30",
          "Actual: 5, Predicted: 273.77",
          "Actual: 120, Predicted: 369.08",
          "Actual: 750, Predicted: 384.31",
          "Actual: 650, Predicted: 339.80",
          "Actual: 505, Predicted: 573.23",
          "Actual: 325, Predicted: 445.71",
          "Actual: 798, Predicted: 626.87",
          "Actual: 650, Predicted: 703.98",
          "Actual: 600, Predicted: 527.12",
          "Actual: 645, Predicted: 655.97",
          "Actual: 449, Predicted: 503.87",
          "Actual: 600, Predicted: 528.37",
          "Actual: 630, Predicted: 718.99",
          "Actual: 855, Predicted: 749.44",
          "Actual: 980, Predicted: 1044.69",
          "Actual: 710, Predicted: 748.77",
          "Actual: 80, Predicted: 320.61",
          "Actual: 520, Predicted: 339.30",
          "Actual: 5, Predicted: 273.77",
          "Actual: 120, Predicted: 369.08",
          "Actual: 750, Predicted: 384.31",
          "Actual: 650, Predicted: 339.80",
          "Actual: 505, Predicted: 573.23",
          "Actual: 325, Predicted: 464.41",
          "Actual: 798, Predicted: 626.87",
          "Actual: 650, Predicted: 703.98",
          "Actual: 600, Predicted: 527.12",
          "Actual: 645, Predicted: 674.66",
          "Actual: 449, Predicted: 503.87",
          "Actual: 600, Predicted: 528.37",
          "Actual: 630, Predicted: 718.99",
          "Actual: 855, Predicted: 749.44",
          "Actual: 980, Predicted: 1044.69",
          "Actual: 710, Predicted: 748.77",
          "Actual: 80, Predicted: 320.61",
          "Actual: 520, Predicted: 339.30",
          "Actual: 5, Predicted: 273.77",
          "Actual: 120, Predicted: 369.08",
          "Actual: 750, Predicted: 384.31",
          "Actual: 650, Predicted: 358.49",
          "Actual: 505, Predicted: 573.23",
          "Actual: 325, Predicted: 464.41",
          "Actual: 798, Predicted: 626.87",
          "Actual: 650, Predicted: 703.98",
          "Actual: 600, Predicted: 527.12",
          "Actual: 645, Predicted: 674.66",
          "Actual: 449, Predicted: 522.57",
          "Actual: 600, Predicted: 528.37",
          "Actual: 630, Predicted: 718.99",
          "Actual: 855, Predicted: 749.44",
          "Actual: 980, Predicted: 1044.69",
          "Actual: 710, Predicted: 748.77",
          "Actual: 810, Predicted: 510.35",
          "Actual: 80, Predicted: 339.30",
          "Actual: 520, Predicted: 339.30",
          "Actual: 5, Predicted: 273.77",
          "Actual: 120, Predicted: 369.08",
          "Actual: 750, Predicted: 403.00",
          "Actual: 650, Predicted: 358.49",
          "Actual: 505, Predicted: 573.23",
          "Actual: 325, Predicted: 464.41",
          "Actual: 798, Predicted: 645.56",
          "Actual: 650, Predicted: 703.98",
          "Actual: 600, Predicted: 545.82",
          "Actual: 645, Predicted: 674.66",
          "Actual: 449, Predicted: 522.57",
          "Actual: 600, Predicted: 528.37",
          "Actual: 630, Predicted: 737.69",
          "Actual: 855, Predicted: 768.14",
          "Actual: 980, Predicted: 1044.69",
          "Actual: 710, Predicted: 748.77",
          "Actual: 80, Predicted: 339.30",
          "Actual: 520, Predicted: 358.00",
          "Actual: 5, Predicted: 292.47",
          "Actual: 120, Predicted: 387.77",
          "Actual: 750, Predicted: 403.00",
          "Actual: 650, Predicted: 358.49",
          "Actual: 505, Predicted: 591.92",
          "Actual: 325, Predicted: 464.41",
          "Actual: 798, Predicted: 645.56",
          "Actual: 650, Predicted: 722.67",
          "Actual: 600, Predicted: 545.82",
          "Actual: 645, Predicted: 674.66",
          "Actual: 449, Predicted: 522.57",
          "Actual: 600, Predicted: 528.37",
          "Actual: 630, Predicted: 737.69",
          "Actual: 855, Predicted: 768.14",
          "Actual: 980, Predicted: 1044.69",
          "Actual: 710, Predicted: 767.46",
          "Actual: 720, Predicted: 510.35",
          "Actual: 80, Predicted: 339.30",
          "Actual: 520, Predicted: 358.00",
          "Actual: 5, Predicted: 292.47",
          "Actual: 120, Predicted: 387.77",
          "Actual: 750, Predicted: 403.00",
          "Actual: 650, Predicted: 358.49",
          "Actual: 505, Predicted: 591.92",
          "Actual: 325, Predicted: 464.41",
          "Actual: 798, Predicted: 645.56",
          "Actual: 650, Predicted: 722.67",
          "Actual: 600, Predicted: 545.82",
          "Actual: 645, Predicted: 693.36",
          "Actual: 449, Predicted: 522.57",
          "Actual: 600, Predicted: 547.07",
          "Actual: 630, Predicted: 737.69",
          "Actual: 855, Predicted: 768.14",
          "Actual: 980, Predicted: 1063.39",
          "Actual: 710, Predicted: 767.46",
          "Actual: 80, Predicted: 339.30",
          "Actual: 520, Predicted: 358.00",
          "Actual: 5, Predicted: 292.47",
          "Actual: 120, Predicted: 387.77",
          "Actual: 750, Predicted: 403.00",
          "Actual: 650, Predicted: 358.49",
          "Actual: 505, Predicted: 591.92",
          "Actual: 325, Predicted: 483.10",
          "Actual: 798, Predicted: 645.56",
          "Actual: 650, Predicted: 722.67",
          "Actual: 600, Predicted: 545.82",
          "Actual: 645, Predicted: 693.36",
          "Actual: 449, Predicted: 541.26",
          "Actual: 600, Predicted: 547.07",
          "Actual: 630, Predicted: 737.69",
          "Actual: 855, Predicted: 768.14",
          "Actual: 980, Predicted: 1063.39",
          "Actual: 710, Predicted: 767.46",
          "Actual: 80, Predicted: 339.30",
          "Actual: 520, Predicted: 358.00",
          "Actual: 5, Predicted: 292.47",
          "Actual: 120, Predicted: 387.77",
          "Actual: 750, Predicted: 421.69",
          "Actual: 650, Predicted: 377.19",
          "Actual: 505, Predicted: 591.92",
          "Actual: 325, Predicted: 483.10",
          "Actual: 798, Predicted: 664.26",
          "Actual: 650, Predicted: 722.67",
          "Actual: 600, Predicted: 564.51",
          "Actual: 645, Predicted: 693.36",
          "Actual: 449, Predicted: 541.26",
          "Actual: 600, Predicted: 547.07",
          "Actual: 630, Predicted: 756.38",
          "Actual: 855, Predicted: 786.83",
          "Actual: 980, Predicted: 1063.39",
          "Actual: 710, Predicted: 767.46",
          "Actual: 1020, Predicted: 571.25",
          "Actual: 80, Predicted: 358.00",
          "Actual: 520, Predicted: 376.69",
          "Actual: 5, Predicted: 311.16"
         ],
         "marker": {
          "color": "blue",
          "opacity": 0.5,
          "size": 10
         },
         "mode": "markers",
         "name": "Predicted vs Actual",
         "type": "scatter",
         "x": [
          80,
          520,
          5,
          120,
          750,
          650,
          505,
          325,
          798,
          650,
          600,
          645,
          449,
          600,
          630,
          855,
          980,
          710,
          80,
          520,
          5,
          120,
          750,
          650,
          505,
          325,
          798,
          650,
          600,
          645,
          449,
          600,
          630,
          855,
          980,
          710,
          80,
          520,
          5,
          120,
          750,
          650,
          505,
          325,
          798,
          650,
          600,
          645,
          449,
          600,
          630,
          855,
          980,
          710,
          720,
          960,
          80,
          520,
          5,
          120,
          750,
          650,
          505,
          325,
          798,
          650,
          600,
          645,
          449,
          600,
          630,
          855,
          980,
          710,
          80,
          520,
          5,
          120,
          750,
          650,
          505,
          325,
          798,
          650,
          600,
          645,
          449,
          600,
          630,
          855,
          980,
          710,
          80,
          520,
          5,
          120,
          750,
          650,
          505,
          325,
          798,
          650,
          600,
          645,
          449,
          600,
          630,
          855,
          980,
          710,
          810,
          80,
          520,
          5,
          120,
          750,
          650,
          505,
          325,
          798,
          650,
          600,
          645,
          449,
          600,
          630,
          855,
          980,
          710,
          80,
          520,
          5,
          120,
          750,
          650,
          505,
          325,
          798,
          650,
          600,
          645,
          449,
          600,
          630,
          855,
          980,
          710,
          720,
          80,
          520,
          5,
          120,
          750,
          650,
          505,
          325,
          798,
          650,
          600,
          645,
          449,
          600,
          630,
          855,
          980,
          710,
          80,
          520,
          5,
          120,
          750,
          650,
          505,
          325,
          798,
          650,
          600,
          645,
          449,
          600,
          630,
          855,
          980,
          710,
          80,
          520,
          5,
          120,
          750,
          650,
          505,
          325,
          798,
          650,
          600,
          645,
          449,
          600,
          630,
          855,
          980,
          710,
          1020,
          80,
          520,
          5
         ],
         "y": [
          301.91451232628714,
          320.6089357822005,
          255.0779324490925,
          350.3848455510835,
          365.61071983697093,
          321.10443968779504,
          554.5339706410946,
          445.7112343776425,
          608.1758141247293,
          685.2838076764016,
          508.42881976609124,
          655.9703085466339,
          503.8711930075315,
          509.67819636418494,
          700.2962537985123,
          730.7480023702873,
          1025.9980900199655,
          730.0721635673953,
          301.91451232628714,
          320.6089357822005,
          255.0779324490925,
          350.3848455510835,
          384.3051432928843,
          339.7988631437084,
          554.5339706410946,
          445.7112343776425,
          626.8702375806428,
          685.2838076764016,
          527.1232432220046,
          655.9703085466339,
          503.8711930075315,
          509.67819636418494,
          718.9906772544258,
          749.4424258262005,
          1025.9980900199655,
          730.0721635673953,
          320.6089357822005,
          339.3033592381139,
          273.77235590500584,
          369.0792690069968,
          384.3051432928843,
          339.7988631437084,
          573.2283940970079,
          445.7112343776425,
          626.8702375806428,
          685.2838076764016,
          527.1232432220046,
          655.9703085466339,
          503.8711930075315,
          509.67819636418494,
          718.9906772544258,
          749.4424258262005,
          1025.9980900199655,
          730.0721635673953,
          510.3458807084681,
          558.8162139332644,
          320.6089357822005,
          339.3033592381139,
          273.77235590500584,
          369.0792690069968,
          384.3051432928843,
          339.7988631437084,
          573.2283940970079,
          445.7112343776425,
          626.8702375806428,
          703.9782311323149,
          527.1232432220046,
          655.9703085466339,
          503.8711930075315,
          528.3726198200983,
          718.9906772544258,
          749.4424258262005,
          1044.692513475879,
          748.7665870233087,
          320.6089357822005,
          339.3033592381139,
          273.77235590500584,
          369.0792690069968,
          384.3051432928843,
          339.7988631437084,
          573.2283940970079,
          464.4056578335559,
          626.8702375806428,
          703.9782311323149,
          527.1232432220046,
          674.6647320025471,
          503.8711930075315,
          528.3726198200983,
          718.9906772544258,
          749.4424258262005,
          1044.692513475879,
          748.7665870233087,
          320.6089357822005,
          339.3033592381139,
          273.77235590500584,
          369.0792690069968,
          384.3051432928843,
          358.4932865996218,
          573.2283940970079,
          464.4056578335559,
          626.8702375806428,
          703.9782311323149,
          527.1232432220046,
          674.6647320025471,
          522.5656164634448,
          528.3726198200983,
          718.9906772544258,
          749.4424258262005,
          1044.692513475879,
          748.7665870233087,
          510.3458807084681,
          339.3033592381139,
          339.3033592381139,
          273.77235590500584,
          369.0792690069968,
          402.99956674879763,
          358.4932865996218,
          573.2283940970079,
          464.4056578335559,
          645.564661036556,
          703.9782311323149,
          545.817666677918,
          674.6647320025471,
          522.5656164634448,
          528.3726198200983,
          737.685100710339,
          768.136849282114,
          1044.692513475879,
          748.7665870233087,
          339.3033592381139,
          357.9977826940272,
          292.4667793609192,
          387.7736924629102,
          402.99956674879763,
          358.4932865996218,
          591.9228175529213,
          464.4056578335559,
          645.564661036556,
          722.6726545882283,
          545.817666677918,
          674.6647320025471,
          522.5656164634448,
          528.3726198200983,
          737.685100710339,
          768.136849282114,
          1044.692513475879,
          767.461010479222,
          510.3458807084681,
          339.3033592381139,
          357.9977826940272,
          292.4667793609192,
          387.7736924629102,
          402.99956674879763,
          358.4932865996218,
          591.9228175529213,
          464.4056578335559,
          645.564661036556,
          722.6726545882283,
          545.817666677918,
          693.3591554584606,
          522.5656164634448,
          547.0670432760116,
          737.685100710339,
          768.136849282114,
          1063.3869369317922,
          767.461010479222,
          339.3033592381139,
          357.9977826940272,
          292.4667793609192,
          387.7736924629102,
          402.99956674879763,
          358.4932865996218,
          591.9228175529213,
          483.10008128946924,
          645.564661036556,
          722.6726545882283,
          545.817666677918,
          693.3591554584606,
          541.2600399193582,
          547.0670432760116,
          737.685100710339,
          768.136849282114,
          1063.3869369317922,
          767.461010479222,
          339.3033592381139,
          357.9977826940272,
          292.4667793609192,
          387.7736924629102,
          421.693990204711,
          377.18771005553515,
          591.9228175529213,
          483.10008128946924,
          664.2590844924695,
          722.6726545882283,
          564.5120901338314,
          693.3591554584606,
          541.2600399193582,
          547.0670432760116,
          756.3795241662525,
          786.8312727380272,
          1063.3869369317922,
          767.461010479222,
          571.2493778520179,
          357.9977826940272,
          376.6922061499406,
          311.16120281683254
         ]
        },
        {
         "line": {
          "color": "red",
          "dash": "dash",
          "width": 2
         },
         "mode": "lines",
         "name": "Perfect Fit",
         "type": "scatter",
         "x": [
          80,
          520,
          5,
          120,
          750,
          650,
          505,
          325,
          798,
          650,
          600,
          645,
          449,
          600,
          630,
          855,
          980,
          710,
          80,
          520,
          5,
          120,
          750,
          650,
          505,
          325,
          798,
          650,
          600,
          645,
          449,
          600,
          630,
          855,
          980,
          710,
          80,
          520,
          5,
          120,
          750,
          650,
          505,
          325,
          798,
          650,
          600,
          645,
          449,
          600,
          630,
          855,
          980,
          710,
          720,
          960,
          80,
          520,
          5,
          120,
          750,
          650,
          505,
          325,
          798,
          650,
          600,
          645,
          449,
          600,
          630,
          855,
          980,
          710,
          80,
          520,
          5,
          120,
          750,
          650,
          505,
          325,
          798,
          650,
          600,
          645,
          449,
          600,
          630,
          855,
          980,
          710,
          80,
          520,
          5,
          120,
          750,
          650,
          505,
          325,
          798,
          650,
          600,
          645,
          449,
          600,
          630,
          855,
          980,
          710,
          810,
          80,
          520,
          5,
          120,
          750,
          650,
          505,
          325,
          798,
          650,
          600,
          645,
          449,
          600,
          630,
          855,
          980,
          710,
          80,
          520,
          5,
          120,
          750,
          650,
          505,
          325,
          798,
          650,
          600,
          645,
          449,
          600,
          630,
          855,
          980,
          710,
          720,
          80,
          520,
          5,
          120,
          750,
          650,
          505,
          325,
          798,
          650,
          600,
          645,
          449,
          600,
          630,
          855,
          980,
          710,
          80,
          520,
          5,
          120,
          750,
          650,
          505,
          325,
          798,
          650,
          600,
          645,
          449,
          600,
          630,
          855,
          980,
          710,
          80,
          520,
          5,
          120,
          750,
          650,
          505,
          325,
          798,
          650,
          600,
          645,
          449,
          600,
          630,
          855,
          980,
          710,
          1020,
          80,
          520,
          5
         ],
         "y": [
          80,
          520,
          5,
          120,
          750,
          650,
          505,
          325,
          798,
          650,
          600,
          645,
          449,
          600,
          630,
          855,
          980,
          710,
          80,
          520,
          5,
          120,
          750,
          650,
          505,
          325,
          798,
          650,
          600,
          645,
          449,
          600,
          630,
          855,
          980,
          710,
          80,
          520,
          5,
          120,
          750,
          650,
          505,
          325,
          798,
          650,
          600,
          645,
          449,
          600,
          630,
          855,
          980,
          710,
          720,
          960,
          80,
          520,
          5,
          120,
          750,
          650,
          505,
          325,
          798,
          650,
          600,
          645,
          449,
          600,
          630,
          855,
          980,
          710,
          80,
          520,
          5,
          120,
          750,
          650,
          505,
          325,
          798,
          650,
          600,
          645,
          449,
          600,
          630,
          855,
          980,
          710,
          80,
          520,
          5,
          120,
          750,
          650,
          505,
          325,
          798,
          650,
          600,
          645,
          449,
          600,
          630,
          855,
          980,
          710,
          810,
          80,
          520,
          5,
          120,
          750,
          650,
          505,
          325,
          798,
          650,
          600,
          645,
          449,
          600,
          630,
          855,
          980,
          710,
          80,
          520,
          5,
          120,
          750,
          650,
          505,
          325,
          798,
          650,
          600,
          645,
          449,
          600,
          630,
          855,
          980,
          710,
          720,
          80,
          520,
          5,
          120,
          750,
          650,
          505,
          325,
          798,
          650,
          600,
          645,
          449,
          600,
          630,
          855,
          980,
          710,
          80,
          520,
          5,
          120,
          750,
          650,
          505,
          325,
          798,
          650,
          600,
          645,
          449,
          600,
          630,
          855,
          980,
          710,
          80,
          520,
          5,
          120,
          750,
          650,
          505,
          325,
          798,
          650,
          600,
          645,
          449,
          600,
          630,
          855,
          980,
          710,
          1020,
          80,
          520,
          5
         ]
        }
       ],
       "layout": {
        "legend": {
         "title": {
          "text": "Legend"
         }
        },
        "template": {
         "data": {
          "bar": [
           {
            "error_x": {
             "color": "#2a3f5f"
            },
            "error_y": {
             "color": "#2a3f5f"
            },
            "marker": {
             "line": {
              "color": "#E5ECF6",
              "width": 0.5
             },
             "pattern": {
              "fillmode": "overlay",
              "size": 10,
              "solidity": 0.2
             }
            },
            "type": "bar"
           }
          ],
          "barpolar": [
           {
            "marker": {
             "line": {
              "color": "#E5ECF6",
              "width": 0.5
             },
             "pattern": {
              "fillmode": "overlay",
              "size": 10,
              "solidity": 0.2
             }
            },
            "type": "barpolar"
           }
          ],
          "carpet": [
           {
            "aaxis": {
             "endlinecolor": "#2a3f5f",
             "gridcolor": "white",
             "linecolor": "white",
             "minorgridcolor": "white",
             "startlinecolor": "#2a3f5f"
            },
            "baxis": {
             "endlinecolor": "#2a3f5f",
             "gridcolor": "white",
             "linecolor": "white",
             "minorgridcolor": "white",
             "startlinecolor": "#2a3f5f"
            },
            "type": "carpet"
           }
          ],
          "choropleth": [
           {
            "colorbar": {
             "outlinewidth": 0,
             "ticks": ""
            },
            "type": "choropleth"
           }
          ],
          "contour": [
           {
            "colorbar": {
             "outlinewidth": 0,
             "ticks": ""
            },
            "colorscale": [
             [
              0,
              "#0d0887"
             ],
             [
              0.1111111111111111,
              "#46039f"
             ],
             [
              0.2222222222222222,
              "#7201a8"
             ],
             [
              0.3333333333333333,
              "#9c179e"
             ],
             [
              0.4444444444444444,
              "#bd3786"
             ],
             [
              0.5555555555555556,
              "#d8576b"
             ],
             [
              0.6666666666666666,
              "#ed7953"
             ],
             [
              0.7777777777777778,
              "#fb9f3a"
             ],
             [
              0.8888888888888888,
              "#fdca26"
             ],
             [
              1,
              "#f0f921"
             ]
            ],
            "type": "contour"
           }
          ],
          "contourcarpet": [
           {
            "colorbar": {
             "outlinewidth": 0,
             "ticks": ""
            },
            "type": "contourcarpet"
           }
          ],
          "heatmap": [
           {
            "colorbar": {
             "outlinewidth": 0,
             "ticks": ""
            },
            "colorscale": [
             [
              0,
              "#0d0887"
             ],
             [
              0.1111111111111111,
              "#46039f"
             ],
             [
              0.2222222222222222,
              "#7201a8"
             ],
             [
              0.3333333333333333,
              "#9c179e"
             ],
             [
              0.4444444444444444,
              "#bd3786"
             ],
             [
              0.5555555555555556,
              "#d8576b"
             ],
             [
              0.6666666666666666,
              "#ed7953"
             ],
             [
              0.7777777777777778,
              "#fb9f3a"
             ],
             [
              0.8888888888888888,
              "#fdca26"
             ],
             [
              1,
              "#f0f921"
             ]
            ],
            "type": "heatmap"
           }
          ],
          "heatmapgl": [
           {
            "colorbar": {
             "outlinewidth": 0,
             "ticks": ""
            },
            "colorscale": [
             [
              0,
              "#0d0887"
             ],
             [
              0.1111111111111111,
              "#46039f"
             ],
             [
              0.2222222222222222,
              "#7201a8"
             ],
             [
              0.3333333333333333,
              "#9c179e"
             ],
             [
              0.4444444444444444,
              "#bd3786"
             ],
             [
              0.5555555555555556,
              "#d8576b"
             ],
             [
              0.6666666666666666,
              "#ed7953"
             ],
             [
              0.7777777777777778,
              "#fb9f3a"
             ],
             [
              0.8888888888888888,
              "#fdca26"
             ],
             [
              1,
              "#f0f921"
             ]
            ],
            "type": "heatmapgl"
           }
          ],
          "histogram": [
           {
            "marker": {
             "pattern": {
              "fillmode": "overlay",
              "size": 10,
              "solidity": 0.2
             }
            },
            "type": "histogram"
           }
          ],
          "histogram2d": [
           {
            "colorbar": {
             "outlinewidth": 0,
             "ticks": ""
            },
            "colorscale": [
             [
              0,
              "#0d0887"
             ],
             [
              0.1111111111111111,
              "#46039f"
             ],
             [
              0.2222222222222222,
              "#7201a8"
             ],
             [
              0.3333333333333333,
              "#9c179e"
             ],
             [
              0.4444444444444444,
              "#bd3786"
             ],
             [
              0.5555555555555556,
              "#d8576b"
             ],
             [
              0.6666666666666666,
              "#ed7953"
             ],
             [
              0.7777777777777778,
              "#fb9f3a"
             ],
             [
              0.8888888888888888,
              "#fdca26"
             ],
             [
              1,
              "#f0f921"
             ]
            ],
            "type": "histogram2d"
           }
          ],
          "histogram2dcontour": [
           {
            "colorbar": {
             "outlinewidth": 0,
             "ticks": ""
            },
            "colorscale": [
             [
              0,
              "#0d0887"
             ],
             [
              0.1111111111111111,
              "#46039f"
             ],
             [
              0.2222222222222222,
              "#7201a8"
             ],
             [
              0.3333333333333333,
              "#9c179e"
             ],
             [
              0.4444444444444444,
              "#bd3786"
             ],
             [
              0.5555555555555556,
              "#d8576b"
             ],
             [
              0.6666666666666666,
              "#ed7953"
             ],
             [
              0.7777777777777778,
              "#fb9f3a"
             ],
             [
              0.8888888888888888,
              "#fdca26"
             ],
             [
              1,
              "#f0f921"
             ]
            ],
            "type": "histogram2dcontour"
           }
          ],
          "mesh3d": [
           {
            "colorbar": {
             "outlinewidth": 0,
             "ticks": ""
            },
            "type": "mesh3d"
           }
          ],
          "parcoords": [
           {
            "line": {
             "colorbar": {
              "outlinewidth": 0,
              "ticks": ""
             }
            },
            "type": "parcoords"
           }
          ],
          "pie": [
           {
            "automargin": true,
            "type": "pie"
           }
          ],
          "scatter": [
           {
            "fillpattern": {
             "fillmode": "overlay",
             "size": 10,
             "solidity": 0.2
            },
            "type": "scatter"
           }
          ],
          "scatter3d": [
           {
            "line": {
             "colorbar": {
              "outlinewidth": 0,
              "ticks": ""
             }
            },
            "marker": {
             "colorbar": {
              "outlinewidth": 0,
              "ticks": ""
             }
            },
            "type": "scatter3d"
           }
          ],
          "scattercarpet": [
           {
            "marker": {
             "colorbar": {
              "outlinewidth": 0,
              "ticks": ""
             }
            },
            "type": "scattercarpet"
           }
          ],
          "scattergeo": [
           {
            "marker": {
             "colorbar": {
              "outlinewidth": 0,
              "ticks": ""
             }
            },
            "type": "scattergeo"
           }
          ],
          "scattergl": [
           {
            "marker": {
             "colorbar": {
              "outlinewidth": 0,
              "ticks": ""
             }
            },
            "type": "scattergl"
           }
          ],
          "scattermapbox": [
           {
            "marker": {
             "colorbar": {
              "outlinewidth": 0,
              "ticks": ""
             }
            },
            "type": "scattermapbox"
           }
          ],
          "scatterpolar": [
           {
            "marker": {
             "colorbar": {
              "outlinewidth": 0,
              "ticks": ""
             }
            },
            "type": "scatterpolar"
           }
          ],
          "scatterpolargl": [
           {
            "marker": {
             "colorbar": {
              "outlinewidth": 0,
              "ticks": ""
             }
            },
            "type": "scatterpolargl"
           }
          ],
          "scatterternary": [
           {
            "marker": {
             "colorbar": {
              "outlinewidth": 0,
              "ticks": ""
             }
            },
            "type": "scatterternary"
           }
          ],
          "surface": [
           {
            "colorbar": {
             "outlinewidth": 0,
             "ticks": ""
            },
            "colorscale": [
             [
              0,
              "#0d0887"
             ],
             [
              0.1111111111111111,
              "#46039f"
             ],
             [
              0.2222222222222222,
              "#7201a8"
             ],
             [
              0.3333333333333333,
              "#9c179e"
             ],
             [
              0.4444444444444444,
              "#bd3786"
             ],
             [
              0.5555555555555556,
              "#d8576b"
             ],
             [
              0.6666666666666666,
              "#ed7953"
             ],
             [
              0.7777777777777778,
              "#fb9f3a"
             ],
             [
              0.8888888888888888,
              "#fdca26"
             ],
             [
              1,
              "#f0f921"
             ]
            ],
            "type": "surface"
           }
          ],
          "table": [
           {
            "cells": {
             "fill": {
              "color": "#EBF0F8"
             },
             "line": {
              "color": "white"
             }
            },
            "header": {
             "fill": {
              "color": "#C8D4E3"
             },
             "line": {
              "color": "white"
             }
            },
            "type": "table"
           }
          ]
         },
         "layout": {
          "annotationdefaults": {
           "arrowcolor": "#2a3f5f",
           "arrowhead": 0,
           "arrowwidth": 1
          },
          "autotypenumbers": "strict",
          "coloraxis": {
           "colorbar": {
            "outlinewidth": 0,
            "ticks": ""
           }
          },
          "colorscale": {
           "diverging": [
            [
             0,
             "#8e0152"
            ],
            [
             0.1,
             "#c51b7d"
            ],
            [
             0.2,
             "#de77ae"
            ],
            [
             0.3,
             "#f1b6da"
            ],
            [
             0.4,
             "#fde0ef"
            ],
            [
             0.5,
             "#f7f7f7"
            ],
            [
             0.6,
             "#e6f5d0"
            ],
            [
             0.7,
             "#b8e186"
            ],
            [
             0.8,
             "#7fbc41"
            ],
            [
             0.9,
             "#4d9221"
            ],
            [
             1,
             "#276419"
            ]
           ],
           "sequential": [
            [
             0,
             "#0d0887"
            ],
            [
             0.1111111111111111,
             "#46039f"
            ],
            [
             0.2222222222222222,
             "#7201a8"
            ],
            [
             0.3333333333333333,
             "#9c179e"
            ],
            [
             0.4444444444444444,
             "#bd3786"
            ],
            [
             0.5555555555555556,
             "#d8576b"
            ],
            [
             0.6666666666666666,
             "#ed7953"
            ],
            [
             0.7777777777777778,
             "#fb9f3a"
            ],
            [
             0.8888888888888888,
             "#fdca26"
            ],
            [
             1,
             "#f0f921"
            ]
           ],
           "sequentialminus": [
            [
             0,
             "#0d0887"
            ],
            [
             0.1111111111111111,
             "#46039f"
            ],
            [
             0.2222222222222222,
             "#7201a8"
            ],
            [
             0.3333333333333333,
             "#9c179e"
            ],
            [
             0.4444444444444444,
             "#bd3786"
            ],
            [
             0.5555555555555556,
             "#d8576b"
            ],
            [
             0.6666666666666666,
             "#ed7953"
            ],
            [
             0.7777777777777778,
             "#fb9f3a"
            ],
            [
             0.8888888888888888,
             "#fdca26"
            ],
            [
             1,
             "#f0f921"
            ]
           ]
          },
          "colorway": [
           "#636efa",
           "#EF553B",
           "#00cc96",
           "#ab63fa",
           "#FFA15A",
           "#19d3f3",
           "#FF6692",
           "#B6E880",
           "#FF97FF",
           "#FECB52"
          ],
          "font": {
           "color": "#2a3f5f"
          },
          "geo": {
           "bgcolor": "white",
           "lakecolor": "white",
           "landcolor": "#E5ECF6",
           "showlakes": true,
           "showland": true,
           "subunitcolor": "white"
          },
          "hoverlabel": {
           "align": "left"
          },
          "hovermode": "closest",
          "mapbox": {
           "style": "light"
          },
          "paper_bgcolor": "white",
          "plot_bgcolor": "#E5ECF6",
          "polar": {
           "angularaxis": {
            "gridcolor": "white",
            "linecolor": "white",
            "ticks": ""
           },
           "bgcolor": "#E5ECF6",
           "radialaxis": {
            "gridcolor": "white",
            "linecolor": "white",
            "ticks": ""
           }
          },
          "scene": {
           "xaxis": {
            "backgroundcolor": "#E5ECF6",
            "gridcolor": "white",
            "gridwidth": 2,
            "linecolor": "white",
            "showbackground": true,
            "ticks": "",
            "zerolinecolor": "white"
           },
           "yaxis": {
            "backgroundcolor": "#E5ECF6",
            "gridcolor": "white",
            "gridwidth": 2,
            "linecolor": "white",
            "showbackground": true,
            "ticks": "",
            "zerolinecolor": "white"
           },
           "zaxis": {
            "backgroundcolor": "#E5ECF6",
            "gridcolor": "white",
            "gridwidth": 2,
            "linecolor": "white",
            "showbackground": true,
            "ticks": "",
            "zerolinecolor": "white"
           }
          },
          "shapedefaults": {
           "line": {
            "color": "#2a3f5f"
           }
          },
          "ternary": {
           "aaxis": {
            "gridcolor": "white",
            "linecolor": "white",
            "ticks": ""
           },
           "baxis": {
            "gridcolor": "white",
            "linecolor": "white",
            "ticks": ""
           },
           "bgcolor": "#E5ECF6",
           "caxis": {
            "gridcolor": "white",
            "linecolor": "white",
            "ticks": ""
           }
          },
          "title": {
           "x": 0.05
          },
          "xaxis": {
           "automargin": true,
           "gridcolor": "white",
           "linecolor": "white",
           "ticks": "",
           "title": {
            "standoff": 15
           },
           "zerolinecolor": "white",
           "zerolinewidth": 2
          },
          "yaxis": {
           "automargin": true,
           "gridcolor": "white",
           "linecolor": "white",
           "ticks": "",
           "title": {
            "standoff": 15
           },
           "zerolinecolor": "white",
           "zerolinewidth": 2
          }
         }
        },
        "title": {
         "text": "Predicted vs Actual Prices"
        },
        "xaxis": {
         "title": {
          "text": "Actual Price (€)"
         }
        },
        "yaxis": {
         "title": {
          "text": "Predicted Price (€)"
         }
        }
       }
      },
      "text/html": [
       "<div>                            <div id=\"5229df95-8727-4bd8-acd4-648898f7e94e\" class=\"plotly-graph-div\" style=\"height:525px; width:100%;\"></div>            <script type=\"text/javascript\">                require([\"plotly\"], function(Plotly) {                    window.PLOTLYENV=window.PLOTLYENV || {};                                    if (document.getElementById(\"5229df95-8727-4bd8-acd4-648898f7e94e\")) {                    Plotly.newPlot(                        \"5229df95-8727-4bd8-acd4-648898f7e94e\",                        [{\"hoverinfo\":\"text\",\"hovertext\":[\"Actual: 80, Predicted: 301.91\",\"Actual: 520, Predicted: 320.61\",\"Actual: 5, Predicted: 255.08\",\"Actual: 120, Predicted: 350.38\",\"Actual: 750, Predicted: 365.61\",\"Actual: 650, Predicted: 321.10\",\"Actual: 505, Predicted: 554.53\",\"Actual: 325, Predicted: 445.71\",\"Actual: 798, Predicted: 608.18\",\"Actual: 650, Predicted: 685.28\",\"Actual: 600, Predicted: 508.43\",\"Actual: 645, Predicted: 655.97\",\"Actual: 449, Predicted: 503.87\",\"Actual: 600, Predicted: 509.68\",\"Actual: 630, Predicted: 700.30\",\"Actual: 855, Predicted: 730.75\",\"Actual: 980, Predicted: 1026.00\",\"Actual: 710, Predicted: 730.07\",\"Actual: 80, Predicted: 301.91\",\"Actual: 520, Predicted: 320.61\",\"Actual: 5, Predicted: 255.08\",\"Actual: 120, Predicted: 350.38\",\"Actual: 750, Predicted: 384.31\",\"Actual: 650, Predicted: 339.80\",\"Actual: 505, Predicted: 554.53\",\"Actual: 325, Predicted: 445.71\",\"Actual: 798, Predicted: 626.87\",\"Actual: 650, Predicted: 685.28\",\"Actual: 600, Predicted: 527.12\",\"Actual: 645, Predicted: 655.97\",\"Actual: 449, Predicted: 503.87\",\"Actual: 600, Predicted: 509.68\",\"Actual: 630, Predicted: 718.99\",\"Actual: 855, Predicted: 749.44\",\"Actual: 980, Predicted: 1026.00\",\"Actual: 710, Predicted: 730.07\",\"Actual: 80, Predicted: 320.61\",\"Actual: 520, Predicted: 339.30\",\"Actual: 5, Predicted: 273.77\",\"Actual: 120, Predicted: 369.08\",\"Actual: 750, Predicted: 384.31\",\"Actual: 650, Predicted: 339.80\",\"Actual: 505, Predicted: 573.23\",\"Actual: 325, Predicted: 445.71\",\"Actual: 798, Predicted: 626.87\",\"Actual: 650, Predicted: 685.28\",\"Actual: 600, Predicted: 527.12\",\"Actual: 645, Predicted: 655.97\",\"Actual: 449, Predicted: 503.87\",\"Actual: 600, Predicted: 509.68\",\"Actual: 630, Predicted: 718.99\",\"Actual: 855, Predicted: 749.44\",\"Actual: 980, Predicted: 1026.00\",\"Actual: 710, Predicted: 730.07\",\"Actual: 720, Predicted: 510.35\",\"Actual: 960, Predicted: 558.82\",\"Actual: 80, Predicted: 320.61\",\"Actual: 520, Predicted: 339.30\",\"Actual: 5, Predicted: 273.77\",\"Actual: 120, Predicted: 369.08\",\"Actual: 750, Predicted: 384.31\",\"Actual: 650, Predicted: 339.80\",\"Actual: 505, Predicted: 573.23\",\"Actual: 325, Predicted: 445.71\",\"Actual: 798, Predicted: 626.87\",\"Actual: 650, Predicted: 703.98\",\"Actual: 600, Predicted: 527.12\",\"Actual: 645, Predicted: 655.97\",\"Actual: 449, Predicted: 503.87\",\"Actual: 600, Predicted: 528.37\",\"Actual: 630, Predicted: 718.99\",\"Actual: 855, Predicted: 749.44\",\"Actual: 980, Predicted: 1044.69\",\"Actual: 710, Predicted: 748.77\",\"Actual: 80, Predicted: 320.61\",\"Actual: 520, Predicted: 339.30\",\"Actual: 5, Predicted: 273.77\",\"Actual: 120, Predicted: 369.08\",\"Actual: 750, Predicted: 384.31\",\"Actual: 650, Predicted: 339.80\",\"Actual: 505, Predicted: 573.23\",\"Actual: 325, Predicted: 464.41\",\"Actual: 798, Predicted: 626.87\",\"Actual: 650, Predicted: 703.98\",\"Actual: 600, Predicted: 527.12\",\"Actual: 645, Predicted: 674.66\",\"Actual: 449, Predicted: 503.87\",\"Actual: 600, Predicted: 528.37\",\"Actual: 630, Predicted: 718.99\",\"Actual: 855, Predicted: 749.44\",\"Actual: 980, Predicted: 1044.69\",\"Actual: 710, Predicted: 748.77\",\"Actual: 80, Predicted: 320.61\",\"Actual: 520, Predicted: 339.30\",\"Actual: 5, Predicted: 273.77\",\"Actual: 120, Predicted: 369.08\",\"Actual: 750, Predicted: 384.31\",\"Actual: 650, Predicted: 358.49\",\"Actual: 505, Predicted: 573.23\",\"Actual: 325, Predicted: 464.41\",\"Actual: 798, Predicted: 626.87\",\"Actual: 650, Predicted: 703.98\",\"Actual: 600, Predicted: 527.12\",\"Actual: 645, Predicted: 674.66\",\"Actual: 449, Predicted: 522.57\",\"Actual: 600, Predicted: 528.37\",\"Actual: 630, Predicted: 718.99\",\"Actual: 855, Predicted: 749.44\",\"Actual: 980, Predicted: 1044.69\",\"Actual: 710, Predicted: 748.77\",\"Actual: 810, Predicted: 510.35\",\"Actual: 80, Predicted: 339.30\",\"Actual: 520, Predicted: 339.30\",\"Actual: 5, Predicted: 273.77\",\"Actual: 120, Predicted: 369.08\",\"Actual: 750, Predicted: 403.00\",\"Actual: 650, Predicted: 358.49\",\"Actual: 505, Predicted: 573.23\",\"Actual: 325, Predicted: 464.41\",\"Actual: 798, Predicted: 645.56\",\"Actual: 650, Predicted: 703.98\",\"Actual: 600, Predicted: 545.82\",\"Actual: 645, Predicted: 674.66\",\"Actual: 449, Predicted: 522.57\",\"Actual: 600, Predicted: 528.37\",\"Actual: 630, Predicted: 737.69\",\"Actual: 855, Predicted: 768.14\",\"Actual: 980, Predicted: 1044.69\",\"Actual: 710, Predicted: 748.77\",\"Actual: 80, Predicted: 339.30\",\"Actual: 520, Predicted: 358.00\",\"Actual: 5, Predicted: 292.47\",\"Actual: 120, Predicted: 387.77\",\"Actual: 750, Predicted: 403.00\",\"Actual: 650, Predicted: 358.49\",\"Actual: 505, Predicted: 591.92\",\"Actual: 325, Predicted: 464.41\",\"Actual: 798, Predicted: 645.56\",\"Actual: 650, Predicted: 722.67\",\"Actual: 600, Predicted: 545.82\",\"Actual: 645, Predicted: 674.66\",\"Actual: 449, Predicted: 522.57\",\"Actual: 600, Predicted: 528.37\",\"Actual: 630, Predicted: 737.69\",\"Actual: 855, Predicted: 768.14\",\"Actual: 980, Predicted: 1044.69\",\"Actual: 710, Predicted: 767.46\",\"Actual: 720, Predicted: 510.35\",\"Actual: 80, Predicted: 339.30\",\"Actual: 520, Predicted: 358.00\",\"Actual: 5, Predicted: 292.47\",\"Actual: 120, Predicted: 387.77\",\"Actual: 750, Predicted: 403.00\",\"Actual: 650, Predicted: 358.49\",\"Actual: 505, Predicted: 591.92\",\"Actual: 325, Predicted: 464.41\",\"Actual: 798, Predicted: 645.56\",\"Actual: 650, Predicted: 722.67\",\"Actual: 600, Predicted: 545.82\",\"Actual: 645, Predicted: 693.36\",\"Actual: 449, Predicted: 522.57\",\"Actual: 600, Predicted: 547.07\",\"Actual: 630, Predicted: 737.69\",\"Actual: 855, Predicted: 768.14\",\"Actual: 980, Predicted: 1063.39\",\"Actual: 710, Predicted: 767.46\",\"Actual: 80, Predicted: 339.30\",\"Actual: 520, Predicted: 358.00\",\"Actual: 5, Predicted: 292.47\",\"Actual: 120, Predicted: 387.77\",\"Actual: 750, Predicted: 403.00\",\"Actual: 650, Predicted: 358.49\",\"Actual: 505, Predicted: 591.92\",\"Actual: 325, Predicted: 483.10\",\"Actual: 798, Predicted: 645.56\",\"Actual: 650, Predicted: 722.67\",\"Actual: 600, Predicted: 545.82\",\"Actual: 645, Predicted: 693.36\",\"Actual: 449, Predicted: 541.26\",\"Actual: 600, Predicted: 547.07\",\"Actual: 630, Predicted: 737.69\",\"Actual: 855, Predicted: 768.14\",\"Actual: 980, Predicted: 1063.39\",\"Actual: 710, Predicted: 767.46\",\"Actual: 80, Predicted: 339.30\",\"Actual: 520, Predicted: 358.00\",\"Actual: 5, Predicted: 292.47\",\"Actual: 120, Predicted: 387.77\",\"Actual: 750, Predicted: 421.69\",\"Actual: 650, Predicted: 377.19\",\"Actual: 505, Predicted: 591.92\",\"Actual: 325, Predicted: 483.10\",\"Actual: 798, Predicted: 664.26\",\"Actual: 650, Predicted: 722.67\",\"Actual: 600, Predicted: 564.51\",\"Actual: 645, Predicted: 693.36\",\"Actual: 449, Predicted: 541.26\",\"Actual: 600, Predicted: 547.07\",\"Actual: 630, Predicted: 756.38\",\"Actual: 855, Predicted: 786.83\",\"Actual: 980, Predicted: 1063.39\",\"Actual: 710, Predicted: 767.46\",\"Actual: 1020, Predicted: 571.25\",\"Actual: 80, Predicted: 358.00\",\"Actual: 520, Predicted: 376.69\",\"Actual: 5, Predicted: 311.16\"],\"marker\":{\"color\":\"blue\",\"opacity\":0.5,\"size\":10},\"mode\":\"markers\",\"name\":\"Predicted vs Actual\",\"x\":[80,520,5,120,750,650,505,325,798,650,600,645,449,600,630,855,980,710,80,520,5,120,750,650,505,325,798,650,600,645,449,600,630,855,980,710,80,520,5,120,750,650,505,325,798,650,600,645,449,600,630,855,980,710,720,960,80,520,5,120,750,650,505,325,798,650,600,645,449,600,630,855,980,710,80,520,5,120,750,650,505,325,798,650,600,645,449,600,630,855,980,710,80,520,5,120,750,650,505,325,798,650,600,645,449,600,630,855,980,710,810,80,520,5,120,750,650,505,325,798,650,600,645,449,600,630,855,980,710,80,520,5,120,750,650,505,325,798,650,600,645,449,600,630,855,980,710,720,80,520,5,120,750,650,505,325,798,650,600,645,449,600,630,855,980,710,80,520,5,120,750,650,505,325,798,650,600,645,449,600,630,855,980,710,80,520,5,120,750,650,505,325,798,650,600,645,449,600,630,855,980,710,1020,80,520,5],\"y\":[301.91451232628714,320.6089357822005,255.0779324490925,350.3848455510835,365.61071983697093,321.10443968779504,554.5339706410946,445.7112343776425,608.1758141247293,685.2838076764016,508.42881976609124,655.9703085466339,503.8711930075315,509.67819636418494,700.2962537985123,730.7480023702873,1025.9980900199655,730.0721635673953,301.91451232628714,320.6089357822005,255.0779324490925,350.3848455510835,384.3051432928843,339.7988631437084,554.5339706410946,445.7112343776425,626.8702375806428,685.2838076764016,527.1232432220046,655.9703085466339,503.8711930075315,509.67819636418494,718.9906772544258,749.4424258262005,1025.9980900199655,730.0721635673953,320.6089357822005,339.3033592381139,273.77235590500584,369.0792690069968,384.3051432928843,339.7988631437084,573.2283940970079,445.7112343776425,626.8702375806428,685.2838076764016,527.1232432220046,655.9703085466339,503.8711930075315,509.67819636418494,718.9906772544258,749.4424258262005,1025.9980900199655,730.0721635673953,510.3458807084681,558.8162139332644,320.6089357822005,339.3033592381139,273.77235590500584,369.0792690069968,384.3051432928843,339.7988631437084,573.2283940970079,445.7112343776425,626.8702375806428,703.9782311323149,527.1232432220046,655.9703085466339,503.8711930075315,528.3726198200983,718.9906772544258,749.4424258262005,1044.692513475879,748.7665870233087,320.6089357822005,339.3033592381139,273.77235590500584,369.0792690069968,384.3051432928843,339.7988631437084,573.2283940970079,464.4056578335559,626.8702375806428,703.9782311323149,527.1232432220046,674.6647320025471,503.8711930075315,528.3726198200983,718.9906772544258,749.4424258262005,1044.692513475879,748.7665870233087,320.6089357822005,339.3033592381139,273.77235590500584,369.0792690069968,384.3051432928843,358.4932865996218,573.2283940970079,464.4056578335559,626.8702375806428,703.9782311323149,527.1232432220046,674.6647320025471,522.5656164634448,528.3726198200983,718.9906772544258,749.4424258262005,1044.692513475879,748.7665870233087,510.3458807084681,339.3033592381139,339.3033592381139,273.77235590500584,369.0792690069968,402.99956674879763,358.4932865996218,573.2283940970079,464.4056578335559,645.564661036556,703.9782311323149,545.817666677918,674.6647320025471,522.5656164634448,528.3726198200983,737.685100710339,768.136849282114,1044.692513475879,748.7665870233087,339.3033592381139,357.9977826940272,292.4667793609192,387.7736924629102,402.99956674879763,358.4932865996218,591.9228175529213,464.4056578335559,645.564661036556,722.6726545882283,545.817666677918,674.6647320025471,522.5656164634448,528.3726198200983,737.685100710339,768.136849282114,1044.692513475879,767.461010479222,510.3458807084681,339.3033592381139,357.9977826940272,292.4667793609192,387.7736924629102,402.99956674879763,358.4932865996218,591.9228175529213,464.4056578335559,645.564661036556,722.6726545882283,545.817666677918,693.3591554584606,522.5656164634448,547.0670432760116,737.685100710339,768.136849282114,1063.3869369317922,767.461010479222,339.3033592381139,357.9977826940272,292.4667793609192,387.7736924629102,402.99956674879763,358.4932865996218,591.9228175529213,483.10008128946924,645.564661036556,722.6726545882283,545.817666677918,693.3591554584606,541.2600399193582,547.0670432760116,737.685100710339,768.136849282114,1063.3869369317922,767.461010479222,339.3033592381139,357.9977826940272,292.4667793609192,387.7736924629102,421.693990204711,377.18771005553515,591.9228175529213,483.10008128946924,664.2590844924695,722.6726545882283,564.5120901338314,693.3591554584606,541.2600399193582,547.0670432760116,756.3795241662525,786.8312727380272,1063.3869369317922,767.461010479222,571.2493778520179,357.9977826940272,376.6922061499406,311.16120281683254],\"type\":\"scatter\"},{\"line\":{\"color\":\"red\",\"dash\":\"dash\",\"width\":2},\"mode\":\"lines\",\"name\":\"Perfect Fit\",\"x\":[80,520,5,120,750,650,505,325,798,650,600,645,449,600,630,855,980,710,80,520,5,120,750,650,505,325,798,650,600,645,449,600,630,855,980,710,80,520,5,120,750,650,505,325,798,650,600,645,449,600,630,855,980,710,720,960,80,520,5,120,750,650,505,325,798,650,600,645,449,600,630,855,980,710,80,520,5,120,750,650,505,325,798,650,600,645,449,600,630,855,980,710,80,520,5,120,750,650,505,325,798,650,600,645,449,600,630,855,980,710,810,80,520,5,120,750,650,505,325,798,650,600,645,449,600,630,855,980,710,80,520,5,120,750,650,505,325,798,650,600,645,449,600,630,855,980,710,720,80,520,5,120,750,650,505,325,798,650,600,645,449,600,630,855,980,710,80,520,5,120,750,650,505,325,798,650,600,645,449,600,630,855,980,710,80,520,5,120,750,650,505,325,798,650,600,645,449,600,630,855,980,710,1020,80,520,5],\"y\":[80,520,5,120,750,650,505,325,798,650,600,645,449,600,630,855,980,710,80,520,5,120,750,650,505,325,798,650,600,645,449,600,630,855,980,710,80,520,5,120,750,650,505,325,798,650,600,645,449,600,630,855,980,710,720,960,80,520,5,120,750,650,505,325,798,650,600,645,449,600,630,855,980,710,80,520,5,120,750,650,505,325,798,650,600,645,449,600,630,855,980,710,80,520,5,120,750,650,505,325,798,650,600,645,449,600,630,855,980,710,810,80,520,5,120,750,650,505,325,798,650,600,645,449,600,630,855,980,710,80,520,5,120,750,650,505,325,798,650,600,645,449,600,630,855,980,710,720,80,520,5,120,750,650,505,325,798,650,600,645,449,600,630,855,980,710,80,520,5,120,750,650,505,325,798,650,600,645,449,600,630,855,980,710,80,520,5,120,750,650,505,325,798,650,600,645,449,600,630,855,980,710,1020,80,520,5],\"type\":\"scatter\"}],                        {\"template\":{\"data\":{\"histogram2dcontour\":[{\"type\":\"histogram2dcontour\",\"colorbar\":{\"outlinewidth\":0,\"ticks\":\"\"},\"colorscale\":[[0.0,\"#0d0887\"],[0.1111111111111111,\"#46039f\"],[0.2222222222222222,\"#7201a8\"],[0.3333333333333333,\"#9c179e\"],[0.4444444444444444,\"#bd3786\"],[0.5555555555555556,\"#d8576b\"],[0.6666666666666666,\"#ed7953\"],[0.7777777777777778,\"#fb9f3a\"],[0.8888888888888888,\"#fdca26\"],[1.0,\"#f0f921\"]]}],\"choropleth\":[{\"type\":\"choropleth\",\"colorbar\":{\"outlinewidth\":0,\"ticks\":\"\"}}],\"histogram2d\":[{\"type\":\"histogram2d\",\"colorbar\":{\"outlinewidth\":0,\"ticks\":\"\"},\"colorscale\":[[0.0,\"#0d0887\"],[0.1111111111111111,\"#46039f\"],[0.2222222222222222,\"#7201a8\"],[0.3333333333333333,\"#9c179e\"],[0.4444444444444444,\"#bd3786\"],[0.5555555555555556,\"#d8576b\"],[0.6666666666666666,\"#ed7953\"],[0.7777777777777778,\"#fb9f3a\"],[0.8888888888888888,\"#fdca26\"],[1.0,\"#f0f921\"]]}],\"heatmap\":[{\"type\":\"heatmap\",\"colorbar\":{\"outlinewidth\":0,\"ticks\":\"\"},\"colorscale\":[[0.0,\"#0d0887\"],[0.1111111111111111,\"#46039f\"],[0.2222222222222222,\"#7201a8\"],[0.3333333333333333,\"#9c179e\"],[0.4444444444444444,\"#bd3786\"],[0.5555555555555556,\"#d8576b\"],[0.6666666666666666,\"#ed7953\"],[0.7777777777777778,\"#fb9f3a\"],[0.8888888888888888,\"#fdca26\"],[1.0,\"#f0f921\"]]}],\"heatmapgl\":[{\"type\":\"heatmapgl\",\"colorbar\":{\"outlinewidth\":0,\"ticks\":\"\"},\"colorscale\":[[0.0,\"#0d0887\"],[0.1111111111111111,\"#46039f\"],[0.2222222222222222,\"#7201a8\"],[0.3333333333333333,\"#9c179e\"],[0.4444444444444444,\"#bd3786\"],[0.5555555555555556,\"#d8576b\"],[0.6666666666666666,\"#ed7953\"],[0.7777777777777778,\"#fb9f3a\"],[0.8888888888888888,\"#fdca26\"],[1.0,\"#f0f921\"]]}],\"contourcarpet\":[{\"type\":\"contourcarpet\",\"colorbar\":{\"outlinewidth\":0,\"ticks\":\"\"}}],\"contour\":[{\"type\":\"contour\",\"colorbar\":{\"outlinewidth\":0,\"ticks\":\"\"},\"colorscale\":[[0.0,\"#0d0887\"],[0.1111111111111111,\"#46039f\"],[0.2222222222222222,\"#7201a8\"],[0.3333333333333333,\"#9c179e\"],[0.4444444444444444,\"#bd3786\"],[0.5555555555555556,\"#d8576b\"],[0.6666666666666666,\"#ed7953\"],[0.7777777777777778,\"#fb9f3a\"],[0.8888888888888888,\"#fdca26\"],[1.0,\"#f0f921\"]]}],\"surface\":[{\"type\":\"surface\",\"colorbar\":{\"outlinewidth\":0,\"ticks\":\"\"},\"colorscale\":[[0.0,\"#0d0887\"],[0.1111111111111111,\"#46039f\"],[0.2222222222222222,\"#7201a8\"],[0.3333333333333333,\"#9c179e\"],[0.4444444444444444,\"#bd3786\"],[0.5555555555555556,\"#d8576b\"],[0.6666666666666666,\"#ed7953\"],[0.7777777777777778,\"#fb9f3a\"],[0.8888888888888888,\"#fdca26\"],[1.0,\"#f0f921\"]]}],\"mesh3d\":[{\"type\":\"mesh3d\",\"colorbar\":{\"outlinewidth\":0,\"ticks\":\"\"}}],\"scatter\":[{\"fillpattern\":{\"fillmode\":\"overlay\",\"size\":10,\"solidity\":0.2},\"type\":\"scatter\"}],\"parcoords\":[{\"type\":\"parcoords\",\"line\":{\"colorbar\":{\"outlinewidth\":0,\"ticks\":\"\"}}}],\"scatterpolargl\":[{\"type\":\"scatterpolargl\",\"marker\":{\"colorbar\":{\"outlinewidth\":0,\"ticks\":\"\"}}}],\"bar\":[{\"error_x\":{\"color\":\"#2a3f5f\"},\"error_y\":{\"color\":\"#2a3f5f\"},\"marker\":{\"line\":{\"color\":\"#E5ECF6\",\"width\":0.5},\"pattern\":{\"fillmode\":\"overlay\",\"size\":10,\"solidity\":0.2}},\"type\":\"bar\"}],\"scattergeo\":[{\"type\":\"scattergeo\",\"marker\":{\"colorbar\":{\"outlinewidth\":0,\"ticks\":\"\"}}}],\"scatterpolar\":[{\"type\":\"scatterpolar\",\"marker\":{\"colorbar\":{\"outlinewidth\":0,\"ticks\":\"\"}}}],\"histogram\":[{\"marker\":{\"pattern\":{\"fillmode\":\"overlay\",\"size\":10,\"solidity\":0.2}},\"type\":\"histogram\"}],\"scattergl\":[{\"type\":\"scattergl\",\"marker\":{\"colorbar\":{\"outlinewidth\":0,\"ticks\":\"\"}}}],\"scatter3d\":[{\"type\":\"scatter3d\",\"line\":{\"colorbar\":{\"outlinewidth\":0,\"ticks\":\"\"}},\"marker\":{\"colorbar\":{\"outlinewidth\":0,\"ticks\":\"\"}}}],\"scattermapbox\":[{\"type\":\"scattermapbox\",\"marker\":{\"colorbar\":{\"outlinewidth\":0,\"ticks\":\"\"}}}],\"scatterternary\":[{\"type\":\"scatterternary\",\"marker\":{\"colorbar\":{\"outlinewidth\":0,\"ticks\":\"\"}}}],\"scattercarpet\":[{\"type\":\"scattercarpet\",\"marker\":{\"colorbar\":{\"outlinewidth\":0,\"ticks\":\"\"}}}],\"carpet\":[{\"aaxis\":{\"endlinecolor\":\"#2a3f5f\",\"gridcolor\":\"white\",\"linecolor\":\"white\",\"minorgridcolor\":\"white\",\"startlinecolor\":\"#2a3f5f\"},\"baxis\":{\"endlinecolor\":\"#2a3f5f\",\"gridcolor\":\"white\",\"linecolor\":\"white\",\"minorgridcolor\":\"white\",\"startlinecolor\":\"#2a3f5f\"},\"type\":\"carpet\"}],\"table\":[{\"cells\":{\"fill\":{\"color\":\"#EBF0F8\"},\"line\":{\"color\":\"white\"}},\"header\":{\"fill\":{\"color\":\"#C8D4E3\"},\"line\":{\"color\":\"white\"}},\"type\":\"table\"}],\"barpolar\":[{\"marker\":{\"line\":{\"color\":\"#E5ECF6\",\"width\":0.5},\"pattern\":{\"fillmode\":\"overlay\",\"size\":10,\"solidity\":0.2}},\"type\":\"barpolar\"}],\"pie\":[{\"automargin\":true,\"type\":\"pie\"}]},\"layout\":{\"autotypenumbers\":\"strict\",\"colorway\":[\"#636efa\",\"#EF553B\",\"#00cc96\",\"#ab63fa\",\"#FFA15A\",\"#19d3f3\",\"#FF6692\",\"#B6E880\",\"#FF97FF\",\"#FECB52\"],\"font\":{\"color\":\"#2a3f5f\"},\"hovermode\":\"closest\",\"hoverlabel\":{\"align\":\"left\"},\"paper_bgcolor\":\"white\",\"plot_bgcolor\":\"#E5ECF6\",\"polar\":{\"bgcolor\":\"#E5ECF6\",\"angularaxis\":{\"gridcolor\":\"white\",\"linecolor\":\"white\",\"ticks\":\"\"},\"radialaxis\":{\"gridcolor\":\"white\",\"linecolor\":\"white\",\"ticks\":\"\"}},\"ternary\":{\"bgcolor\":\"#E5ECF6\",\"aaxis\":{\"gridcolor\":\"white\",\"linecolor\":\"white\",\"ticks\":\"\"},\"baxis\":{\"gridcolor\":\"white\",\"linecolor\":\"white\",\"ticks\":\"\"},\"caxis\":{\"gridcolor\":\"white\",\"linecolor\":\"white\",\"ticks\":\"\"}},\"coloraxis\":{\"colorbar\":{\"outlinewidth\":0,\"ticks\":\"\"}},\"colorscale\":{\"sequential\":[[0.0,\"#0d0887\"],[0.1111111111111111,\"#46039f\"],[0.2222222222222222,\"#7201a8\"],[0.3333333333333333,\"#9c179e\"],[0.4444444444444444,\"#bd3786\"],[0.5555555555555556,\"#d8576b\"],[0.6666666666666666,\"#ed7953\"],[0.7777777777777778,\"#fb9f3a\"],[0.8888888888888888,\"#fdca26\"],[1.0,\"#f0f921\"]],\"sequentialminus\":[[0.0,\"#0d0887\"],[0.1111111111111111,\"#46039f\"],[0.2222222222222222,\"#7201a8\"],[0.3333333333333333,\"#9c179e\"],[0.4444444444444444,\"#bd3786\"],[0.5555555555555556,\"#d8576b\"],[0.6666666666666666,\"#ed7953\"],[0.7777777777777778,\"#fb9f3a\"],[0.8888888888888888,\"#fdca26\"],[1.0,\"#f0f921\"]],\"diverging\":[[0,\"#8e0152\"],[0.1,\"#c51b7d\"],[0.2,\"#de77ae\"],[0.3,\"#f1b6da\"],[0.4,\"#fde0ef\"],[0.5,\"#f7f7f7\"],[0.6,\"#e6f5d0\"],[0.7,\"#b8e186\"],[0.8,\"#7fbc41\"],[0.9,\"#4d9221\"],[1,\"#276419\"]]},\"xaxis\":{\"gridcolor\":\"white\",\"linecolor\":\"white\",\"ticks\":\"\",\"title\":{\"standoff\":15},\"zerolinecolor\":\"white\",\"automargin\":true,\"zerolinewidth\":2},\"yaxis\":{\"gridcolor\":\"white\",\"linecolor\":\"white\",\"ticks\":\"\",\"title\":{\"standoff\":15},\"zerolinecolor\":\"white\",\"automargin\":true,\"zerolinewidth\":2},\"scene\":{\"xaxis\":{\"backgroundcolor\":\"#E5ECF6\",\"gridcolor\":\"white\",\"linecolor\":\"white\",\"showbackground\":true,\"ticks\":\"\",\"zerolinecolor\":\"white\",\"gridwidth\":2},\"yaxis\":{\"backgroundcolor\":\"#E5ECF6\",\"gridcolor\":\"white\",\"linecolor\":\"white\",\"showbackground\":true,\"ticks\":\"\",\"zerolinecolor\":\"white\",\"gridwidth\":2},\"zaxis\":{\"backgroundcolor\":\"#E5ECF6\",\"gridcolor\":\"white\",\"linecolor\":\"white\",\"showbackground\":true,\"ticks\":\"\",\"zerolinecolor\":\"white\",\"gridwidth\":2}},\"shapedefaults\":{\"line\":{\"color\":\"#2a3f5f\"}},\"annotationdefaults\":{\"arrowcolor\":\"#2a3f5f\",\"arrowhead\":0,\"arrowwidth\":1},\"geo\":{\"bgcolor\":\"white\",\"landcolor\":\"#E5ECF6\",\"subunitcolor\":\"white\",\"showland\":true,\"showlakes\":true,\"lakecolor\":\"white\"},\"title\":{\"x\":0.05},\"mapbox\":{\"style\":\"light\"}}},\"title\":{\"text\":\"Predicted vs Actual Prices\"},\"xaxis\":{\"title\":{\"text\":\"Actual Price (\\u20ac)\"}},\"yaxis\":{\"title\":{\"text\":\"Predicted Price (\\u20ac)\"}},\"legend\":{\"title\":{\"text\":\"Legend\"}}},                        {\"responsive\": true}                    ).then(function(){\n",
       "                            \n",
       "var gd = document.getElementById('5229df95-8727-4bd8-acd4-648898f7e94e');\n",
       "var x = new MutationObserver(function (mutations, observer) {{\n",
       "        var display = window.getComputedStyle(gd).display;\n",
       "        if (!display || display === 'none') {{\n",
       "            console.log([gd, 'removed!']);\n",
       "            Plotly.purge(gd);\n",
       "            observer.disconnect();\n",
       "        }}\n",
       "}});\n",
       "\n",
       "// Listen for the removal of the full notebook cells\n",
       "var notebookContainer = gd.closest('#notebook-container');\n",
       "if (notebookContainer) {{\n",
       "    x.observe(notebookContainer, {childList: true});\n",
       "}}\n",
       "\n",
       "// Listen for the clearing of the current output cell\n",
       "var outputEl = gd.closest('.output');\n",
       "if (outputEl) {{\n",
       "    x.observe(outputEl, {childList: true});\n",
       "}}\n",
       "\n",
       "                        })                };                });            </script>        </div>"
      ]
     },
     "metadata": {},
     "output_type": "display_data"
    }
   ],
   "source": [
    "import pandas as pd\n",
    "import statsmodels.api as sm\n",
    "import plotly.graph_objects as go\n",
    "import openpyxl\n",
    "\n",
    "# Load the data from the Excel file\n",
    "df = pd.read_excel('in_depth_analysis.xlsx')\n",
    "\n",
    "# Select the dependent variable (Price) and independent variables\n",
    "X = df[['Size', 'WG Type', 'Online Duration', 'Health Centers Proximity', 'Low-crime Areas Proximity',\n",
    "        'Berlin Hauptbahnhof Proximity', 'Berlin Brandenburg Airport Proximity', 'Cinemas Proximity']]\n",
    "y = df['Price']\n",
    "\n",
    "# Adding a constant to the model (intercept)\n",
    "X = sm.add_constant(X)\n",
    "\n",
    "# Fit an OLS regression model\n",
    "model = sm.OLS(y, X).fit()\n",
    "\n",
    "# Predict the prices using the fitted model\n",
    "predictions = model.predict(X)\n",
    "\n",
    "# Create a scatter plot using Plotly\n",
    "fig = go.Figure()\n",
    "\n",
    "# Add actual prices scatter plot\n",
    "fig.add_trace(go.Scatter(x=y, y=predictions, mode='markers', name='Predicted vs Actual',\n",
    "                         marker=dict(color='blue', size=10, opacity=0.5),\n",
    "                         hoverinfo='text',\n",
    "                         hovertext=[f'Actual: {a}, Predicted: {p:.2f}' for a, p in zip(y, predictions)]))\n",
    "\n",
    "# Add line for perfect fit\n",
    "fig.add_trace(go.Scatter(x=y, y=y, mode='lines', name='Perfect Fit',\n",
    "                         line=dict(color='red', width=2, dash='dash')))\n",
    "\n",
    "# Set plot layout\n",
    "fig.update_layout(title='Predicted vs Actual Prices',\n",
    "                  xaxis_title='Actual Price (€)',\n",
    "                  yaxis_title='Predicted Price (€)',\n",
    "                  legend_title='Legend')\n",
    "\n",
    "# Show the figure\n",
    "fig.show()\n"
   ]
  },
  {
   "cell_type": "markdown",
   "id": "201b6a33-065e-4a9a-b2a1-4a56abec0052",
   "metadata": {},
   "source": [
    "### Part 2: Determinants of WG Listing Duration"
   ]
  },
  {
   "cell_type": "code",
   "execution_count": 5,
   "id": "90dab5bd-b29b-41be-a167-51bf1cfc8702",
   "metadata": {},
   "outputs": [
    {
     "name": "stdout",
     "output_type": "stream",
     "text": [
      "                            OLS Regression Results                            \n",
      "==============================================================================\n",
      "Dep. Variable:        Online Duration   R-squared:                       0.435\n",
      "Model:                            OLS   Adj. R-squared:                  0.418\n",
      "Method:                 Least Squares   F-statistic:                     25.57\n",
      "Date:                Mon, 15 Jul 2024   Prob (F-statistic):           1.99e-22\n",
      "Time:                        13:20:59   Log-Likelihood:                -636.77\n",
      "No. Observations:                 206   AIC:                             1288.\n",
      "Df Residuals:                     199   BIC:                             1311.\n",
      "Df Model:                           6                                         \n",
      "Covariance Type:            nonrobust                                         \n",
      "========================================================================================================\n",
      "                                           coef    std err          t      P>|t|      [0.025      0.975]\n",
      "--------------------------------------------------------------------------------------------------------\n",
      "Size                                    -0.0359      0.039     -0.932      0.352      -0.112       0.040\n",
      "Price                                    0.0163      0.002      9.325      0.000       0.013       0.020\n",
      "WG Type                                 -0.8345      0.494     -1.690      0.093      -1.808       0.139\n",
      "Health Centers Proximity                 5.6286      1.185      4.749      0.000       3.291       7.966\n",
      "Low-crime Areas Proximity                2.0432      1.140      1.792      0.075      -0.206       4.292\n",
      "Berlin Hauptbahnhof Proximity           -2.6114      1.433     -1.822      0.070      -5.437       0.215\n",
      "Berlin Brandenburg Airport Proximity    -6.3148      1.850     -3.413      0.001      -9.963      -2.667\n",
      "Cinemas Proximity                        5.6286      1.185      4.749      0.000       3.291       7.966\n",
      "==============================================================================\n",
      "Omnibus:                        7.948   Durbin-Watson:                   1.356\n",
      "Prob(Omnibus):                  0.019   Jarque-Bera (JB):                6.489\n",
      "Skew:                          -0.342   Prob(JB):                       0.0390\n",
      "Kurtosis:                       2.462   Cond. No.                     4.65e+19\n",
      "==============================================================================\n",
      "\n",
      "Notes:\n",
      "[1] Standard Errors assume that the covariance matrix of the errors is correctly specified.\n",
      "[2] The smallest eigenvalue is 3.56e-32. This might indicate that there are\n",
      "strong multicollinearity problems or that the design matrix is singular.\n"
     ]
    }
   ],
   "source": [
    "import pandas as pd\n",
    "import statsmodels.api as sm\n",
    "from io import StringIO\n",
    "\n",
    "# Load the data from the Excel file\n",
    "df = pd.read_excel('in_depth_analysis.xlsx')\n",
    "\n",
    "X = df[['Size','Price','WG Type','Health Centers Proximity', 'Low-crime Areas Proximity',\n",
    "        'Berlin Hauptbahnhof Proximity', 'Berlin Brandenburg Airport Proximity', 'Cinemas Proximity']]\n",
    "y = df['Online Duration']\n",
    "\n",
    "# Adding a constant to the model (intercept)\n",
    "X = sm.add_constant(X)\n",
    "\n",
    "# Fit an OLS regression model\n",
    "model = sm.OLS(y, X).fit()\n",
    "\n",
    "# Print the summary of the regression\n",
    "print(model.summary())\n",
    "\n",
    "# Convert the summary to a DataFrame and save to CSV\n",
    "summary_html = model.summary().tables[1].as_html()\n",
    "summary_df = pd.read_html(StringIO(summary_html), header=0, index_col=0)[0]\n",
    "summary_df.to_csv('ols_online_depth_summary.csv')\n",
    "\n",
    "# Alternatively, save just the coefficients and p-values\n",
    "coefficients = model.params\n",
    "p_values = model.pvalues\n",
    "results_df = pd.DataFrame({'Coefficient': coefficients, 'P-Value': p_values})\n",
    "results_df.to_csv('ols_online_depth_coefficients_pvalues.csv', index=True)"
   ]
  },
  {
   "cell_type": "markdown",
   "id": "710b10ec-2cca-406c-bbae-567ff2ce3d56",
   "metadata": {},
   "source": [
    "### Interpretation\n",
    "\n",
    "- **R-squared**: 0.4\n",
    "    - This indicates that approximately 43.5% of the variance in online duration is explained by the model's predictors.\n",
    "\n",
    "- **Size**: \n",
    "    - Coefficient: -0.03\n",
    "    - P-value: 0.3\n",
    "    - Interpretation: Despite the negative coefficient, this suggests a decrease in rental price with increased size, although it is not statistically significant.\n",
    "\n",
    "- **WG Type**: \n",
    "    - Coefficient: -0.8\n",
    "    - P-value: 0.000\n",
    "    - Interpretation: Each additional room tends to decrease the online duration.\n",
    "\n",
    "- **Price**:\n",
    "    - Coefficient: 0.01\n",
    "    - P-value: 0.000\n",
    "    - Interpretation: A higher price is significantly associated with longer online durations.\n",
    "\n",
    "- **Health Centers Proximity**: \n",
    "    - Coefficient: 5.6\n",
    "    - P-value: 0.00\n",
    "    - Interpretation: Closer proximity to health centers significantly increases the online duration, indicating that listings near health facilities might stay online longer.\n",
    "\n",
    "- **Low-crime Areas Proximity**: \n",
    "    - Coefficient: 2.04\n",
    "    - P-value: 0.07\n",
    "    - Interpretation: Being close to low-crime areas slightly increases online duration, potentially indicating a preference for safer areas, which might affect availability and pricing.\n",
    "\n",
    "- **Berlin Hauptbahnhof Proximity**: \n",
    "    - Coefficient: -2.6\n",
    "    - P-value: 0.07\n",
    "    - Interpretation: Closer proximity to Berlin Hauptbahnhof slightly decreases the online duration, though this effect is not statistically significant.\n",
    "\n",
    "- **Berlin Brandenburg Airport Proximity**: \n",
    "    - Coefficient: -6.3148\n",
    "    - P-value: 0.001\n",
    "    - Interpretation: Proximity to Berlin Brandenburg Airport significantly reduces online duration, implying that listings near the airport are more desirable and close faster.\n",
    "\n",
    "- **Cinemas Proximity**: \n",
    "    - Coefficient: 5.6\n",
    "    - P-value: 0.000\n",
    "    - Interpretation: Proximity to cinemas significantly increases online duration, suggesting that such amenities, while attractive, do not necessarily lead to faster sales or rentals.\n"
   ]
  },
  {
   "cell_type": "code",
   "execution_count": 3,
   "id": "ce9d726c-6ca0-4735-b942-4ac89305567b",
   "metadata": {},
   "outputs": [
    {
     "data": {
      "application/vnd.plotly.v1+json": {
       "config": {
        "plotlyServerURL": "https://plot.ly"
       },
       "data": [
        {
         "hoverinfo": "text",
         "hovertext": [
          "Actual: 3, Predicted: 7.60",
          "Actual: 4, Predicted: 14.75",
          "Actual: 6, Predicted: 2.82",
          "Actual: 6, Predicted: 8.28",
          "Actual: 6, Predicted: 18.46",
          "Actual: 6, Predicted: 12.47",
          "Actual: 11, Predicted: 14.58",
          "Actual: 12, Predicted: 12.90",
          "Actual: 13, Predicted: 18.19",
          "Actual: 14, Predicted: 14.98",
          "Actual: 14, Predicted: 17.77",
          "Actual: 18, Predicted: 15.92",
          "Actual: 21, Predicted: 14.76",
          "Actual: 22, Predicted: 20.60",
          "Actual: 22, Predicted: 15.82",
          "Actual: 22, Predicted: 19.33",
          "Actual: 23, Predicted: 20.58",
          "Actual: 24, Predicted: 17.15",
          "Actual: 3, Predicted: 7.60",
          "Actual: 4, Predicted: 14.75",
          "Actual: 6, Predicted: 2.82",
          "Actual: 6, Predicted: 8.28",
          "Actual: 7, Predicted: 18.46",
          "Actual: 7, Predicted: 12.47",
          "Actual: 11, Predicted: 14.58",
          "Actual: 12, Predicted: 12.90",
          "Actual: 14, Predicted: 18.19",
          "Actual: 14, Predicted: 14.98",
          "Actual: 15, Predicted: 17.77",
          "Actual: 18, Predicted: 15.92",
          "Actual: 21, Predicted: 14.76",
          "Actual: 22, Predicted: 20.60",
          "Actual: 23, Predicted: 15.82",
          "Actual: 23, Predicted: 19.33",
          "Actual: 23, Predicted: 20.58",
          "Actual: 24, Predicted: 17.15",
          "Actual: 4, Predicted: 7.60",
          "Actual: 5, Predicted: 14.75",
          "Actual: 7, Predicted: 2.82",
          "Actual: 7, Predicted: 8.28",
          "Actual: 7, Predicted: 18.46",
          "Actual: 7, Predicted: 12.47",
          "Actual: 12, Predicted: 14.58",
          "Actual: 12, Predicted: 12.90",
          "Actual: 14, Predicted: 18.19",
          "Actual: 14, Predicted: 14.98",
          "Actual: 15, Predicted: 17.77",
          "Actual: 18, Predicted: 15.92",
          "Actual: 21, Predicted: 14.76",
          "Actual: 22, Predicted: 20.60",
          "Actual: 23, Predicted: 15.82",
          "Actual: 23, Predicted: 19.33",
          "Actual: 23, Predicted: 20.58",
          "Actual: 24, Predicted: 17.15",
          "Actual: 17, Predicted: 18.26",
          "Actual: 20, Predicted: 22.20",
          "Actual: 4, Predicted: 7.60",
          "Actual: 5, Predicted: 14.75",
          "Actual: 7, Predicted: 2.82",
          "Actual: 7, Predicted: 8.28",
          "Actual: 7, Predicted: 18.46",
          "Actual: 7, Predicted: 12.47",
          "Actual: 12, Predicted: 14.58",
          "Actual: 12, Predicted: 12.90",
          "Actual: 14, Predicted: 18.19",
          "Actual: 15, Predicted: 14.98",
          "Actual: 15, Predicted: 17.77",
          "Actual: 18, Predicted: 15.92",
          "Actual: 21, Predicted: 14.76",
          "Actual: 23, Predicted: 20.60",
          "Actual: 23, Predicted: 15.82",
          "Actual: 23, Predicted: 19.33",
          "Actual: 24, Predicted: 20.58",
          "Actual: 25, Predicted: 17.15",
          "Actual: 4, Predicted: 7.60",
          "Actual: 5, Predicted: 14.75",
          "Actual: 7, Predicted: 2.82",
          "Actual: 7, Predicted: 8.28",
          "Actual: 7, Predicted: 18.46",
          "Actual: 7, Predicted: 12.47",
          "Actual: 12, Predicted: 14.58",
          "Actual: 13, Predicted: 12.90",
          "Actual: 14, Predicted: 18.19",
          "Actual: 15, Predicted: 14.98",
          "Actual: 15, Predicted: 17.77",
          "Actual: 19, Predicted: 15.92",
          "Actual: 21, Predicted: 14.76",
          "Actual: 23, Predicted: 20.60",
          "Actual: 23, Predicted: 15.82",
          "Actual: 23, Predicted: 19.33",
          "Actual: 24, Predicted: 20.58",
          "Actual: 25, Predicted: 17.15",
          "Actual: 4, Predicted: 7.60",
          "Actual: 5, Predicted: 14.75",
          "Actual: 7, Predicted: 2.82",
          "Actual: 7, Predicted: 8.28",
          "Actual: 7, Predicted: 18.46",
          "Actual: 8, Predicted: 12.47",
          "Actual: 12, Predicted: 14.58",
          "Actual: 13, Predicted: 12.90",
          "Actual: 14, Predicted: 18.19",
          "Actual: 15, Predicted: 14.98",
          "Actual: 15, Predicted: 17.77",
          "Actual: 19, Predicted: 15.92",
          "Actual: 22, Predicted: 14.76",
          "Actual: 23, Predicted: 20.60",
          "Actual: 23, Predicted: 15.82",
          "Actual: 23, Predicted: 19.33",
          "Actual: 24, Predicted: 20.58",
          "Actual: 25, Predicted: 17.15",
          "Actual: 17, Predicted: 19.72",
          "Actual: 5, Predicted: 7.60",
          "Actual: 5, Predicted: 14.75",
          "Actual: 7, Predicted: 2.82",
          "Actual: 7, Predicted: 8.28",
          "Actual: 8, Predicted: 18.46",
          "Actual: 8, Predicted: 12.47",
          "Actual: 12, Predicted: 14.58",
          "Actual: 13, Predicted: 12.90",
          "Actual: 15, Predicted: 18.19",
          "Actual: 15, Predicted: 14.98",
          "Actual: 16, Predicted: 17.77",
          "Actual: 19, Predicted: 15.92",
          "Actual: 22, Predicted: 14.76",
          "Actual: 23, Predicted: 20.60",
          "Actual: 24, Predicted: 15.82",
          "Actual: 24, Predicted: 19.33",
          "Actual: 24, Predicted: 20.58",
          "Actual: 25, Predicted: 17.15",
          "Actual: 5, Predicted: 7.60",
          "Actual: 6, Predicted: 14.75",
          "Actual: 8, Predicted: 2.82",
          "Actual: 8, Predicted: 8.28",
          "Actual: 8, Predicted: 18.46",
          "Actual: 8, Predicted: 12.47",
          "Actual: 13, Predicted: 14.58",
          "Actual: 13, Predicted: 12.90",
          "Actual: 15, Predicted: 18.19",
          "Actual: 16, Predicted: 14.98",
          "Actual: 16, Predicted: 17.77",
          "Actual: 19, Predicted: 15.92",
          "Actual: 22, Predicted: 14.76",
          "Actual: 23, Predicted: 20.60",
          "Actual: 24, Predicted: 15.82",
          "Actual: 24, Predicted: 19.33",
          "Actual: 24, Predicted: 20.58",
          "Actual: 26, Predicted: 17.15",
          "Actual: 17, Predicted: 18.26",
          "Actual: 5, Predicted: 7.60",
          "Actual: 6, Predicted: 14.75",
          "Actual: 8, Predicted: 2.82",
          "Actual: 8, Predicted: 8.28",
          "Actual: 8, Predicted: 18.46",
          "Actual: 8, Predicted: 12.47",
          "Actual: 13, Predicted: 14.58",
          "Actual: 13, Predicted: 12.90",
          "Actual: 15, Predicted: 18.19",
          "Actual: 16, Predicted: 14.98",
          "Actual: 16, Predicted: 17.77",
          "Actual: 20, Predicted: 15.92",
          "Actual: 22, Predicted: 14.76",
          "Actual: 24, Predicted: 20.60",
          "Actual: 24, Predicted: 15.82",
          "Actual: 24, Predicted: 19.33",
          "Actual: 25, Predicted: 20.58",
          "Actual: 26, Predicted: 17.15",
          "Actual: 5, Predicted: 7.60",
          "Actual: 6, Predicted: 14.75",
          "Actual: 8, Predicted: 2.82",
          "Actual: 8, Predicted: 8.28",
          "Actual: 8, Predicted: 18.46",
          "Actual: 8, Predicted: 12.47",
          "Actual: 13, Predicted: 14.58",
          "Actual: 14, Predicted: 12.90",
          "Actual: 15, Predicted: 18.19",
          "Actual: 16, Predicted: 14.98",
          "Actual: 16, Predicted: 17.77",
          "Actual: 20, Predicted: 15.92",
          "Actual: 23, Predicted: 14.76",
          "Actual: 24, Predicted: 20.60",
          "Actual: 24, Predicted: 15.82",
          "Actual: 24, Predicted: 19.33",
          "Actual: 25, Predicted: 20.58",
          "Actual: 26, Predicted: 17.15",
          "Actual: 5, Predicted: 7.60",
          "Actual: 6, Predicted: 14.75",
          "Actual: 8, Predicted: 2.82",
          "Actual: 8, Predicted: 8.28",
          "Actual: 9, Predicted: 18.46",
          "Actual: 9, Predicted: 12.47",
          "Actual: 13, Predicted: 14.58",
          "Actual: 14, Predicted: 12.90",
          "Actual: 16, Predicted: 18.19",
          "Actual: 16, Predicted: 14.98",
          "Actual: 17, Predicted: 17.77",
          "Actual: 20, Predicted: 15.92",
          "Actual: 23, Predicted: 14.76",
          "Actual: 24, Predicted: 20.60",
          "Actual: 25, Predicted: 15.82",
          "Actual: 25, Predicted: 19.33",
          "Actual: 25, Predicted: 20.58",
          "Actual: 26, Predicted: 17.15",
          "Actual: 17, Predicted: 22.85",
          "Actual: 6, Predicted: 7.60",
          "Actual: 7, Predicted: 14.75",
          "Actual: 9, Predicted: 2.82"
         ],
         "marker": {
          "color": "blue",
          "opacity": 0.5,
          "size": 10
         },
         "mode": "markers",
         "name": "Predicted vs Actual",
         "type": "scatter",
         "x": [
          3,
          4,
          6,
          6,
          6,
          6,
          11,
          12,
          13,
          14,
          14,
          18,
          21,
          22,
          22,
          22,
          23,
          24,
          3,
          4,
          6,
          6,
          7,
          7,
          11,
          12,
          14,
          14,
          15,
          18,
          21,
          22,
          23,
          23,
          23,
          24,
          4,
          5,
          7,
          7,
          7,
          7,
          12,
          12,
          14,
          14,
          15,
          18,
          21,
          22,
          23,
          23,
          23,
          24,
          17,
          20,
          4,
          5,
          7,
          7,
          7,
          7,
          12,
          12,
          14,
          15,
          15,
          18,
          21,
          23,
          23,
          23,
          24,
          25,
          4,
          5,
          7,
          7,
          7,
          7,
          12,
          13,
          14,
          15,
          15,
          19,
          21,
          23,
          23,
          23,
          24,
          25,
          4,
          5,
          7,
          7,
          7,
          8,
          12,
          13,
          14,
          15,
          15,
          19,
          22,
          23,
          23,
          23,
          24,
          25,
          17,
          5,
          5,
          7,
          7,
          8,
          8,
          12,
          13,
          15,
          15,
          16,
          19,
          22,
          23,
          24,
          24,
          24,
          25,
          5,
          6,
          8,
          8,
          8,
          8,
          13,
          13,
          15,
          16,
          16,
          19,
          22,
          23,
          24,
          24,
          24,
          26,
          17,
          5,
          6,
          8,
          8,
          8,
          8,
          13,
          13,
          15,
          16,
          16,
          20,
          22,
          24,
          24,
          24,
          25,
          26,
          5,
          6,
          8,
          8,
          8,
          8,
          13,
          14,
          15,
          16,
          16,
          20,
          23,
          24,
          24,
          24,
          25,
          26,
          5,
          6,
          8,
          8,
          9,
          9,
          13,
          14,
          16,
          16,
          17,
          20,
          23,
          24,
          25,
          25,
          25,
          26,
          17,
          6,
          7,
          9
         ],
         "y": [
          7.596027222182031,
          14.752941710461492,
          2.8162933601193956,
          8.282552601455302,
          18.458159312632436,
          12.473134516233415,
          14.580792026287337,
          12.897423090032087,
          18.188988028752817,
          14.983014180647405,
          17.774278027164375,
          15.915714409179195,
          14.7556919234701,
          20.601026155530818,
          15.815315845706582,
          19.331514505858028,
          20.583918179897317,
          17.15246981482344,
          7.596027222182031,
          14.752941710461492,
          2.8162933601193956,
          8.282552601455302,
          18.458159312632436,
          12.473134516233415,
          14.580792026287337,
          12.897423090032087,
          18.188988028752817,
          14.983014180647405,
          17.774278027164375,
          15.915714409179195,
          14.7556919234701,
          20.601026155530818,
          15.815315845706582,
          19.331514505858028,
          20.583918179897317,
          17.15246981482344,
          7.596027222182031,
          14.752941710461492,
          2.8162933601193956,
          8.282552601455302,
          18.458159312632436,
          12.473134516233415,
          14.580792026287337,
          12.897423090032087,
          18.188988028752817,
          14.983014180647405,
          17.774278027164375,
          15.915714409179195,
          14.7556919234701,
          20.601026155530818,
          15.815315845706582,
          19.331514505858028,
          20.583918179897317,
          17.15246981482344,
          18.25736218568721,
          22.19703051417842,
          7.596027222182031,
          14.752941710461492,
          2.8162933601193956,
          8.282552601455302,
          18.458159312632436,
          12.473134516233415,
          14.580792026287337,
          12.897423090032087,
          18.188988028752817,
          14.983014180647405,
          17.774278027164375,
          15.915714409179195,
          14.7556919234701,
          20.601026155530818,
          15.815315845706582,
          19.331514505858028,
          20.583918179897317,
          17.15246981482344,
          7.596027222182031,
          14.752941710461492,
          2.8162933601193956,
          8.282552601455302,
          18.458159312632436,
          12.473134516233415,
          14.580792026287337,
          12.897423090032087,
          18.188988028752817,
          14.983014180647405,
          17.774278027164375,
          15.915714409179195,
          14.7556919234701,
          20.601026155530818,
          15.815315845706582,
          19.331514505858028,
          20.583918179897317,
          17.15246981482344,
          7.596027222182031,
          14.752941710461492,
          2.8162933601193956,
          8.282552601455302,
          18.458159312632436,
          12.473134516233415,
          14.580792026287337,
          12.897423090032087,
          18.188988028752817,
          14.983014180647405,
          17.774278027164375,
          15.915714409179195,
          14.7556919234701,
          20.601026155530818,
          15.815315845706582,
          19.331514505858028,
          20.583918179897317,
          17.15246981482344,
          19.72127651283528,
          7.596027222182031,
          14.752941710461492,
          2.8162933601193956,
          8.282552601455302,
          18.458159312632436,
          12.473134516233415,
          14.580792026287337,
          12.897423090032087,
          18.188988028752817,
          14.983014180647405,
          17.774278027164375,
          15.915714409179195,
          14.7556919234701,
          20.601026155530818,
          15.815315845706582,
          19.331514505858028,
          20.583918179897317,
          17.15246981482344,
          7.596027222182031,
          14.752941710461492,
          2.8162933601193956,
          8.282552601455302,
          18.458159312632436,
          12.473134516233415,
          14.580792026287337,
          12.897423090032087,
          18.188988028752817,
          14.983014180647405,
          17.774278027164375,
          15.915714409179195,
          14.7556919234701,
          20.601026155530818,
          15.815315845706582,
          19.331514505858028,
          20.583918179897317,
          17.15246981482344,
          18.25736218568721,
          7.596027222182031,
          14.752941710461492,
          2.8162933601193956,
          8.282552601455302,
          18.458159312632436,
          12.473134516233415,
          14.580792026287337,
          12.897423090032087,
          18.188988028752817,
          14.983014180647405,
          17.774278027164375,
          15.915714409179195,
          14.7556919234701,
          20.601026155530818,
          15.815315845706582,
          19.331514505858028,
          20.583918179897317,
          17.15246981482344,
          7.596027222182031,
          14.752941710461492,
          2.8162933601193956,
          8.282552601455302,
          18.458159312632436,
          12.473134516233415,
          14.580792026287337,
          12.897423090032087,
          18.188988028752817,
          14.983014180647405,
          17.774278027164375,
          15.915714409179195,
          14.7556919234701,
          20.601026155530818,
          15.815315845706582,
          19.331514505858028,
          20.583918179897317,
          17.15246981482344,
          7.596027222182031,
          14.752941710461492,
          2.8162933601193956,
          8.282552601455302,
          18.458159312632436,
          12.473134516233415,
          14.580792026287337,
          12.897423090032087,
          18.188988028752817,
          14.983014180647405,
          17.774278027164375,
          15.915714409179195,
          14.7556919234701,
          20.601026155530818,
          15.815315845706582,
          19.331514505858028,
          20.583918179897317,
          17.15246981482344,
          22.84990229407665,
          7.596027222182031,
          14.752941710461492,
          2.8162933601193956
         ]
        },
        {
         "line": {
          "color": "red",
          "dash": "dash",
          "width": 2
         },
         "mode": "lines",
         "name": "Perfect Fit",
         "type": "scatter",
         "x": [
          3,
          4,
          6,
          6,
          6,
          6,
          11,
          12,
          13,
          14,
          14,
          18,
          21,
          22,
          22,
          22,
          23,
          24,
          3,
          4,
          6,
          6,
          7,
          7,
          11,
          12,
          14,
          14,
          15,
          18,
          21,
          22,
          23,
          23,
          23,
          24,
          4,
          5,
          7,
          7,
          7,
          7,
          12,
          12,
          14,
          14,
          15,
          18,
          21,
          22,
          23,
          23,
          23,
          24,
          17,
          20,
          4,
          5,
          7,
          7,
          7,
          7,
          12,
          12,
          14,
          15,
          15,
          18,
          21,
          23,
          23,
          23,
          24,
          25,
          4,
          5,
          7,
          7,
          7,
          7,
          12,
          13,
          14,
          15,
          15,
          19,
          21,
          23,
          23,
          23,
          24,
          25,
          4,
          5,
          7,
          7,
          7,
          8,
          12,
          13,
          14,
          15,
          15,
          19,
          22,
          23,
          23,
          23,
          24,
          25,
          17,
          5,
          5,
          7,
          7,
          8,
          8,
          12,
          13,
          15,
          15,
          16,
          19,
          22,
          23,
          24,
          24,
          24,
          25,
          5,
          6,
          8,
          8,
          8,
          8,
          13,
          13,
          15,
          16,
          16,
          19,
          22,
          23,
          24,
          24,
          24,
          26,
          17,
          5,
          6,
          8,
          8,
          8,
          8,
          13,
          13,
          15,
          16,
          16,
          20,
          22,
          24,
          24,
          24,
          25,
          26,
          5,
          6,
          8,
          8,
          8,
          8,
          13,
          14,
          15,
          16,
          16,
          20,
          23,
          24,
          24,
          24,
          25,
          26,
          5,
          6,
          8,
          8,
          9,
          9,
          13,
          14,
          16,
          16,
          17,
          20,
          23,
          24,
          25,
          25,
          25,
          26,
          17,
          6,
          7,
          9
         ],
         "y": [
          3,
          4,
          6,
          6,
          6,
          6,
          11,
          12,
          13,
          14,
          14,
          18,
          21,
          22,
          22,
          22,
          23,
          24,
          3,
          4,
          6,
          6,
          7,
          7,
          11,
          12,
          14,
          14,
          15,
          18,
          21,
          22,
          23,
          23,
          23,
          24,
          4,
          5,
          7,
          7,
          7,
          7,
          12,
          12,
          14,
          14,
          15,
          18,
          21,
          22,
          23,
          23,
          23,
          24,
          17,
          20,
          4,
          5,
          7,
          7,
          7,
          7,
          12,
          12,
          14,
          15,
          15,
          18,
          21,
          23,
          23,
          23,
          24,
          25,
          4,
          5,
          7,
          7,
          7,
          7,
          12,
          13,
          14,
          15,
          15,
          19,
          21,
          23,
          23,
          23,
          24,
          25,
          4,
          5,
          7,
          7,
          7,
          8,
          12,
          13,
          14,
          15,
          15,
          19,
          22,
          23,
          23,
          23,
          24,
          25,
          17,
          5,
          5,
          7,
          7,
          8,
          8,
          12,
          13,
          15,
          15,
          16,
          19,
          22,
          23,
          24,
          24,
          24,
          25,
          5,
          6,
          8,
          8,
          8,
          8,
          13,
          13,
          15,
          16,
          16,
          19,
          22,
          23,
          24,
          24,
          24,
          26,
          17,
          5,
          6,
          8,
          8,
          8,
          8,
          13,
          13,
          15,
          16,
          16,
          20,
          22,
          24,
          24,
          24,
          25,
          26,
          5,
          6,
          8,
          8,
          8,
          8,
          13,
          14,
          15,
          16,
          16,
          20,
          23,
          24,
          24,
          24,
          25,
          26,
          5,
          6,
          8,
          8,
          9,
          9,
          13,
          14,
          16,
          16,
          17,
          20,
          23,
          24,
          25,
          25,
          25,
          26,
          17,
          6,
          7,
          9
         ]
        }
       ],
       "layout": {
        "autosize": true,
        "legend": {
         "title": {
          "text": "Legend"
         }
        },
        "template": {
         "data": {
          "bar": [
           {
            "error_x": {
             "color": "#2a3f5f"
            },
            "error_y": {
             "color": "#2a3f5f"
            },
            "marker": {
             "line": {
              "color": "#E5ECF6",
              "width": 0.5
             },
             "pattern": {
              "fillmode": "overlay",
              "size": 10,
              "solidity": 0.2
             }
            },
            "type": "bar"
           }
          ],
          "barpolar": [
           {
            "marker": {
             "line": {
              "color": "#E5ECF6",
              "width": 0.5
             },
             "pattern": {
              "fillmode": "overlay",
              "size": 10,
              "solidity": 0.2
             }
            },
            "type": "barpolar"
           }
          ],
          "carpet": [
           {
            "aaxis": {
             "endlinecolor": "#2a3f5f",
             "gridcolor": "white",
             "linecolor": "white",
             "minorgridcolor": "white",
             "startlinecolor": "#2a3f5f"
            },
            "baxis": {
             "endlinecolor": "#2a3f5f",
             "gridcolor": "white",
             "linecolor": "white",
             "minorgridcolor": "white",
             "startlinecolor": "#2a3f5f"
            },
            "type": "carpet"
           }
          ],
          "choropleth": [
           {
            "colorbar": {
             "outlinewidth": 0,
             "ticks": ""
            },
            "type": "choropleth"
           }
          ],
          "contour": [
           {
            "colorbar": {
             "outlinewidth": 0,
             "ticks": ""
            },
            "colorscale": [
             [
              0,
              "#0d0887"
             ],
             [
              0.1111111111111111,
              "#46039f"
             ],
             [
              0.2222222222222222,
              "#7201a8"
             ],
             [
              0.3333333333333333,
              "#9c179e"
             ],
             [
              0.4444444444444444,
              "#bd3786"
             ],
             [
              0.5555555555555556,
              "#d8576b"
             ],
             [
              0.6666666666666666,
              "#ed7953"
             ],
             [
              0.7777777777777778,
              "#fb9f3a"
             ],
             [
              0.8888888888888888,
              "#fdca26"
             ],
             [
              1,
              "#f0f921"
             ]
            ],
            "type": "contour"
           }
          ],
          "contourcarpet": [
           {
            "colorbar": {
             "outlinewidth": 0,
             "ticks": ""
            },
            "type": "contourcarpet"
           }
          ],
          "heatmap": [
           {
            "colorbar": {
             "outlinewidth": 0,
             "ticks": ""
            },
            "colorscale": [
             [
              0,
              "#0d0887"
             ],
             [
              0.1111111111111111,
              "#46039f"
             ],
             [
              0.2222222222222222,
              "#7201a8"
             ],
             [
              0.3333333333333333,
              "#9c179e"
             ],
             [
              0.4444444444444444,
              "#bd3786"
             ],
             [
              0.5555555555555556,
              "#d8576b"
             ],
             [
              0.6666666666666666,
              "#ed7953"
             ],
             [
              0.7777777777777778,
              "#fb9f3a"
             ],
             [
              0.8888888888888888,
              "#fdca26"
             ],
             [
              1,
              "#f0f921"
             ]
            ],
            "type": "heatmap"
           }
          ],
          "heatmapgl": [
           {
            "colorbar": {
             "outlinewidth": 0,
             "ticks": ""
            },
            "colorscale": [
             [
              0,
              "#0d0887"
             ],
             [
              0.1111111111111111,
              "#46039f"
             ],
             [
              0.2222222222222222,
              "#7201a8"
             ],
             [
              0.3333333333333333,
              "#9c179e"
             ],
             [
              0.4444444444444444,
              "#bd3786"
             ],
             [
              0.5555555555555556,
              "#d8576b"
             ],
             [
              0.6666666666666666,
              "#ed7953"
             ],
             [
              0.7777777777777778,
              "#fb9f3a"
             ],
             [
              0.8888888888888888,
              "#fdca26"
             ],
             [
              1,
              "#f0f921"
             ]
            ],
            "type": "heatmapgl"
           }
          ],
          "histogram": [
           {
            "marker": {
             "pattern": {
              "fillmode": "overlay",
              "size": 10,
              "solidity": 0.2
             }
            },
            "type": "histogram"
           }
          ],
          "histogram2d": [
           {
            "colorbar": {
             "outlinewidth": 0,
             "ticks": ""
            },
            "colorscale": [
             [
              0,
              "#0d0887"
             ],
             [
              0.1111111111111111,
              "#46039f"
             ],
             [
              0.2222222222222222,
              "#7201a8"
             ],
             [
              0.3333333333333333,
              "#9c179e"
             ],
             [
              0.4444444444444444,
              "#bd3786"
             ],
             [
              0.5555555555555556,
              "#d8576b"
             ],
             [
              0.6666666666666666,
              "#ed7953"
             ],
             [
              0.7777777777777778,
              "#fb9f3a"
             ],
             [
              0.8888888888888888,
              "#fdca26"
             ],
             [
              1,
              "#f0f921"
             ]
            ],
            "type": "histogram2d"
           }
          ],
          "histogram2dcontour": [
           {
            "colorbar": {
             "outlinewidth": 0,
             "ticks": ""
            },
            "colorscale": [
             [
              0,
              "#0d0887"
             ],
             [
              0.1111111111111111,
              "#46039f"
             ],
             [
              0.2222222222222222,
              "#7201a8"
             ],
             [
              0.3333333333333333,
              "#9c179e"
             ],
             [
              0.4444444444444444,
              "#bd3786"
             ],
             [
              0.5555555555555556,
              "#d8576b"
             ],
             [
              0.6666666666666666,
              "#ed7953"
             ],
             [
              0.7777777777777778,
              "#fb9f3a"
             ],
             [
              0.8888888888888888,
              "#fdca26"
             ],
             [
              1,
              "#f0f921"
             ]
            ],
            "type": "histogram2dcontour"
           }
          ],
          "mesh3d": [
           {
            "colorbar": {
             "outlinewidth": 0,
             "ticks": ""
            },
            "type": "mesh3d"
           }
          ],
          "parcoords": [
           {
            "line": {
             "colorbar": {
              "outlinewidth": 0,
              "ticks": ""
             }
            },
            "type": "parcoords"
           }
          ],
          "pie": [
           {
            "automargin": true,
            "type": "pie"
           }
          ],
          "scatter": [
           {
            "fillpattern": {
             "fillmode": "overlay",
             "size": 10,
             "solidity": 0.2
            },
            "type": "scatter"
           }
          ],
          "scatter3d": [
           {
            "line": {
             "colorbar": {
              "outlinewidth": 0,
              "ticks": ""
             }
            },
            "marker": {
             "colorbar": {
              "outlinewidth": 0,
              "ticks": ""
             }
            },
            "type": "scatter3d"
           }
          ],
          "scattercarpet": [
           {
            "marker": {
             "colorbar": {
              "outlinewidth": 0,
              "ticks": ""
             }
            },
            "type": "scattercarpet"
           }
          ],
          "scattergeo": [
           {
            "marker": {
             "colorbar": {
              "outlinewidth": 0,
              "ticks": ""
             }
            },
            "type": "scattergeo"
           }
          ],
          "scattergl": [
           {
            "marker": {
             "colorbar": {
              "outlinewidth": 0,
              "ticks": ""
             }
            },
            "type": "scattergl"
           }
          ],
          "scattermapbox": [
           {
            "marker": {
             "colorbar": {
              "outlinewidth": 0,
              "ticks": ""
             }
            },
            "type": "scattermapbox"
           }
          ],
          "scatterpolar": [
           {
            "marker": {
             "colorbar": {
              "outlinewidth": 0,
              "ticks": ""
             }
            },
            "type": "scatterpolar"
           }
          ],
          "scatterpolargl": [
           {
            "marker": {
             "colorbar": {
              "outlinewidth": 0,
              "ticks": ""
             }
            },
            "type": "scatterpolargl"
           }
          ],
          "scatterternary": [
           {
            "marker": {
             "colorbar": {
              "outlinewidth": 0,
              "ticks": ""
             }
            },
            "type": "scatterternary"
           }
          ],
          "surface": [
           {
            "colorbar": {
             "outlinewidth": 0,
             "ticks": ""
            },
            "colorscale": [
             [
              0,
              "#0d0887"
             ],
             [
              0.1111111111111111,
              "#46039f"
             ],
             [
              0.2222222222222222,
              "#7201a8"
             ],
             [
              0.3333333333333333,
              "#9c179e"
             ],
             [
              0.4444444444444444,
              "#bd3786"
             ],
             [
              0.5555555555555556,
              "#d8576b"
             ],
             [
              0.6666666666666666,
              "#ed7953"
             ],
             [
              0.7777777777777778,
              "#fb9f3a"
             ],
             [
              0.8888888888888888,
              "#fdca26"
             ],
             [
              1,
              "#f0f921"
             ]
            ],
            "type": "surface"
           }
          ],
          "table": [
           {
            "cells": {
             "fill": {
              "color": "#EBF0F8"
             },
             "line": {
              "color": "white"
             }
            },
            "header": {
             "fill": {
              "color": "#C8D4E3"
             },
             "line": {
              "color": "white"
             }
            },
            "type": "table"
           }
          ]
         },
         "layout": {
          "annotationdefaults": {
           "arrowcolor": "#2a3f5f",
           "arrowhead": 0,
           "arrowwidth": 1
          },
          "autotypenumbers": "strict",
          "coloraxis": {
           "colorbar": {
            "outlinewidth": 0,
            "ticks": ""
           }
          },
          "colorscale": {
           "diverging": [
            [
             0,
             "#8e0152"
            ],
            [
             0.1,
             "#c51b7d"
            ],
            [
             0.2,
             "#de77ae"
            ],
            [
             0.3,
             "#f1b6da"
            ],
            [
             0.4,
             "#fde0ef"
            ],
            [
             0.5,
             "#f7f7f7"
            ],
            [
             0.6,
             "#e6f5d0"
            ],
            [
             0.7,
             "#b8e186"
            ],
            [
             0.8,
             "#7fbc41"
            ],
            [
             0.9,
             "#4d9221"
            ],
            [
             1,
             "#276419"
            ]
           ],
           "sequential": [
            [
             0,
             "#0d0887"
            ],
            [
             0.1111111111111111,
             "#46039f"
            ],
            [
             0.2222222222222222,
             "#7201a8"
            ],
            [
             0.3333333333333333,
             "#9c179e"
            ],
            [
             0.4444444444444444,
             "#bd3786"
            ],
            [
             0.5555555555555556,
             "#d8576b"
            ],
            [
             0.6666666666666666,
             "#ed7953"
            ],
            [
             0.7777777777777778,
             "#fb9f3a"
            ],
            [
             0.8888888888888888,
             "#fdca26"
            ],
            [
             1,
             "#f0f921"
            ]
           ],
           "sequentialminus": [
            [
             0,
             "#0d0887"
            ],
            [
             0.1111111111111111,
             "#46039f"
            ],
            [
             0.2222222222222222,
             "#7201a8"
            ],
            [
             0.3333333333333333,
             "#9c179e"
            ],
            [
             0.4444444444444444,
             "#bd3786"
            ],
            [
             0.5555555555555556,
             "#d8576b"
            ],
            [
             0.6666666666666666,
             "#ed7953"
            ],
            [
             0.7777777777777778,
             "#fb9f3a"
            ],
            [
             0.8888888888888888,
             "#fdca26"
            ],
            [
             1,
             "#f0f921"
            ]
           ]
          },
          "colorway": [
           "#636efa",
           "#EF553B",
           "#00cc96",
           "#ab63fa",
           "#FFA15A",
           "#19d3f3",
           "#FF6692",
           "#B6E880",
           "#FF97FF",
           "#FECB52"
          ],
          "font": {
           "color": "#2a3f5f"
          },
          "geo": {
           "bgcolor": "white",
           "lakecolor": "white",
           "landcolor": "#E5ECF6",
           "showlakes": true,
           "showland": true,
           "subunitcolor": "white"
          },
          "hoverlabel": {
           "align": "left"
          },
          "hovermode": "closest",
          "mapbox": {
           "style": "light"
          },
          "paper_bgcolor": "white",
          "plot_bgcolor": "#E5ECF6",
          "polar": {
           "angularaxis": {
            "gridcolor": "white",
            "linecolor": "white",
            "ticks": ""
           },
           "bgcolor": "#E5ECF6",
           "radialaxis": {
            "gridcolor": "white",
            "linecolor": "white",
            "ticks": ""
           }
          },
          "scene": {
           "xaxis": {
            "backgroundcolor": "#E5ECF6",
            "gridcolor": "white",
            "gridwidth": 2,
            "linecolor": "white",
            "showbackground": true,
            "ticks": "",
            "zerolinecolor": "white"
           },
           "yaxis": {
            "backgroundcolor": "#E5ECF6",
            "gridcolor": "white",
            "gridwidth": 2,
            "linecolor": "white",
            "showbackground": true,
            "ticks": "",
            "zerolinecolor": "white"
           },
           "zaxis": {
            "backgroundcolor": "#E5ECF6",
            "gridcolor": "white",
            "gridwidth": 2,
            "linecolor": "white",
            "showbackground": true,
            "ticks": "",
            "zerolinecolor": "white"
           }
          },
          "shapedefaults": {
           "line": {
            "color": "#2a3f5f"
           }
          },
          "ternary": {
           "aaxis": {
            "gridcolor": "white",
            "linecolor": "white",
            "ticks": ""
           },
           "baxis": {
            "gridcolor": "white",
            "linecolor": "white",
            "ticks": ""
           },
           "bgcolor": "#E5ECF6",
           "caxis": {
            "gridcolor": "white",
            "linecolor": "white",
            "ticks": ""
           }
          },
          "title": {
           "x": 0.05
          },
          "xaxis": {
           "automargin": true,
           "gridcolor": "white",
           "linecolor": "white",
           "ticks": "",
           "title": {
            "standoff": 15
           },
           "zerolinecolor": "white",
           "zerolinewidth": 2
          },
          "yaxis": {
           "automargin": true,
           "gridcolor": "white",
           "linecolor": "white",
           "ticks": "",
           "title": {
            "standoff": 15
           },
           "zerolinecolor": "white",
           "zerolinewidth": 2
          }
         }
        },
        "title": {
         "text": "Predicted vs Actual Prices"
        },
        "xaxis": {
         "autorange": true,
         "range": [
          1.5052967540404725,
          27.494703245959528
         ],
         "title": {
          "text": "Actual Price (€)"
         },
         "type": "linear"
        },
        "yaxis": {
         "autorange": true,
         "range": [
          0.5462996120733008,
          27.339668441469826
         ],
         "title": {
          "text": "Predicted Price (€)"
         },
         "type": "linear"
        }
       }
      },
      "image/png": "[encoded data removed]",
      "text/html": [
       "<div>                            <div id=\"da09c131-7470-42b3-8e82-99e8dd1de7c4\" class=\"plotly-graph-div\" style=\"height:525px; width:100%;\"></div>            <script type=\"text/javascript\">                require([\"plotly\"], function(Plotly) {                    window.PLOTLYENV=window.PLOTLYENV || {};                                    if (document.getElementById(\"da09c131-7470-42b3-8e82-99e8dd1de7c4\")) {                    Plotly.newPlot(                        \"da09c131-7470-42b3-8e82-99e8dd1de7c4\",                        [{\"hoverinfo\":\"text\",\"hovertext\":[\"Actual: 3, Predicted: 7.60\",\"Actual: 4, Predicted: 14.75\",\"Actual: 6, Predicted: 2.82\",\"Actual: 6, Predicted: 8.28\",\"Actual: 6, Predicted: 18.46\",\"Actual: 6, Predicted: 12.47\",\"Actual: 11, Predicted: 14.58\",\"Actual: 12, Predicted: 12.90\",\"Actual: 13, Predicted: 18.19\",\"Actual: 14, Predicted: 14.98\",\"Actual: 14, Predicted: 17.77\",\"Actual: 18, Predicted: 15.92\",\"Actual: 21, Predicted: 14.76\",\"Actual: 22, Predicted: 20.60\",\"Actual: 22, Predicted: 15.82\",\"Actual: 22, Predicted: 19.33\",\"Actual: 23, Predicted: 20.58\",\"Actual: 24, Predicted: 17.15\",\"Actual: 3, Predicted: 7.60\",\"Actual: 4, Predicted: 14.75\",\"Actual: 6, Predicted: 2.82\",\"Actual: 6, Predicted: 8.28\",\"Actual: 7, Predicted: 18.46\",\"Actual: 7, Predicted: 12.47\",\"Actual: 11, Predicted: 14.58\",\"Actual: 12, Predicted: 12.90\",\"Actual: 14, Predicted: 18.19\",\"Actual: 14, Predicted: 14.98\",\"Actual: 15, Predicted: 17.77\",\"Actual: 18, Predicted: 15.92\",\"Actual: 21, Predicted: 14.76\",\"Actual: 22, Predicted: 20.60\",\"Actual: 23, Predicted: 15.82\",\"Actual: 23, Predicted: 19.33\",\"Actual: 23, Predicted: 20.58\",\"Actual: 24, Predicted: 17.15\",\"Actual: 4, Predicted: 7.60\",\"Actual: 5, Predicted: 14.75\",\"Actual: 7, Predicted: 2.82\",\"Actual: 7, Predicted: 8.28\",\"Actual: 7, Predicted: 18.46\",\"Actual: 7, Predicted: 12.47\",\"Actual: 12, Predicted: 14.58\",\"Actual: 12, Predicted: 12.90\",\"Actual: 14, Predicted: 18.19\",\"Actual: 14, Predicted: 14.98\",\"Actual: 15, Predicted: 17.77\",\"Actual: 18, Predicted: 15.92\",\"Actual: 21, Predicted: 14.76\",\"Actual: 22, Predicted: 20.60\",\"Actual: 23, Predicted: 15.82\",\"Actual: 23, Predicted: 19.33\",\"Actual: 23, Predicted: 20.58\",\"Actual: 24, Predicted: 17.15\",\"Actual: 17, Predicted: 18.26\",\"Actual: 20, Predicted: 22.20\",\"Actual: 4, Predicted: 7.60\",\"Actual: 5, Predicted: 14.75\",\"Actual: 7, Predicted: 2.82\",\"Actual: 7, Predicted: 8.28\",\"Actual: 7, Predicted: 18.46\",\"Actual: 7, Predicted: 12.47\",\"Actual: 12, Predicted: 14.58\",\"Actual: 12, Predicted: 12.90\",\"Actual: 14, Predicted: 18.19\",\"Actual: 15, Predicted: 14.98\",\"Actual: 15, Predicted: 17.77\",\"Actual: 18, Predicted: 15.92\",\"Actual: 21, Predicted: 14.76\",\"Actual: 23, Predicted: 20.60\",\"Actual: 23, Predicted: 15.82\",\"Actual: 23, Predicted: 19.33\",\"Actual: 24, Predicted: 20.58\",\"Actual: 25, Predicted: 17.15\",\"Actual: 4, Predicted: 7.60\",\"Actual: 5, Predicted: 14.75\",\"Actual: 7, Predicted: 2.82\",\"Actual: 7, Predicted: 8.28\",\"Actual: 7, Predicted: 18.46\",\"Actual: 7, Predicted: 12.47\",\"Actual: 12, Predicted: 14.58\",\"Actual: 13, Predicted: 12.90\",\"Actual: 14, Predicted: 18.19\",\"Actual: 15, Predicted: 14.98\",\"Actual: 15, Predicted: 17.77\",\"Actual: 19, Predicted: 15.92\",\"Actual: 21, Predicted: 14.76\",\"Actual: 23, Predicted: 20.60\",\"Actual: 23, Predicted: 15.82\",\"Actual: 23, Predicted: 19.33\",\"Actual: 24, Predicted: 20.58\",\"Actual: 25, Predicted: 17.15\",\"Actual: 4, Predicted: 7.60\",\"Actual: 5, Predicted: 14.75\",\"Actual: 7, Predicted: 2.82\",\"Actual: 7, Predicted: 8.28\",\"Actual: 7, Predicted: 18.46\",\"Actual: 8, Predicted: 12.47\",\"Actual: 12, Predicted: 14.58\",\"Actual: 13, Predicted: 12.90\",\"Actual: 14, Predicted: 18.19\",\"Actual: 15, Predicted: 14.98\",\"Actual: 15, Predicted: 17.77\",\"Actual: 19, Predicted: 15.92\",\"Actual: 22, Predicted: 14.76\",\"Actual: 23, Predicted: 20.60\",\"Actual: 23, Predicted: 15.82\",\"Actual: 23, Predicted: 19.33\",\"Actual: 24, Predicted: 20.58\",\"Actual: 25, Predicted: 17.15\",\"Actual: 17, Predicted: 19.72\",\"Actual: 5, Predicted: 7.60\",\"Actual: 5, Predicted: 14.75\",\"Actual: 7, Predicted: 2.82\",\"Actual: 7, Predicted: 8.28\",\"Actual: 8, Predicted: 18.46\",\"Actual: 8, Predicted: 12.47\",\"Actual: 12, Predicted: 14.58\",\"Actual: 13, Predicted: 12.90\",\"Actual: 15, Predicted: 18.19\",\"Actual: 15, Predicted: 14.98\",\"Actual: 16, Predicted: 17.77\",\"Actual: 19, Predicted: 15.92\",\"Actual: 22, Predicted: 14.76\",\"Actual: 23, Predicted: 20.60\",\"Actual: 24, Predicted: 15.82\",\"Actual: 24, Predicted: 19.33\",\"Actual: 24, Predicted: 20.58\",\"Actual: 25, Predicted: 17.15\",\"Actual: 5, Predicted: 7.60\",\"Actual: 6, Predicted: 14.75\",\"Actual: 8, Predicted: 2.82\",\"Actual: 8, Predicted: 8.28\",\"Actual: 8, Predicted: 18.46\",\"Actual: 8, Predicted: 12.47\",\"Actual: 13, Predicted: 14.58\",\"Actual: 13, Predicted: 12.90\",\"Actual: 15, Predicted: 18.19\",\"Actual: 16, Predicted: 14.98\",\"Actual: 16, Predicted: 17.77\",\"Actual: 19, Predicted: 15.92\",\"Actual: 22, Predicted: 14.76\",\"Actual: 23, Predicted: 20.60\",\"Actual: 24, Predicted: 15.82\",\"Actual: 24, Predicted: 19.33\",\"Actual: 24, Predicted: 20.58\",\"Actual: 26, Predicted: 17.15\",\"Actual: 17, Predicted: 18.26\",\"Actual: 5, Predicted: 7.60\",\"Actual: 6, Predicted: 14.75\",\"Actual: 8, Predicted: 2.82\",\"Actual: 8, Predicted: 8.28\",\"Actual: 8, Predicted: 18.46\",\"Actual: 8, Predicted: 12.47\",\"Actual: 13, Predicted: 14.58\",\"Actual: 13, Predicted: 12.90\",\"Actual: 15, Predicted: 18.19\",\"Actual: 16, Predicted: 14.98\",\"Actual: 16, Predicted: 17.77\",\"Actual: 20, Predicted: 15.92\",\"Actual: 22, Predicted: 14.76\",\"Actual: 24, Predicted: 20.60\",\"Actual: 24, Predicted: 15.82\",\"Actual: 24, Predicted: 19.33\",\"Actual: 25, Predicted: 20.58\",\"Actual: 26, Predicted: 17.15\",\"Actual: 5, Predicted: 7.60\",\"Actual: 6, Predicted: 14.75\",\"Actual: 8, Predicted: 2.82\",\"Actual: 8, Predicted: 8.28\",\"Actual: 8, Predicted: 18.46\",\"Actual: 8, Predicted: 12.47\",\"Actual: 13, Predicted: 14.58\",\"Actual: 14, Predicted: 12.90\",\"Actual: 15, Predicted: 18.19\",\"Actual: 16, Predicted: 14.98\",\"Actual: 16, Predicted: 17.77\",\"Actual: 20, Predicted: 15.92\",\"Actual: 23, Predicted: 14.76\",\"Actual: 24, Predicted: 20.60\",\"Actual: 24, Predicted: 15.82\",\"Actual: 24, Predicted: 19.33\",\"Actual: 25, Predicted: 20.58\",\"Actual: 26, Predicted: 17.15\",\"Actual: 5, Predicted: 7.60\",\"Actual: 6, Predicted: 14.75\",\"Actual: 8, Predicted: 2.82\",\"Actual: 8, Predicted: 8.28\",\"Actual: 9, Predicted: 18.46\",\"Actual: 9, Predicted: 12.47\",\"Actual: 13, Predicted: 14.58\",\"Actual: 14, Predicted: 12.90\",\"Actual: 16, Predicted: 18.19\",\"Actual: 16, Predicted: 14.98\",\"Actual: 17, Predicted: 17.77\",\"Actual: 20, Predicted: 15.92\",\"Actual: 23, Predicted: 14.76\",\"Actual: 24, Predicted: 20.60\",\"Actual: 25, Predicted: 15.82\",\"Actual: 25, Predicted: 19.33\",\"Actual: 25, Predicted: 20.58\",\"Actual: 26, Predicted: 17.15\",\"Actual: 17, Predicted: 22.85\",\"Actual: 6, Predicted: 7.60\",\"Actual: 7, Predicted: 14.75\",\"Actual: 9, Predicted: 2.82\"],\"marker\":{\"color\":\"blue\",\"opacity\":0.5,\"size\":10},\"mode\":\"markers\",\"name\":\"Predicted vs Actual\",\"x\":[3,4,6,6,6,6,11,12,13,14,14,18,21,22,22,22,23,24,3,4,6,6,7,7,11,12,14,14,15,18,21,22,23,23,23,24,4,5,7,7,7,7,12,12,14,14,15,18,21,22,23,23,23,24,17,20,4,5,7,7,7,7,12,12,14,15,15,18,21,23,23,23,24,25,4,5,7,7,7,7,12,13,14,15,15,19,21,23,23,23,24,25,4,5,7,7,7,8,12,13,14,15,15,19,22,23,23,23,24,25,17,5,5,7,7,8,8,12,13,15,15,16,19,22,23,24,24,24,25,5,6,8,8,8,8,13,13,15,16,16,19,22,23,24,24,24,26,17,5,6,8,8,8,8,13,13,15,16,16,20,22,24,24,24,25,26,5,6,8,8,8,8,13,14,15,16,16,20,23,24,24,24,25,26,5,6,8,8,9,9,13,14,16,16,17,20,23,24,25,25,25,26,17,6,7,9],\"y\":[7.596027222182031,14.752941710461492,2.8162933601193956,8.282552601455302,18.458159312632436,12.473134516233415,14.580792026287337,12.897423090032087,18.188988028752817,14.983014180647405,17.774278027164375,15.915714409179195,14.7556919234701,20.601026155530818,15.815315845706582,19.331514505858028,20.583918179897317,17.15246981482344,7.596027222182031,14.752941710461492,2.8162933601193956,8.282552601455302,18.458159312632436,12.473134516233415,14.580792026287337,12.897423090032087,18.188988028752817,14.983014180647405,17.774278027164375,15.915714409179195,14.7556919234701,20.601026155530818,15.815315845706582,19.331514505858028,20.583918179897317,17.15246981482344,7.596027222182031,14.752941710461492,2.8162933601193956,8.282552601455302,18.458159312632436,12.473134516233415,14.580792026287337,12.897423090032087,18.188988028752817,14.983014180647405,17.774278027164375,15.915714409179195,14.7556919234701,20.601026155530818,15.815315845706582,19.331514505858028,20.583918179897317,17.15246981482344,18.25736218568721,22.19703051417842,7.596027222182031,14.752941710461492,2.8162933601193956,8.282552601455302,18.458159312632436,12.473134516233415,14.580792026287337,12.897423090032087,18.188988028752817,14.983014180647405,17.774278027164375,15.915714409179195,14.7556919234701,20.601026155530818,15.815315845706582,19.331514505858028,20.583918179897317,17.15246981482344,7.596027222182031,14.752941710461492,2.8162933601193956,8.282552601455302,18.458159312632436,12.473134516233415,14.580792026287337,12.897423090032087,18.188988028752817,14.983014180647405,17.774278027164375,15.915714409179195,14.7556919234701,20.601026155530818,15.815315845706582,19.331514505858028,20.583918179897317,17.15246981482344,7.596027222182031,14.752941710461492,2.8162933601193956,8.282552601455302,18.458159312632436,12.473134516233415,14.580792026287337,12.897423090032087,18.188988028752817,14.983014180647405,17.774278027164375,15.915714409179195,14.7556919234701,20.601026155530818,15.815315845706582,19.331514505858028,20.583918179897317,17.15246981482344,19.72127651283528,7.596027222182031,14.752941710461492,2.8162933601193956,8.282552601455302,18.458159312632436,12.473134516233415,14.580792026287337,12.897423090032087,18.188988028752817,14.983014180647405,17.774278027164375,15.915714409179195,14.7556919234701,20.601026155530818,15.815315845706582,19.331514505858028,20.583918179897317,17.15246981482344,7.596027222182031,14.752941710461492,2.8162933601193956,8.282552601455302,18.458159312632436,12.473134516233415,14.580792026287337,12.897423090032087,18.188988028752817,14.983014180647405,17.774278027164375,15.915714409179195,14.7556919234701,20.601026155530818,15.815315845706582,19.331514505858028,20.583918179897317,17.15246981482344,18.25736218568721,7.596027222182031,14.752941710461492,2.8162933601193956,8.282552601455302,18.458159312632436,12.473134516233415,14.580792026287337,12.897423090032087,18.188988028752817,14.983014180647405,17.774278027164375,15.915714409179195,14.7556919234701,20.601026155530818,15.815315845706582,19.331514505858028,20.583918179897317,17.15246981482344,7.596027222182031,14.752941710461492,2.8162933601193956,8.282552601455302,18.458159312632436,12.473134516233415,14.580792026287337,12.897423090032087,18.188988028752817,14.983014180647405,17.774278027164375,15.915714409179195,14.7556919234701,20.601026155530818,15.815315845706582,19.331514505858028,20.583918179897317,17.15246981482344,7.596027222182031,14.752941710461492,2.8162933601193956,8.282552601455302,18.458159312632436,12.473134516233415,14.580792026287337,12.897423090032087,18.188988028752817,14.983014180647405,17.774278027164375,15.915714409179195,14.7556919234701,20.601026155530818,15.815315845706582,19.331514505858028,20.583918179897317,17.15246981482344,22.84990229407665,7.596027222182031,14.752941710461492,2.8162933601193956],\"type\":\"scatter\"},{\"line\":{\"color\":\"red\",\"dash\":\"dash\",\"width\":2},\"mode\":\"lines\",\"name\":\"Perfect Fit\",\"x\":[3,4,6,6,6,6,11,12,13,14,14,18,21,22,22,22,23,24,3,4,6,6,7,7,11,12,14,14,15,18,21,22,23,23,23,24,4,5,7,7,7,7,12,12,14,14,15,18,21,22,23,23,23,24,17,20,4,5,7,7,7,7,12,12,14,15,15,18,21,23,23,23,24,25,4,5,7,7,7,7,12,13,14,15,15,19,21,23,23,23,24,25,4,5,7,7,7,8,12,13,14,15,15,19,22,23,23,23,24,25,17,5,5,7,7,8,8,12,13,15,15,16,19,22,23,24,24,24,25,5,6,8,8,8,8,13,13,15,16,16,19,22,23,24,24,24,26,17,5,6,8,8,8,8,13,13,15,16,16,20,22,24,24,24,25,26,5,6,8,8,8,8,13,14,15,16,16,20,23,24,24,24,25,26,5,6,8,8,9,9,13,14,16,16,17,20,23,24,25,25,25,26,17,6,7,9],\"y\":[3,4,6,6,6,6,11,12,13,14,14,18,21,22,22,22,23,24,3,4,6,6,7,7,11,12,14,14,15,18,21,22,23,23,23,24,4,5,7,7,7,7,12,12,14,14,15,18,21,22,23,23,23,24,17,20,4,5,7,7,7,7,12,12,14,15,15,18,21,23,23,23,24,25,4,5,7,7,7,7,12,13,14,15,15,19,21,23,23,23,24,25,4,5,7,7,7,8,12,13,14,15,15,19,22,23,23,23,24,25,17,5,5,7,7,8,8,12,13,15,15,16,19,22,23,24,24,24,25,5,6,8,8,8,8,13,13,15,16,16,19,22,23,24,24,24,26,17,5,6,8,8,8,8,13,13,15,16,16,20,22,24,24,24,25,26,5,6,8,8,8,8,13,14,15,16,16,20,23,24,24,24,25,26,5,6,8,8,9,9,13,14,16,16,17,20,23,24,25,25,25,26,17,6,7,9],\"type\":\"scatter\"}],                        {\"template\":{\"data\":{\"histogram2dcontour\":[{\"type\":\"histogram2dcontour\",\"colorbar\":{\"outlinewidth\":0,\"ticks\":\"\"},\"colorscale\":[[0.0,\"#0d0887\"],[0.1111111111111111,\"#46039f\"],[0.2222222222222222,\"#7201a8\"],[0.3333333333333333,\"#9c179e\"],[0.4444444444444444,\"#bd3786\"],[0.5555555555555556,\"#d8576b\"],[0.6666666666666666,\"#ed7953\"],[0.7777777777777778,\"#fb9f3a\"],[0.8888888888888888,\"#fdca26\"],[1.0,\"#f0f921\"]]}],\"choropleth\":[{\"type\":\"choropleth\",\"colorbar\":{\"outlinewidth\":0,\"ticks\":\"\"}}],\"histogram2d\":[{\"type\":\"histogram2d\",\"colorbar\":{\"outlinewidth\":0,\"ticks\":\"\"},\"colorscale\":[[0.0,\"#0d0887\"],[0.1111111111111111,\"#46039f\"],[0.2222222222222222,\"#7201a8\"],[0.3333333333333333,\"#9c179e\"],[0.4444444444444444,\"#bd3786\"],[0.5555555555555556,\"#d8576b\"],[0.6666666666666666,\"#ed7953\"],[0.7777777777777778,\"#fb9f3a\"],[0.8888888888888888,\"#fdca26\"],[1.0,\"#f0f921\"]]}],\"heatmap\":[{\"type\":\"heatmap\",\"colorbar\":{\"outlinewidth\":0,\"ticks\":\"\"},\"colorscale\":[[0.0,\"#0d0887\"],[0.1111111111111111,\"#46039f\"],[0.2222222222222222,\"#7201a8\"],[0.3333333333333333,\"#9c179e\"],[0.4444444444444444,\"#bd3786\"],[0.5555555555555556,\"#d8576b\"],[0.6666666666666666,\"#ed7953\"],[0.7777777777777778,\"#fb9f3a\"],[0.8888888888888888,\"#fdca26\"],[1.0,\"#f0f921\"]]}],\"heatmapgl\":[{\"type\":\"heatmapgl\",\"colorbar\":{\"outlinewidth\":0,\"ticks\":\"\"},\"colorscale\":[[0.0,\"#0d0887\"],[0.1111111111111111,\"#46039f\"],[0.2222222222222222,\"#7201a8\"],[0.3333333333333333,\"#9c179e\"],[0.4444444444444444,\"#bd3786\"],[0.5555555555555556,\"#d8576b\"],[0.6666666666666666,\"#ed7953\"],[0.7777777777777778,\"#fb9f3a\"],[0.8888888888888888,\"#fdca26\"],[1.0,\"#f0f921\"]]}],\"contourcarpet\":[{\"type\":\"contourcarpet\",\"colorbar\":{\"outlinewidth\":0,\"ticks\":\"\"}}],\"contour\":[{\"type\":\"contour\",\"colorbar\":{\"outlinewidth\":0,\"ticks\":\"\"},\"colorscale\":[[0.0,\"#0d0887\"],[0.1111111111111111,\"#46039f\"],[0.2222222222222222,\"#7201a8\"],[0.3333333333333333,\"#9c179e\"],[0.4444444444444444,\"#bd3786\"],[0.5555555555555556,\"#d8576b\"],[0.6666666666666666,\"#ed7953\"],[0.7777777777777778,\"#fb9f3a\"],[0.8888888888888888,\"#fdca26\"],[1.0,\"#f0f921\"]]}],\"surface\":[{\"type\":\"surface\",\"colorbar\":{\"outlinewidth\":0,\"ticks\":\"\"},\"colorscale\":[[0.0,\"#0d0887\"],[0.1111111111111111,\"#46039f\"],[0.2222222222222222,\"#7201a8\"],[0.3333333333333333,\"#9c179e\"],[0.4444444444444444,\"#bd3786\"],[0.5555555555555556,\"#d8576b\"],[0.6666666666666666,\"#ed7953\"],[0.7777777777777778,\"#fb9f3a\"],[0.8888888888888888,\"#fdca26\"],[1.0,\"#f0f921\"]]}],\"mesh3d\":[{\"type\":\"mesh3d\",\"colorbar\":{\"outlinewidth\":0,\"ticks\":\"\"}}],\"scatter\":[{\"fillpattern\":{\"fillmode\":\"overlay\",\"size\":10,\"solidity\":0.2},\"type\":\"scatter\"}],\"parcoords\":[{\"type\":\"parcoords\",\"line\":{\"colorbar\":{\"outlinewidth\":0,\"ticks\":\"\"}}}],\"scatterpolargl\":[{\"type\":\"scatterpolargl\",\"marker\":{\"colorbar\":{\"outlinewidth\":0,\"ticks\":\"\"}}}],\"bar\":[{\"error_x\":{\"color\":\"#2a3f5f\"},\"error_y\":{\"color\":\"#2a3f5f\"},\"marker\":{\"line\":{\"color\":\"#E5ECF6\",\"width\":0.5},\"pattern\":{\"fillmode\":\"overlay\",\"size\":10,\"solidity\":0.2}},\"type\":\"bar\"}],\"scattergeo\":[{\"type\":\"scattergeo\",\"marker\":{\"colorbar\":{\"outlinewidth\":0,\"ticks\":\"\"}}}],\"scatterpolar\":[{\"type\":\"scatterpolar\",\"marker\":{\"colorbar\":{\"outlinewidth\":0,\"ticks\":\"\"}}}],\"histogram\":[{\"marker\":{\"pattern\":{\"fillmode\":\"overlay\",\"size\":10,\"solidity\":0.2}},\"type\":\"histogram\"}],\"scattergl\":[{\"type\":\"scattergl\",\"marker\":{\"colorbar\":{\"outlinewidth\":0,\"ticks\":\"\"}}}],\"scatter3d\":[{\"type\":\"scatter3d\",\"line\":{\"colorbar\":{\"outlinewidth\":0,\"ticks\":\"\"}},\"marker\":{\"colorbar\":{\"outlinewidth\":0,\"ticks\":\"\"}}}],\"scattermapbox\":[{\"type\":\"scattermapbox\",\"marker\":{\"colorbar\":{\"outlinewidth\":0,\"ticks\":\"\"}}}],\"scatterternary\":[{\"type\":\"scatterternary\",\"marker\":{\"colorbar\":{\"outlinewidth\":0,\"ticks\":\"\"}}}],\"scattercarpet\":[{\"type\":\"scattercarpet\",\"marker\":{\"colorbar\":{\"outlinewidth\":0,\"ticks\":\"\"}}}],\"carpet\":[{\"aaxis\":{\"endlinecolor\":\"#2a3f5f\",\"gridcolor\":\"white\",\"linecolor\":\"white\",\"minorgridcolor\":\"white\",\"startlinecolor\":\"#2a3f5f\"},\"baxis\":{\"endlinecolor\":\"#2a3f5f\",\"gridcolor\":\"white\",\"linecolor\":\"white\",\"minorgridcolor\":\"white\",\"startlinecolor\":\"#2a3f5f\"},\"type\":\"carpet\"}],\"table\":[{\"cells\":{\"fill\":{\"color\":\"#EBF0F8\"},\"line\":{\"color\":\"white\"}},\"header\":{\"fill\":{\"color\":\"#C8D4E3\"},\"line\":{\"color\":\"white\"}},\"type\":\"table\"}],\"barpolar\":[{\"marker\":{\"line\":{\"color\":\"#E5ECF6\",\"width\":0.5},\"pattern\":{\"fillmode\":\"overlay\",\"size\":10,\"solidity\":0.2}},\"type\":\"barpolar\"}],\"pie\":[{\"automargin\":true,\"type\":\"pie\"}]},\"layout\":{\"autotypenumbers\":\"strict\",\"colorway\":[\"#636efa\",\"#EF553B\",\"#00cc96\",\"#ab63fa\",\"#FFA15A\",\"#19d3f3\",\"#FF6692\",\"#B6E880\",\"#FF97FF\",\"#FECB52\"],\"font\":{\"color\":\"#2a3f5f\"},\"hovermode\":\"closest\",\"hoverlabel\":{\"align\":\"left\"},\"paper_bgcolor\":\"white\",\"plot_bgcolor\":\"#E5ECF6\",\"polar\":{\"bgcolor\":\"#E5ECF6\",\"angularaxis\":{\"gridcolor\":\"white\",\"linecolor\":\"white\",\"ticks\":\"\"},\"radialaxis\":{\"gridcolor\":\"white\",\"linecolor\":\"white\",\"ticks\":\"\"}},\"ternary\":{\"bgcolor\":\"#E5ECF6\",\"aaxis\":{\"gridcolor\":\"white\",\"linecolor\":\"white\",\"ticks\":\"\"},\"baxis\":{\"gridcolor\":\"white\",\"linecolor\":\"white\",\"ticks\":\"\"},\"caxis\":{\"gridcolor\":\"white\",\"linecolor\":\"white\",\"ticks\":\"\"}},\"coloraxis\":{\"colorbar\":{\"outlinewidth\":0,\"ticks\":\"\"}},\"colorscale\":{\"sequential\":[[0.0,\"#0d0887\"],[0.1111111111111111,\"#46039f\"],[0.2222222222222222,\"#7201a8\"],[0.3333333333333333,\"#9c179e\"],[0.4444444444444444,\"#bd3786\"],[0.5555555555555556,\"#d8576b\"],[0.6666666666666666,\"#ed7953\"],[0.7777777777777778,\"#fb9f3a\"],[0.8888888888888888,\"#fdca26\"],[1.0,\"#f0f921\"]],\"sequentialminus\":[[0.0,\"#0d0887\"],[0.1111111111111111,\"#46039f\"],[0.2222222222222222,\"#7201a8\"],[0.3333333333333333,\"#9c179e\"],[0.4444444444444444,\"#bd3786\"],[0.5555555555555556,\"#d8576b\"],[0.6666666666666666,\"#ed7953\"],[0.7777777777777778,\"#fb9f3a\"],[0.8888888888888888,\"#fdca26\"],[1.0,\"#f0f921\"]],\"diverging\":[[0,\"#8e0152\"],[0.1,\"#c51b7d\"],[0.2,\"#de77ae\"],[0.3,\"#f1b6da\"],[0.4,\"#fde0ef\"],[0.5,\"#f7f7f7\"],[0.6,\"#e6f5d0\"],[0.7,\"#b8e186\"],[0.8,\"#7fbc41\"],[0.9,\"#4d9221\"],[1,\"#276419\"]]},\"xaxis\":{\"gridcolor\":\"white\",\"linecolor\":\"white\",\"ticks\":\"\",\"title\":{\"standoff\":15},\"zerolinecolor\":\"white\",\"automargin\":true,\"zerolinewidth\":2},\"yaxis\":{\"gridcolor\":\"white\",\"linecolor\":\"white\",\"ticks\":\"\",\"title\":{\"standoff\":15},\"zerolinecolor\":\"white\",\"automargin\":true,\"zerolinewidth\":2},\"scene\":{\"xaxis\":{\"backgroundcolor\":\"#E5ECF6\",\"gridcolor\":\"white\",\"linecolor\":\"white\",\"showbackground\":true,\"ticks\":\"\",\"zerolinecolor\":\"white\",\"gridwidth\":2},\"yaxis\":{\"backgroundcolor\":\"#E5ECF6\",\"gridcolor\":\"white\",\"linecolor\":\"white\",\"showbackground\":true,\"ticks\":\"\",\"zerolinecolor\":\"white\",\"gridwidth\":2},\"zaxis\":{\"backgroundcolor\":\"#E5ECF6\",\"gridcolor\":\"white\",\"linecolor\":\"white\",\"showbackground\":true,\"ticks\":\"\",\"zerolinecolor\":\"white\",\"gridwidth\":2}},\"shapedefaults\":{\"line\":{\"color\":\"#2a3f5f\"}},\"annotationdefaults\":{\"arrowcolor\":\"#2a3f5f\",\"arrowhead\":0,\"arrowwidth\":1},\"geo\":{\"bgcolor\":\"white\",\"landcolor\":\"#E5ECF6\",\"subunitcolor\":\"white\",\"showland\":true,\"showlakes\":true,\"lakecolor\":\"white\"},\"title\":{\"x\":0.05},\"mapbox\":{\"style\":\"light\"}}},\"title\":{\"text\":\"Predicted vs Actual Prices\"},\"xaxis\":{\"title\":{\"text\":\"Actual Price (\\u20ac)\"}},\"yaxis\":{\"title\":{\"text\":\"Predicted Price (\\u20ac)\"}},\"legend\":{\"title\":{\"text\":\"Legend\"}}},                        {\"responsive\": true}                    ).then(function(){\n",
       "                            \n",
       "var gd = document.getElementById('da09c131-7470-42b3-8e82-99e8dd1de7c4');\n",
       "var x = new MutationObserver(function (mutations, observer) {{\n",
       "        var display = window.getComputedStyle(gd).display;\n",
       "        if (!display || display === 'none') {{\n",
       "            console.log([gd, 'removed!']);\n",
       "            Plotly.purge(gd);\n",
       "            observer.disconnect();\n",
       "        }}\n",
       "}});\n",
       "\n",
       "// Listen for the removal of the full notebook cells\n",
       "var notebookContainer = gd.closest('#notebook-container');\n",
       "if (notebookContainer) {{\n",
       "    x.observe(notebookContainer, {childList: true});\n",
       "}}\n",
       "\n",
       "// Listen for the clearing of the current output cell\n",
       "var outputEl = gd.closest('.output');\n",
       "if (outputEl) {{\n",
       "    x.observe(outputEl, {childList: true});\n",
       "}}\n",
       "\n",
       "                        })                };                });            </script>        </div>"
      ]
     },
     "metadata": {},
     "output_type": "display_data"
    }
   ],
   "source": [
    "import pandas as pd\n",
    "import statsmodels.api as sm\n",
    "import plotly.graph_objects as go\n",
    "\n",
    "# Load the data from the Excel file\n",
    "df = pd.read_excel('in_depth_analysis.xlsx')\n",
    "\n",
    "# Select the dependent variable (Price) and independent variables\n",
    "X = df[['Size', 'WG Type', 'Price', 'Health Centers Proximity', 'Low-crime Areas Proximity',\n",
    "        'Berlin Hauptbahnhof Proximity', 'Berlin Brandenburg Airport Proximity', 'Cinemas Proximity']]\n",
    "y = df['Online Duration']\n",
    "\n",
    "# Adding a constant to the model (intercept)\n",
    "X = sm.add_constant(X)\n",
    "\n",
    "# Fit an OLS regression model\n",
    "model = sm.OLS(y, X).fit()\n",
    "\n",
    "# Predict the prices using the fitted model\n",
    "predictions = model.predict(X)\n",
    "\n",
    "# Create a scatter plot using Plotly\n",
    "fig = go.Figure()\n",
    "\n",
    "# Add actual prices scatter plot\n",
    "fig.add_trace(go.Scatter(x=y, y=predictions, mode='markers', name='Predicted vs Actual',\n",
    "                         marker=dict(color='blue', size=10, opacity=0.5),\n",
    "                         hoverinfo='text',\n",
    "                         hovertext=[f'Actual: {a}, Predicted: {p:.2f}' for a, p in zip(y, predictions)]))\n",
    "\n",
    "# Add line for perfect fit\n",
    "fig.add_trace(go.Scatter(x=y, y=y, mode='lines', name='Perfect Fit',\n",
    "                         line=dict(color='red', width=2, dash='dash')))\n",
    "\n",
    "# Set plot layout\n",
    "fig.update_layout(title='Predicted vs Actual Prices',\n",
    "                  xaxis_title='Actual Price (€)',\n",
    "                  yaxis_title='Predicted Price (€)',\n",
    "                  legend_title='Legend')\n",
    "\n",
    "# Show the figure\n",
    "fig.show()"
   ]
  }
 ],
 "metadata": {
  "kernelspec": {
   "display_name": "Python 3 (ipykernel)",
   "language": "python",
   "name": "python3"
  },
  "language_info": {
   "codemirror_mode": {
    "name": "ipython",
    "version": 3
   },
   "file_extension": ".py",
   "mimetype": "text/x-python",
   "name": "python",
   "nbconvert_exporter": "python",
   "pygments_lexer": "ipython3",
   "version": "3.10.13"
  }
 },
 "nbformat": 4,
 "nbformat_minor": 5
}
